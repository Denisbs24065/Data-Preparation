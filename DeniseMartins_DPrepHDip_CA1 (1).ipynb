{
 "cells": [
  {
   "cell_type": "markdown",
   "id": "597e4e92",
   "metadata": {},
   "source": [
    "Introdution\n",
    "\n",
    "\n",
    "\n",
    "\n",
    "...."
   ]
  },
  {
   "cell_type": "markdown",
   "id": "01084453",
   "metadata": {},
   "source": [
    "# Importing Library"
   ]
  },
  {
   "cell_type": "code",
   "execution_count": 1,
   "id": "c2de0e70",
   "metadata": {},
   "outputs": [],
   "source": [
    "import pandas as pd\n",
    "import seaborn as sns\n",
    "from sklearn.tree import DecisionTreeClassifier, plot_tree      \n",
    "from sklearn.model_selection import train_test_split  \n",
    "from sklearn import metrics                          \n",
    "from sklearn import tree\n",
    "import matplotlib.pyplot as plt\n",
    "import numpy as np\n",
    "from sklearn.decomposition import PCA\n",
    "%matplotlib inline\n",
    "sns.set()"
   ]
  },
  {
   "cell_type": "markdown",
   "id": "752bd3b5",
   "metadata": {},
   "source": [
    "After downloading my entire library, which I will use throughout my analyse, I also download my archive which I will call student_data_df, with the file downloaded, I'll get the first information."
   ]
  },
  {
   "cell_type": "code",
   "execution_count": 2,
   "id": "695c324e",
   "metadata": {},
   "outputs": [],
   "source": [
    "student_data_df = pd.read_csv('student_data.csv')"
   ]
  },
  {
   "cell_type": "code",
   "execution_count": 3,
   "id": "a2dd24fa",
   "metadata": {},
   "outputs": [
    {
     "data": {
      "text/html": [
       "<div>\n",
       "<style scoped>\n",
       "    .dataframe tbody tr th:only-of-type {\n",
       "        vertical-align: middle;\n",
       "    }\n",
       "\n",
       "    .dataframe tbody tr th {\n",
       "        vertical-align: top;\n",
       "    }\n",
       "\n",
       "    .dataframe thead th {\n",
       "        text-align: right;\n",
       "    }\n",
       "</style>\n",
       "<table border=\"1\" class=\"dataframe\">\n",
       "  <thead>\n",
       "    <tr style=\"text-align: right;\">\n",
       "      <th></th>\n",
       "      <th>Marital status</th>\n",
       "      <th>Application mode</th>\n",
       "      <th>Application order</th>\n",
       "      <th>Course</th>\n",
       "      <th>Daytime/evening attendance</th>\n",
       "      <th>Previous qualification</th>\n",
       "      <th>Previous qualification (grade)</th>\n",
       "      <th>Nacionality</th>\n",
       "      <th>Mother's qualification</th>\n",
       "      <th>Father's qualification</th>\n",
       "      <th>...</th>\n",
       "      <th>Curricular units 2nd sem (credited)</th>\n",
       "      <th>Curricular units 2nd sem (enrolled)</th>\n",
       "      <th>Curricular units 2nd sem (evaluations)</th>\n",
       "      <th>Curricular units 2nd sem (approved)</th>\n",
       "      <th>Curricular units 2nd sem (grade)</th>\n",
       "      <th>Curricular units 2nd sem (without evaluations)</th>\n",
       "      <th>Unemployment rate</th>\n",
       "      <th>Inflation rate</th>\n",
       "      <th>GDP</th>\n",
       "      <th>Target</th>\n",
       "    </tr>\n",
       "  </thead>\n",
       "  <tbody>\n",
       "    <tr>\n",
       "      <th>0</th>\n",
       "      <td>1</td>\n",
       "      <td>17</td>\n",
       "      <td>5</td>\n",
       "      <td>171.0</td>\n",
       "      <td>1</td>\n",
       "      <td>1</td>\n",
       "      <td>122.0</td>\n",
       "      <td>1</td>\n",
       "      <td>19</td>\n",
       "      <td>12.0</td>\n",
       "      <td>...</td>\n",
       "      <td>0</td>\n",
       "      <td>0.0</td>\n",
       "      <td>0</td>\n",
       "      <td>0</td>\n",
       "      <td>0.000000</td>\n",
       "      <td>0</td>\n",
       "      <td>10.8</td>\n",
       "      <td>1.4</td>\n",
       "      <td>1.74</td>\n",
       "      <td>Dropout</td>\n",
       "    </tr>\n",
       "    <tr>\n",
       "      <th>1</th>\n",
       "      <td>1</td>\n",
       "      <td>15</td>\n",
       "      <td>1</td>\n",
       "      <td>9254.0</td>\n",
       "      <td>1</td>\n",
       "      <td>1</td>\n",
       "      <td>160.0</td>\n",
       "      <td>1</td>\n",
       "      <td>1</td>\n",
       "      <td>3.0</td>\n",
       "      <td>...</td>\n",
       "      <td>0</td>\n",
       "      <td>6.0</td>\n",
       "      <td>6</td>\n",
       "      <td>6</td>\n",
       "      <td>13.666667</td>\n",
       "      <td>0</td>\n",
       "      <td>13.9</td>\n",
       "      <td>-0.3</td>\n",
       "      <td>0.79</td>\n",
       "      <td>Graduate</td>\n",
       "    </tr>\n",
       "    <tr>\n",
       "      <th>2</th>\n",
       "      <td>1</td>\n",
       "      <td>1</td>\n",
       "      <td>5</td>\n",
       "      <td>9070.0</td>\n",
       "      <td>1</td>\n",
       "      <td>1</td>\n",
       "      <td>122.0</td>\n",
       "      <td>1</td>\n",
       "      <td>37</td>\n",
       "      <td>37.0</td>\n",
       "      <td>...</td>\n",
       "      <td>0</td>\n",
       "      <td>6.0</td>\n",
       "      <td>0</td>\n",
       "      <td>0</td>\n",
       "      <td>0.000000</td>\n",
       "      <td>0</td>\n",
       "      <td>10.8</td>\n",
       "      <td>1.4</td>\n",
       "      <td>1.74</td>\n",
       "      <td>Dropout</td>\n",
       "    </tr>\n",
       "    <tr>\n",
       "      <th>3</th>\n",
       "      <td>1</td>\n",
       "      <td>17</td>\n",
       "      <td>2</td>\n",
       "      <td>9773.0</td>\n",
       "      <td>1</td>\n",
       "      <td>1</td>\n",
       "      <td>122.0</td>\n",
       "      <td>1</td>\n",
       "      <td>38</td>\n",
       "      <td>37.0</td>\n",
       "      <td>...</td>\n",
       "      <td>0</td>\n",
       "      <td>6.0</td>\n",
       "      <td>10</td>\n",
       "      <td>5</td>\n",
       "      <td>12.400000</td>\n",
       "      <td>0</td>\n",
       "      <td>9.4</td>\n",
       "      <td>-0.8</td>\n",
       "      <td>-3.12</td>\n",
       "      <td>Graduate</td>\n",
       "    </tr>\n",
       "    <tr>\n",
       "      <th>4</th>\n",
       "      <td>2</td>\n",
       "      <td>39</td>\n",
       "      <td>1</td>\n",
       "      <td>8014.0</td>\n",
       "      <td>0</td>\n",
       "      <td>1</td>\n",
       "      <td>100.0</td>\n",
       "      <td>1</td>\n",
       "      <td>37</td>\n",
       "      <td>38.0</td>\n",
       "      <td>...</td>\n",
       "      <td>0</td>\n",
       "      <td>6.0</td>\n",
       "      <td>6</td>\n",
       "      <td>6</td>\n",
       "      <td>13.000000</td>\n",
       "      <td>0</td>\n",
       "      <td>13.9</td>\n",
       "      <td>-0.3</td>\n",
       "      <td>0.79</td>\n",
       "      <td>Graduate</td>\n",
       "    </tr>\n",
       "    <tr>\n",
       "      <th>...</th>\n",
       "      <td>...</td>\n",
       "      <td>...</td>\n",
       "      <td>...</td>\n",
       "      <td>...</td>\n",
       "      <td>...</td>\n",
       "      <td>...</td>\n",
       "      <td>...</td>\n",
       "      <td>...</td>\n",
       "      <td>...</td>\n",
       "      <td>...</td>\n",
       "      <td>...</td>\n",
       "      <td>...</td>\n",
       "      <td>...</td>\n",
       "      <td>...</td>\n",
       "      <td>...</td>\n",
       "      <td>...</td>\n",
       "      <td>...</td>\n",
       "      <td>...</td>\n",
       "      <td>...</td>\n",
       "      <td>...</td>\n",
       "      <td>...</td>\n",
       "    </tr>\n",
       "    <tr>\n",
       "      <th>4419</th>\n",
       "      <td>1</td>\n",
       "      <td>1</td>\n",
       "      <td>6</td>\n",
       "      <td>9773.0</td>\n",
       "      <td>1</td>\n",
       "      <td>1</td>\n",
       "      <td>125.0</td>\n",
       "      <td>1</td>\n",
       "      <td>1</td>\n",
       "      <td>1.0</td>\n",
       "      <td>...</td>\n",
       "      <td>0</td>\n",
       "      <td>6.0</td>\n",
       "      <td>8</td>\n",
       "      <td>5</td>\n",
       "      <td>12.666667</td>\n",
       "      <td>0</td>\n",
       "      <td>15.5</td>\n",
       "      <td>2.8</td>\n",
       "      <td>-4.06</td>\n",
       "      <td>Graduate</td>\n",
       "    </tr>\n",
       "    <tr>\n",
       "      <th>4420</th>\n",
       "      <td>1</td>\n",
       "      <td>1</td>\n",
       "      <td>2</td>\n",
       "      <td>9773.0</td>\n",
       "      <td>1</td>\n",
       "      <td>1</td>\n",
       "      <td>120.0</td>\n",
       "      <td>105</td>\n",
       "      <td>1</td>\n",
       "      <td>1.0</td>\n",
       "      <td>...</td>\n",
       "      <td>0</td>\n",
       "      <td>6.0</td>\n",
       "      <td>6</td>\n",
       "      <td>2</td>\n",
       "      <td>11.000000</td>\n",
       "      <td>0</td>\n",
       "      <td>11.1</td>\n",
       "      <td>0.6</td>\n",
       "      <td>2.02</td>\n",
       "      <td>Dropout</td>\n",
       "    </tr>\n",
       "    <tr>\n",
       "      <th>4421</th>\n",
       "      <td>1</td>\n",
       "      <td>1</td>\n",
       "      <td>1</td>\n",
       "      <td>9500.0</td>\n",
       "      <td>1</td>\n",
       "      <td>1</td>\n",
       "      <td>154.0</td>\n",
       "      <td>1</td>\n",
       "      <td>37</td>\n",
       "      <td>37.0</td>\n",
       "      <td>...</td>\n",
       "      <td>0</td>\n",
       "      <td>8.0</td>\n",
       "      <td>9</td>\n",
       "      <td>1</td>\n",
       "      <td>13.500000</td>\n",
       "      <td>0</td>\n",
       "      <td>13.9</td>\n",
       "      <td>-0.3</td>\n",
       "      <td>0.79</td>\n",
       "      <td>Dropout</td>\n",
       "    </tr>\n",
       "    <tr>\n",
       "      <th>4422</th>\n",
       "      <td>1</td>\n",
       "      <td>1</td>\n",
       "      <td>1</td>\n",
       "      <td>9147.0</td>\n",
       "      <td>1</td>\n",
       "      <td>1</td>\n",
       "      <td>180.0</td>\n",
       "      <td>1</td>\n",
       "      <td>37</td>\n",
       "      <td>37.0</td>\n",
       "      <td>...</td>\n",
       "      <td>0</td>\n",
       "      <td>5.0</td>\n",
       "      <td>6</td>\n",
       "      <td>5</td>\n",
       "      <td>12.000000</td>\n",
       "      <td>0</td>\n",
       "      <td>9.4</td>\n",
       "      <td>-0.8</td>\n",
       "      <td>-3.12</td>\n",
       "      <td>Graduate</td>\n",
       "    </tr>\n",
       "    <tr>\n",
       "      <th>4423</th>\n",
       "      <td>1</td>\n",
       "      <td>10</td>\n",
       "      <td>1</td>\n",
       "      <td>9773.0</td>\n",
       "      <td>1</td>\n",
       "      <td>1</td>\n",
       "      <td>152.0</td>\n",
       "      <td>22</td>\n",
       "      <td>38</td>\n",
       "      <td>37.0</td>\n",
       "      <td>...</td>\n",
       "      <td>0</td>\n",
       "      <td>6.0</td>\n",
       "      <td>6</td>\n",
       "      <td>6</td>\n",
       "      <td>13.000000</td>\n",
       "      <td>0</td>\n",
       "      <td>12.7</td>\n",
       "      <td>3.7</td>\n",
       "      <td>-1.70</td>\n",
       "      <td>Graduate</td>\n",
       "    </tr>\n",
       "  </tbody>\n",
       "</table>\n",
       "<p>4424 rows × 37 columns</p>\n",
       "</div>"
      ],
      "text/plain": [
       "     Marital status  Application mode  Application order  Course  \\\n",
       "0                 1                17                  5   171.0   \n",
       "1                 1                15                  1  9254.0   \n",
       "2                 1                 1                  5  9070.0   \n",
       "3                 1                17                  2  9773.0   \n",
       "4                 2                39                  1  8014.0   \n",
       "...             ...               ...                ...     ...   \n",
       "4419              1                 1                  6  9773.0   \n",
       "4420              1                 1                  2  9773.0   \n",
       "4421              1                 1                  1  9500.0   \n",
       "4422              1                 1                  1  9147.0   \n",
       "4423              1                10                  1  9773.0   \n",
       "\n",
       "      Daytime/evening attendance  Previous qualification  \\\n",
       "0                              1                       1   \n",
       "1                              1                       1   \n",
       "2                              1                       1   \n",
       "3                              1                       1   \n",
       "4                              0                       1   \n",
       "...                          ...                     ...   \n",
       "4419                           1                       1   \n",
       "4420                           1                       1   \n",
       "4421                           1                       1   \n",
       "4422                           1                       1   \n",
       "4423                           1                       1   \n",
       "\n",
       "      Previous qualification (grade)  Nacionality  Mother's qualification  \\\n",
       "0                              122.0            1                      19   \n",
       "1                              160.0            1                       1   \n",
       "2                              122.0            1                      37   \n",
       "3                              122.0            1                      38   \n",
       "4                              100.0            1                      37   \n",
       "...                              ...          ...                     ...   \n",
       "4419                           125.0            1                       1   \n",
       "4420                           120.0          105                       1   \n",
       "4421                           154.0            1                      37   \n",
       "4422                           180.0            1                      37   \n",
       "4423                           152.0           22                      38   \n",
       "\n",
       "      Father's qualification  ...  Curricular units 2nd sem (credited)  \\\n",
       "0                       12.0  ...                                    0   \n",
       "1                        3.0  ...                                    0   \n",
       "2                       37.0  ...                                    0   \n",
       "3                       37.0  ...                                    0   \n",
       "4                       38.0  ...                                    0   \n",
       "...                      ...  ...                                  ...   \n",
       "4419                     1.0  ...                                    0   \n",
       "4420                     1.0  ...                                    0   \n",
       "4421                    37.0  ...                                    0   \n",
       "4422                    37.0  ...                                    0   \n",
       "4423                    37.0  ...                                    0   \n",
       "\n",
       "      Curricular units 2nd sem (enrolled)  \\\n",
       "0                                     0.0   \n",
       "1                                     6.0   \n",
       "2                                     6.0   \n",
       "3                                     6.0   \n",
       "4                                     6.0   \n",
       "...                                   ...   \n",
       "4419                                  6.0   \n",
       "4420                                  6.0   \n",
       "4421                                  8.0   \n",
       "4422                                  5.0   \n",
       "4423                                  6.0   \n",
       "\n",
       "      Curricular units 2nd sem (evaluations)  \\\n",
       "0                                          0   \n",
       "1                                          6   \n",
       "2                                          0   \n",
       "3                                         10   \n",
       "4                                          6   \n",
       "...                                      ...   \n",
       "4419                                       8   \n",
       "4420                                       6   \n",
       "4421                                       9   \n",
       "4422                                       6   \n",
       "4423                                       6   \n",
       "\n",
       "     Curricular units 2nd sem (approved)  Curricular units 2nd sem (grade)  \\\n",
       "0                                      0                          0.000000   \n",
       "1                                      6                         13.666667   \n",
       "2                                      0                          0.000000   \n",
       "3                                      5                         12.400000   \n",
       "4                                      6                         13.000000   \n",
       "...                                  ...                               ...   \n",
       "4419                                   5                         12.666667   \n",
       "4420                                   2                         11.000000   \n",
       "4421                                   1                         13.500000   \n",
       "4422                                   5                         12.000000   \n",
       "4423                                   6                         13.000000   \n",
       "\n",
       "      Curricular units 2nd sem (without evaluations) Unemployment rate  \\\n",
       "0                                                  0              10.8   \n",
       "1                                                  0              13.9   \n",
       "2                                                  0              10.8   \n",
       "3                                                  0               9.4   \n",
       "4                                                  0              13.9   \n",
       "...                                              ...               ...   \n",
       "4419                                               0              15.5   \n",
       "4420                                               0              11.1   \n",
       "4421                                               0              13.9   \n",
       "4422                                               0               9.4   \n",
       "4423                                               0              12.7   \n",
       "\n",
       "      Inflation rate   GDP    Target  \n",
       "0                1.4  1.74   Dropout  \n",
       "1               -0.3  0.79  Graduate  \n",
       "2                1.4  1.74   Dropout  \n",
       "3               -0.8 -3.12  Graduate  \n",
       "4               -0.3  0.79  Graduate  \n",
       "...              ...   ...       ...  \n",
       "4419             2.8 -4.06  Graduate  \n",
       "4420             0.6  2.02   Dropout  \n",
       "4421            -0.3  0.79   Dropout  \n",
       "4422            -0.8 -3.12  Graduate  \n",
       "4423             3.7 -1.70  Graduate  \n",
       "\n",
       "[4424 rows x 37 columns]"
      ]
     },
     "execution_count": 3,
     "metadata": {},
     "output_type": "execute_result"
    }
   ],
   "source": [
    "student_data_df"
   ]
  },
  {
   "cell_type": "markdown",
   "id": "d4e34c35",
   "metadata": {},
   "source": [
    "# Cleaning Dataset"
   ]
  },
  {
   "cell_type": "markdown",
   "id": "9a42d3c8",
   "metadata": {},
   "source": [
    "At first look, we can see that it is a very large file with 4424 rowns and 37 columns. Analyzing the columns, I see that many of them do not have a direct link with the purpose of the study. So, to begin with, I need to identify which columns will be important for my analysis. So I decide to clean up the columns first, deleting the possibility of duplicates for example."
   ]
  },
  {
   "cell_type": "code",
   "execution_count": 4,
   "id": "500732b9",
   "metadata": {},
   "outputs": [
    {
     "data": {
      "text/html": [
       "<div>\n",
       "<style scoped>\n",
       "    .dataframe tbody tr th:only-of-type {\n",
       "        vertical-align: middle;\n",
       "    }\n",
       "\n",
       "    .dataframe tbody tr th {\n",
       "        vertical-align: top;\n",
       "    }\n",
       "\n",
       "    .dataframe thead th {\n",
       "        text-align: right;\n",
       "    }\n",
       "</style>\n",
       "<table border=\"1\" class=\"dataframe\">\n",
       "  <thead>\n",
       "    <tr style=\"text-align: right;\">\n",
       "      <th></th>\n",
       "      <th>Marital status</th>\n",
       "      <th>Application mode</th>\n",
       "      <th>Application order</th>\n",
       "      <th>Course</th>\n",
       "      <th>Daytime/evening attendance</th>\n",
       "      <th>Previous qualification</th>\n",
       "      <th>Previous qualification (grade)</th>\n",
       "      <th>Nacionality</th>\n",
       "      <th>Mother's qualification</th>\n",
       "      <th>Father's qualification</th>\n",
       "      <th>...</th>\n",
       "      <th>Curricular units 2nd sem (credited)</th>\n",
       "      <th>Curricular units 2nd sem (enrolled)</th>\n",
       "      <th>Curricular units 2nd sem (evaluations)</th>\n",
       "      <th>Curricular units 2nd sem (approved)</th>\n",
       "      <th>Curricular units 2nd sem (grade)</th>\n",
       "      <th>Curricular units 2nd sem (without evaluations)</th>\n",
       "      <th>Unemployment rate</th>\n",
       "      <th>Inflation rate</th>\n",
       "      <th>GDP</th>\n",
       "      <th>Target</th>\n",
       "    </tr>\n",
       "  </thead>\n",
       "  <tbody>\n",
       "    <tr>\n",
       "      <th>0</th>\n",
       "      <td>1</td>\n",
       "      <td>17</td>\n",
       "      <td>5</td>\n",
       "      <td>171.0</td>\n",
       "      <td>1</td>\n",
       "      <td>1</td>\n",
       "      <td>122.0</td>\n",
       "      <td>1</td>\n",
       "      <td>19</td>\n",
       "      <td>12.0</td>\n",
       "      <td>...</td>\n",
       "      <td>0</td>\n",
       "      <td>0.0</td>\n",
       "      <td>0</td>\n",
       "      <td>0</td>\n",
       "      <td>0.000000</td>\n",
       "      <td>0</td>\n",
       "      <td>10.8</td>\n",
       "      <td>1.4</td>\n",
       "      <td>1.74</td>\n",
       "      <td>Dropout</td>\n",
       "    </tr>\n",
       "    <tr>\n",
       "      <th>1</th>\n",
       "      <td>1</td>\n",
       "      <td>15</td>\n",
       "      <td>1</td>\n",
       "      <td>9254.0</td>\n",
       "      <td>1</td>\n",
       "      <td>1</td>\n",
       "      <td>160.0</td>\n",
       "      <td>1</td>\n",
       "      <td>1</td>\n",
       "      <td>3.0</td>\n",
       "      <td>...</td>\n",
       "      <td>0</td>\n",
       "      <td>6.0</td>\n",
       "      <td>6</td>\n",
       "      <td>6</td>\n",
       "      <td>13.666667</td>\n",
       "      <td>0</td>\n",
       "      <td>13.9</td>\n",
       "      <td>-0.3</td>\n",
       "      <td>0.79</td>\n",
       "      <td>Graduate</td>\n",
       "    </tr>\n",
       "    <tr>\n",
       "      <th>2</th>\n",
       "      <td>1</td>\n",
       "      <td>1</td>\n",
       "      <td>5</td>\n",
       "      <td>9070.0</td>\n",
       "      <td>1</td>\n",
       "      <td>1</td>\n",
       "      <td>122.0</td>\n",
       "      <td>1</td>\n",
       "      <td>37</td>\n",
       "      <td>37.0</td>\n",
       "      <td>...</td>\n",
       "      <td>0</td>\n",
       "      <td>6.0</td>\n",
       "      <td>0</td>\n",
       "      <td>0</td>\n",
       "      <td>0.000000</td>\n",
       "      <td>0</td>\n",
       "      <td>10.8</td>\n",
       "      <td>1.4</td>\n",
       "      <td>1.74</td>\n",
       "      <td>Dropout</td>\n",
       "    </tr>\n",
       "    <tr>\n",
       "      <th>3</th>\n",
       "      <td>1</td>\n",
       "      <td>17</td>\n",
       "      <td>2</td>\n",
       "      <td>9773.0</td>\n",
       "      <td>1</td>\n",
       "      <td>1</td>\n",
       "      <td>122.0</td>\n",
       "      <td>1</td>\n",
       "      <td>38</td>\n",
       "      <td>37.0</td>\n",
       "      <td>...</td>\n",
       "      <td>0</td>\n",
       "      <td>6.0</td>\n",
       "      <td>10</td>\n",
       "      <td>5</td>\n",
       "      <td>12.400000</td>\n",
       "      <td>0</td>\n",
       "      <td>9.4</td>\n",
       "      <td>-0.8</td>\n",
       "      <td>-3.12</td>\n",
       "      <td>Graduate</td>\n",
       "    </tr>\n",
       "    <tr>\n",
       "      <th>4</th>\n",
       "      <td>2</td>\n",
       "      <td>39</td>\n",
       "      <td>1</td>\n",
       "      <td>8014.0</td>\n",
       "      <td>0</td>\n",
       "      <td>1</td>\n",
       "      <td>100.0</td>\n",
       "      <td>1</td>\n",
       "      <td>37</td>\n",
       "      <td>38.0</td>\n",
       "      <td>...</td>\n",
       "      <td>0</td>\n",
       "      <td>6.0</td>\n",
       "      <td>6</td>\n",
       "      <td>6</td>\n",
       "      <td>13.000000</td>\n",
       "      <td>0</td>\n",
       "      <td>13.9</td>\n",
       "      <td>-0.3</td>\n",
       "      <td>0.79</td>\n",
       "      <td>Graduate</td>\n",
       "    </tr>\n",
       "    <tr>\n",
       "      <th>...</th>\n",
       "      <td>...</td>\n",
       "      <td>...</td>\n",
       "      <td>...</td>\n",
       "      <td>...</td>\n",
       "      <td>...</td>\n",
       "      <td>...</td>\n",
       "      <td>...</td>\n",
       "      <td>...</td>\n",
       "      <td>...</td>\n",
       "      <td>...</td>\n",
       "      <td>...</td>\n",
       "      <td>...</td>\n",
       "      <td>...</td>\n",
       "      <td>...</td>\n",
       "      <td>...</td>\n",
       "      <td>...</td>\n",
       "      <td>...</td>\n",
       "      <td>...</td>\n",
       "      <td>...</td>\n",
       "      <td>...</td>\n",
       "      <td>...</td>\n",
       "    </tr>\n",
       "    <tr>\n",
       "      <th>4419</th>\n",
       "      <td>1</td>\n",
       "      <td>1</td>\n",
       "      <td>6</td>\n",
       "      <td>9773.0</td>\n",
       "      <td>1</td>\n",
       "      <td>1</td>\n",
       "      <td>125.0</td>\n",
       "      <td>1</td>\n",
       "      <td>1</td>\n",
       "      <td>1.0</td>\n",
       "      <td>...</td>\n",
       "      <td>0</td>\n",
       "      <td>6.0</td>\n",
       "      <td>8</td>\n",
       "      <td>5</td>\n",
       "      <td>12.666667</td>\n",
       "      <td>0</td>\n",
       "      <td>15.5</td>\n",
       "      <td>2.8</td>\n",
       "      <td>-4.06</td>\n",
       "      <td>Graduate</td>\n",
       "    </tr>\n",
       "    <tr>\n",
       "      <th>4420</th>\n",
       "      <td>1</td>\n",
       "      <td>1</td>\n",
       "      <td>2</td>\n",
       "      <td>9773.0</td>\n",
       "      <td>1</td>\n",
       "      <td>1</td>\n",
       "      <td>120.0</td>\n",
       "      <td>105</td>\n",
       "      <td>1</td>\n",
       "      <td>1.0</td>\n",
       "      <td>...</td>\n",
       "      <td>0</td>\n",
       "      <td>6.0</td>\n",
       "      <td>6</td>\n",
       "      <td>2</td>\n",
       "      <td>11.000000</td>\n",
       "      <td>0</td>\n",
       "      <td>11.1</td>\n",
       "      <td>0.6</td>\n",
       "      <td>2.02</td>\n",
       "      <td>Dropout</td>\n",
       "    </tr>\n",
       "    <tr>\n",
       "      <th>4421</th>\n",
       "      <td>1</td>\n",
       "      <td>1</td>\n",
       "      <td>1</td>\n",
       "      <td>9500.0</td>\n",
       "      <td>1</td>\n",
       "      <td>1</td>\n",
       "      <td>154.0</td>\n",
       "      <td>1</td>\n",
       "      <td>37</td>\n",
       "      <td>37.0</td>\n",
       "      <td>...</td>\n",
       "      <td>0</td>\n",
       "      <td>8.0</td>\n",
       "      <td>9</td>\n",
       "      <td>1</td>\n",
       "      <td>13.500000</td>\n",
       "      <td>0</td>\n",
       "      <td>13.9</td>\n",
       "      <td>-0.3</td>\n",
       "      <td>0.79</td>\n",
       "      <td>Dropout</td>\n",
       "    </tr>\n",
       "    <tr>\n",
       "      <th>4422</th>\n",
       "      <td>1</td>\n",
       "      <td>1</td>\n",
       "      <td>1</td>\n",
       "      <td>9147.0</td>\n",
       "      <td>1</td>\n",
       "      <td>1</td>\n",
       "      <td>180.0</td>\n",
       "      <td>1</td>\n",
       "      <td>37</td>\n",
       "      <td>37.0</td>\n",
       "      <td>...</td>\n",
       "      <td>0</td>\n",
       "      <td>5.0</td>\n",
       "      <td>6</td>\n",
       "      <td>5</td>\n",
       "      <td>12.000000</td>\n",
       "      <td>0</td>\n",
       "      <td>9.4</td>\n",
       "      <td>-0.8</td>\n",
       "      <td>-3.12</td>\n",
       "      <td>Graduate</td>\n",
       "    </tr>\n",
       "    <tr>\n",
       "      <th>4423</th>\n",
       "      <td>1</td>\n",
       "      <td>10</td>\n",
       "      <td>1</td>\n",
       "      <td>9773.0</td>\n",
       "      <td>1</td>\n",
       "      <td>1</td>\n",
       "      <td>152.0</td>\n",
       "      <td>22</td>\n",
       "      <td>38</td>\n",
       "      <td>37.0</td>\n",
       "      <td>...</td>\n",
       "      <td>0</td>\n",
       "      <td>6.0</td>\n",
       "      <td>6</td>\n",
       "      <td>6</td>\n",
       "      <td>13.000000</td>\n",
       "      <td>0</td>\n",
       "      <td>12.7</td>\n",
       "      <td>3.7</td>\n",
       "      <td>-1.70</td>\n",
       "      <td>Graduate</td>\n",
       "    </tr>\n",
       "  </tbody>\n",
       "</table>\n",
       "<p>4424 rows × 37 columns</p>\n",
       "</div>"
      ],
      "text/plain": [
       "     Marital status  Application mode  Application order  Course  \\\n",
       "0                 1                17                  5   171.0   \n",
       "1                 1                15                  1  9254.0   \n",
       "2                 1                 1                  5  9070.0   \n",
       "3                 1                17                  2  9773.0   \n",
       "4                 2                39                  1  8014.0   \n",
       "...             ...               ...                ...     ...   \n",
       "4419              1                 1                  6  9773.0   \n",
       "4420              1                 1                  2  9773.0   \n",
       "4421              1                 1                  1  9500.0   \n",
       "4422              1                 1                  1  9147.0   \n",
       "4423              1                10                  1  9773.0   \n",
       "\n",
       "      Daytime/evening attendance  Previous qualification  \\\n",
       "0                              1                       1   \n",
       "1                              1                       1   \n",
       "2                              1                       1   \n",
       "3                              1                       1   \n",
       "4                              0                       1   \n",
       "...                          ...                     ...   \n",
       "4419                           1                       1   \n",
       "4420                           1                       1   \n",
       "4421                           1                       1   \n",
       "4422                           1                       1   \n",
       "4423                           1                       1   \n",
       "\n",
       "      Previous qualification (grade)  Nacionality  Mother's qualification  \\\n",
       "0                              122.0            1                      19   \n",
       "1                              160.0            1                       1   \n",
       "2                              122.0            1                      37   \n",
       "3                              122.0            1                      38   \n",
       "4                              100.0            1                      37   \n",
       "...                              ...          ...                     ...   \n",
       "4419                           125.0            1                       1   \n",
       "4420                           120.0          105                       1   \n",
       "4421                           154.0            1                      37   \n",
       "4422                           180.0            1                      37   \n",
       "4423                           152.0           22                      38   \n",
       "\n",
       "      Father's qualification  ...  Curricular units 2nd sem (credited)  \\\n",
       "0                       12.0  ...                                    0   \n",
       "1                        3.0  ...                                    0   \n",
       "2                       37.0  ...                                    0   \n",
       "3                       37.0  ...                                    0   \n",
       "4                       38.0  ...                                    0   \n",
       "...                      ...  ...                                  ...   \n",
       "4419                     1.0  ...                                    0   \n",
       "4420                     1.0  ...                                    0   \n",
       "4421                    37.0  ...                                    0   \n",
       "4422                    37.0  ...                                    0   \n",
       "4423                    37.0  ...                                    0   \n",
       "\n",
       "      Curricular units 2nd sem (enrolled)  \\\n",
       "0                                     0.0   \n",
       "1                                     6.0   \n",
       "2                                     6.0   \n",
       "3                                     6.0   \n",
       "4                                     6.0   \n",
       "...                                   ...   \n",
       "4419                                  6.0   \n",
       "4420                                  6.0   \n",
       "4421                                  8.0   \n",
       "4422                                  5.0   \n",
       "4423                                  6.0   \n",
       "\n",
       "      Curricular units 2nd sem (evaluations)  \\\n",
       "0                                          0   \n",
       "1                                          6   \n",
       "2                                          0   \n",
       "3                                         10   \n",
       "4                                          6   \n",
       "...                                      ...   \n",
       "4419                                       8   \n",
       "4420                                       6   \n",
       "4421                                       9   \n",
       "4422                                       6   \n",
       "4423                                       6   \n",
       "\n",
       "     Curricular units 2nd sem (approved)  Curricular units 2nd sem (grade)  \\\n",
       "0                                      0                          0.000000   \n",
       "1                                      6                         13.666667   \n",
       "2                                      0                          0.000000   \n",
       "3                                      5                         12.400000   \n",
       "4                                      6                         13.000000   \n",
       "...                                  ...                               ...   \n",
       "4419                                   5                         12.666667   \n",
       "4420                                   2                         11.000000   \n",
       "4421                                   1                         13.500000   \n",
       "4422                                   5                         12.000000   \n",
       "4423                                   6                         13.000000   \n",
       "\n",
       "      Curricular units 2nd sem (without evaluations) Unemployment rate  \\\n",
       "0                                                  0              10.8   \n",
       "1                                                  0              13.9   \n",
       "2                                                  0              10.8   \n",
       "3                                                  0               9.4   \n",
       "4                                                  0              13.9   \n",
       "...                                              ...               ...   \n",
       "4419                                               0              15.5   \n",
       "4420                                               0              11.1   \n",
       "4421                                               0              13.9   \n",
       "4422                                               0               9.4   \n",
       "4423                                               0              12.7   \n",
       "\n",
       "      Inflation rate   GDP    Target  \n",
       "0                1.4  1.74   Dropout  \n",
       "1               -0.3  0.79  Graduate  \n",
       "2                1.4  1.74   Dropout  \n",
       "3               -0.8 -3.12  Graduate  \n",
       "4               -0.3  0.79  Graduate  \n",
       "...              ...   ...       ...  \n",
       "4419             2.8 -4.06  Graduate  \n",
       "4420             0.6  2.02   Dropout  \n",
       "4421            -0.3  0.79   Dropout  \n",
       "4422            -0.8 -3.12  Graduate  \n",
       "4423             3.7 -1.70  Graduate  \n",
       "\n",
       "[4424 rows x 37 columns]"
      ]
     },
     "execution_count": 4,
     "metadata": {},
     "output_type": "execute_result"
    }
   ],
   "source": [
    "student_data_df=student_data_df.drop_duplicates()\n",
    "student_data_df"
   ]
  },
  {
   "cell_type": "markdown",
   "id": "15fac2e8",
   "metadata": {},
   "source": [
    "No duplicates found, so I need to delete the columns that don't link to the study and with this, decrease the time spent cleaning up data that I won't be using in the future. Thus, I identified the following columns as not being important for this study, I used the .drop(columns = \"Columns name\") function to delete this column from my datset."
   ]
  },
  {
   "cell_type": "code",
   "execution_count": 5,
   "id": "2c178dfa",
   "metadata": {},
   "outputs": [],
   "source": [
    "student_data_df=student_data_df.drop(columns = \"Curricular units 2nd sem (without evaluations)\")"
   ]
  },
  {
   "cell_type": "code",
   "execution_count": 6,
   "id": "2564d625",
   "metadata": {},
   "outputs": [],
   "source": [
    "student_data_df=student_data_df.drop(columns = \"Curricular units 2nd sem (grade)\")"
   ]
  },
  {
   "cell_type": "code",
   "execution_count": 7,
   "id": "72161410",
   "metadata": {},
   "outputs": [],
   "source": [
    "student_data_df=student_data_df.drop(columns = \"Curricular units 2nd sem (approved)\")"
   ]
  },
  {
   "cell_type": "code",
   "execution_count": 8,
   "id": "cadf161e",
   "metadata": {},
   "outputs": [],
   "source": [
    "student_data_df=student_data_df.drop(columns = \"Curricular units 2nd sem (evaluations)\")"
   ]
  },
  {
   "cell_type": "code",
   "execution_count": 9,
   "id": "d028e8e9",
   "metadata": {},
   "outputs": [],
   "source": [
    "student_data_df=student_data_df.drop(columns = \"Curricular units 2nd sem (enrolled)\")"
   ]
  },
  {
   "cell_type": "code",
   "execution_count": 10,
   "id": "b68126e0",
   "metadata": {},
   "outputs": [],
   "source": [
    "student_data_df=student_data_df.drop(columns = \"Curricular units 2nd sem (credited)\")"
   ]
  },
  {
   "cell_type": "code",
   "execution_count": 11,
   "id": "8cb331dd",
   "metadata": {},
   "outputs": [],
   "source": [
    "student_data_df=student_data_df.drop(columns = \"Curricular units 1st sem (without evaluations)\")"
   ]
  },
  {
   "cell_type": "code",
   "execution_count": 12,
   "id": "fc4508a0",
   "metadata": {},
   "outputs": [],
   "source": [
    "student_data_df=student_data_df.drop(columns = \"Curricular units 1st sem (grade)\")"
   ]
  },
  {
   "cell_type": "code",
   "execution_count": 13,
   "id": "2c39e495",
   "metadata": {},
   "outputs": [],
   "source": [
    "student_data_df=student_data_df.drop(columns = \"Curricular units 1st sem (approved)\")"
   ]
  },
  {
   "cell_type": "code",
   "execution_count": 14,
   "id": "1194f641",
   "metadata": {},
   "outputs": [],
   "source": [
    "student_data_df=student_data_df.drop(columns = \"Curricular units 1st sem (evaluations)\")"
   ]
  },
  {
   "cell_type": "code",
   "execution_count": 15,
   "id": "eb50e35b",
   "metadata": {},
   "outputs": [],
   "source": [
    "student_data_df=student_data_df.drop(columns = \"Curricular units 1st sem (enrolled)\")"
   ]
  },
  {
   "cell_type": "code",
   "execution_count": 16,
   "id": "c1446325",
   "metadata": {},
   "outputs": [],
   "source": [
    "student_data_df=student_data_df.drop(columns = \"Curricular units 1st sem (credited)\") "
   ]
  },
  {
   "cell_type": "code",
   "execution_count": 17,
   "id": "1f4a5fc0",
   "metadata": {},
   "outputs": [
    {
     "data": {
      "text/html": [
       "<div>\n",
       "<style scoped>\n",
       "    .dataframe tbody tr th:only-of-type {\n",
       "        vertical-align: middle;\n",
       "    }\n",
       "\n",
       "    .dataframe tbody tr th {\n",
       "        vertical-align: top;\n",
       "    }\n",
       "\n",
       "    .dataframe thead th {\n",
       "        text-align: right;\n",
       "    }\n",
       "</style>\n",
       "<table border=\"1\" class=\"dataframe\">\n",
       "  <thead>\n",
       "    <tr style=\"text-align: right;\">\n",
       "      <th></th>\n",
       "      <th>Marital status</th>\n",
       "      <th>Application mode</th>\n",
       "      <th>Application order</th>\n",
       "      <th>Course</th>\n",
       "      <th>Daytime/evening attendance</th>\n",
       "      <th>Previous qualification</th>\n",
       "      <th>Previous qualification (grade)</th>\n",
       "      <th>Nacionality</th>\n",
       "      <th>Mother's qualification</th>\n",
       "      <th>Father's qualification</th>\n",
       "      <th>...</th>\n",
       "      <th>Debtor</th>\n",
       "      <th>Tuition fees up to date</th>\n",
       "      <th>Gender</th>\n",
       "      <th>Scholarship holder</th>\n",
       "      <th>Age at enrollment</th>\n",
       "      <th>International</th>\n",
       "      <th>Unemployment rate</th>\n",
       "      <th>Inflation rate</th>\n",
       "      <th>GDP</th>\n",
       "      <th>Target</th>\n",
       "    </tr>\n",
       "  </thead>\n",
       "  <tbody>\n",
       "    <tr>\n",
       "      <th>0</th>\n",
       "      <td>1</td>\n",
       "      <td>17</td>\n",
       "      <td>5</td>\n",
       "      <td>171.0</td>\n",
       "      <td>1</td>\n",
       "      <td>1</td>\n",
       "      <td>122.0</td>\n",
       "      <td>1</td>\n",
       "      <td>19</td>\n",
       "      <td>12.0</td>\n",
       "      <td>...</td>\n",
       "      <td>0.0</td>\n",
       "      <td>1</td>\n",
       "      <td>1</td>\n",
       "      <td>0</td>\n",
       "      <td>20</td>\n",
       "      <td>0.0</td>\n",
       "      <td>10.8</td>\n",
       "      <td>1.4</td>\n",
       "      <td>1.74</td>\n",
       "      <td>Dropout</td>\n",
       "    </tr>\n",
       "    <tr>\n",
       "      <th>1</th>\n",
       "      <td>1</td>\n",
       "      <td>15</td>\n",
       "      <td>1</td>\n",
       "      <td>9254.0</td>\n",
       "      <td>1</td>\n",
       "      <td>1</td>\n",
       "      <td>160.0</td>\n",
       "      <td>1</td>\n",
       "      <td>1</td>\n",
       "      <td>3.0</td>\n",
       "      <td>...</td>\n",
       "      <td>0.0</td>\n",
       "      <td>0</td>\n",
       "      <td>1</td>\n",
       "      <td>0</td>\n",
       "      <td>19</td>\n",
       "      <td>0.0</td>\n",
       "      <td>13.9</td>\n",
       "      <td>-0.3</td>\n",
       "      <td>0.79</td>\n",
       "      <td>Graduate</td>\n",
       "    </tr>\n",
       "    <tr>\n",
       "      <th>2</th>\n",
       "      <td>1</td>\n",
       "      <td>1</td>\n",
       "      <td>5</td>\n",
       "      <td>9070.0</td>\n",
       "      <td>1</td>\n",
       "      <td>1</td>\n",
       "      <td>122.0</td>\n",
       "      <td>1</td>\n",
       "      <td>37</td>\n",
       "      <td>37.0</td>\n",
       "      <td>...</td>\n",
       "      <td>0.0</td>\n",
       "      <td>0</td>\n",
       "      <td>1</td>\n",
       "      <td>0</td>\n",
       "      <td>19</td>\n",
       "      <td>0.0</td>\n",
       "      <td>10.8</td>\n",
       "      <td>1.4</td>\n",
       "      <td>1.74</td>\n",
       "      <td>Dropout</td>\n",
       "    </tr>\n",
       "    <tr>\n",
       "      <th>3</th>\n",
       "      <td>1</td>\n",
       "      <td>17</td>\n",
       "      <td>2</td>\n",
       "      <td>9773.0</td>\n",
       "      <td>1</td>\n",
       "      <td>1</td>\n",
       "      <td>122.0</td>\n",
       "      <td>1</td>\n",
       "      <td>38</td>\n",
       "      <td>37.0</td>\n",
       "      <td>...</td>\n",
       "      <td>0.0</td>\n",
       "      <td>1</td>\n",
       "      <td>0</td>\n",
       "      <td>0</td>\n",
       "      <td>20</td>\n",
       "      <td>0.0</td>\n",
       "      <td>9.4</td>\n",
       "      <td>-0.8</td>\n",
       "      <td>-3.12</td>\n",
       "      <td>Graduate</td>\n",
       "    </tr>\n",
       "    <tr>\n",
       "      <th>4</th>\n",
       "      <td>2</td>\n",
       "      <td>39</td>\n",
       "      <td>1</td>\n",
       "      <td>8014.0</td>\n",
       "      <td>0</td>\n",
       "      <td>1</td>\n",
       "      <td>100.0</td>\n",
       "      <td>1</td>\n",
       "      <td>37</td>\n",
       "      <td>38.0</td>\n",
       "      <td>...</td>\n",
       "      <td>0.0</td>\n",
       "      <td>1</td>\n",
       "      <td>0</td>\n",
       "      <td>0</td>\n",
       "      <td>45</td>\n",
       "      <td>0.0</td>\n",
       "      <td>13.9</td>\n",
       "      <td>-0.3</td>\n",
       "      <td>0.79</td>\n",
       "      <td>Graduate</td>\n",
       "    </tr>\n",
       "  </tbody>\n",
       "</table>\n",
       "<p>5 rows × 25 columns</p>\n",
       "</div>"
      ],
      "text/plain": [
       "  Marital status  Application mode  Application order  Course  \\\n",
       "0              1                17                  5   171.0   \n",
       "1              1                15                  1  9254.0   \n",
       "2              1                 1                  5  9070.0   \n",
       "3              1                17                  2  9773.0   \n",
       "4              2                39                  1  8014.0   \n",
       "\n",
       "   Daytime/evening attendance  Previous qualification  \\\n",
       "0                           1                       1   \n",
       "1                           1                       1   \n",
       "2                           1                       1   \n",
       "3                           1                       1   \n",
       "4                           0                       1   \n",
       "\n",
       "   Previous qualification (grade)  Nacionality  Mother's qualification  \\\n",
       "0                           122.0            1                      19   \n",
       "1                           160.0            1                       1   \n",
       "2                           122.0            1                      37   \n",
       "3                           122.0            1                      38   \n",
       "4                           100.0            1                      37   \n",
       "\n",
       "   Father's qualification  ...  Debtor  Tuition fees up to date  Gender  \\\n",
       "0                    12.0  ...     0.0                        1       1   \n",
       "1                     3.0  ...     0.0                        0       1   \n",
       "2                    37.0  ...     0.0                        0       1   \n",
       "3                    37.0  ...     0.0                        1       0   \n",
       "4                    38.0  ...     0.0                        1       0   \n",
       "\n",
       "  Scholarship holder  Age at enrollment  International Unemployment rate  \\\n",
       "0                  0                 20            0.0              10.8   \n",
       "1                  0                 19            0.0              13.9   \n",
       "2                  0                 19            0.0              10.8   \n",
       "3                  0                 20            0.0               9.4   \n",
       "4                  0                 45            0.0              13.9   \n",
       "\n",
       "   Inflation rate   GDP    Target  \n",
       "0             1.4  1.74   Dropout  \n",
       "1            -0.3  0.79  Graduate  \n",
       "2             1.4  1.74   Dropout  \n",
       "3            -0.8 -3.12  Graduate  \n",
       "4            -0.3  0.79  Graduate  \n",
       "\n",
       "[5 rows x 25 columns]"
      ]
     },
     "execution_count": 17,
     "metadata": {},
     "output_type": "execute_result"
    }
   ],
   "source": [
    "student_data_df.head()"
   ]
  },
  {
   "cell_type": "code",
   "execution_count": 18,
   "id": "fbc53af2",
   "metadata": {},
   "outputs": [
    {
     "data": {
      "text/plain": [
       "(4424, 25)"
      ]
     },
     "execution_count": 18,
     "metadata": {},
     "output_type": "execute_result"
    }
   ],
   "source": [
    "student_data_df.shape"
   ]
  },
  {
   "cell_type": "markdown",
   "id": "588643c1",
   "metadata": {},
   "source": [
    "To understand the size of the dataset and its structure now, I use the function .shape() and so I get the result that now my dataset has 4424 rows and 25 columns."
   ]
  },
  {
   "cell_type": "code",
   "execution_count": 19,
   "id": "4ab82538",
   "metadata": {
    "scrolled": true
   },
   "outputs": [
    {
     "name": "stdout",
     "output_type": "stream",
     "text": [
      "<class 'pandas.core.frame.DataFrame'>\n",
      "RangeIndex: 4424 entries, 0 to 4423\n",
      "Data columns (total 25 columns):\n",
      " #   Column                          Non-Null Count  Dtype  \n",
      "---  ------                          --------------  -----  \n",
      " 0   Marital status                  4424 non-null   object \n",
      " 1   Application mode                4424 non-null   int64  \n",
      " 2   Application order               4424 non-null   int64  \n",
      " 3   Course                          4423 non-null   float64\n",
      " 4   Daytime/evening attendance      4424 non-null   int64  \n",
      " 5   Previous qualification          4424 non-null   int64  \n",
      " 6   Previous qualification (grade)  4424 non-null   float64\n",
      " 7   Nacionality                     4424 non-null   int64  \n",
      " 8   Mother's qualification          4424 non-null   int64  \n",
      " 9   Father's qualification          4423 non-null   float64\n",
      " 10  Mother's occupation             4424 non-null   int64  \n",
      " 11  Father's occupation             4424 non-null   int64  \n",
      " 12  Admission grade                 4423 non-null   float64\n",
      " 13  Displaced                       4424 non-null   object \n",
      " 14  Educational special needs       4424 non-null   int64  \n",
      " 15  Debtor                          4423 non-null   float64\n",
      " 16  Tuition fees up to date         4423 non-null   object \n",
      " 17  Gender                          4424 non-null   int64  \n",
      " 18  Scholarship holder              4424 non-null   int64  \n",
      " 19  Age at enrollment               4424 non-null   object \n",
      " 20  International                   4423 non-null   float64\n",
      " 21  Unemployment rate               4424 non-null   float64\n",
      " 22  Inflation rate                  4424 non-null   float64\n",
      " 23  GDP                             4424 non-null   float64\n",
      " 24  Target                          4424 non-null   object \n",
      "dtypes: float64(9), int64(11), object(5)\n",
      "memory usage: 864.2+ KB\n"
     ]
    }
   ],
   "source": [
    "student_data_df.info()"
   ]
  },
  {
   "cell_type": "markdown",
   "id": "62ce5753",
   "metadata": {},
   "source": [
    "This is a function that provides a summary of the Dataset information. It displays a lot of useful information about the dataset, including: the name of each column, the data type of each column, the number of non-null values in each column, the memory usage of the dataset."
   ]
  },
  {
   "cell_type": "code",
   "execution_count": 20,
   "id": "984ea73e",
   "metadata": {},
   "outputs": [
    {
     "data": {
      "text/plain": [
       "Marital status                    0\n",
       "Application mode                  0\n",
       "Application order                 0\n",
       "Course                            1\n",
       "Daytime/evening attendance        0\n",
       "Previous qualification            0\n",
       "Previous qualification (grade)    0\n",
       "Nacionality                       0\n",
       "Mother's qualification            0\n",
       "Father's qualification            1\n",
       "Mother's occupation               0\n",
       "Father's occupation               0\n",
       "Admission grade                   1\n",
       "Displaced                         0\n",
       "Educational special needs         0\n",
       "Debtor                            1\n",
       "Tuition fees up to date           1\n",
       "Gender                            0\n",
       "Scholarship holder                0\n",
       "Age at enrollment                 0\n",
       "International                     1\n",
       "Unemployment rate                 0\n",
       "Inflation rate                    0\n",
       "GDP                               0\n",
       "Target                            0\n",
       "dtype: int64"
      ]
     },
     "execution_count": 20,
     "metadata": {},
     "output_type": "execute_result"
    }
   ],
   "source": [
    "student_data_df.isnull().sum()"
   ]
  },
  {
   "cell_type": "markdown",
   "id": "9eb30015",
   "metadata": {},
   "source": [
    "With .isnull().sum(), I can check in each column have non-null values!"
   ]
  },
  {
   "cell_type": "code",
   "execution_count": 21,
   "id": "6ab29aa5",
   "metadata": {},
   "outputs": [
    {
     "data": {
      "text/html": [
       "<div>\n",
       "<style scoped>\n",
       "    .dataframe tbody tr th:only-of-type {\n",
       "        vertical-align: middle;\n",
       "    }\n",
       "\n",
       "    .dataframe tbody tr th {\n",
       "        vertical-align: top;\n",
       "    }\n",
       "\n",
       "    .dataframe thead th {\n",
       "        text-align: right;\n",
       "    }\n",
       "</style>\n",
       "<table border=\"1\" class=\"dataframe\">\n",
       "  <thead>\n",
       "    <tr style=\"text-align: right;\">\n",
       "      <th></th>\n",
       "      <th>Application mode</th>\n",
       "      <th>Application order</th>\n",
       "      <th>Course</th>\n",
       "      <th>Daytime/evening attendance</th>\n",
       "      <th>Previous qualification</th>\n",
       "      <th>Previous qualification (grade)</th>\n",
       "      <th>Nacionality</th>\n",
       "      <th>Mother's qualification</th>\n",
       "      <th>Father's qualification</th>\n",
       "      <th>Mother's occupation</th>\n",
       "      <th>Father's occupation</th>\n",
       "      <th>Admission grade</th>\n",
       "      <th>Educational special needs</th>\n",
       "      <th>Debtor</th>\n",
       "      <th>Gender</th>\n",
       "      <th>Scholarship holder</th>\n",
       "      <th>International</th>\n",
       "      <th>Unemployment rate</th>\n",
       "      <th>Inflation rate</th>\n",
       "      <th>GDP</th>\n",
       "    </tr>\n",
       "  </thead>\n",
       "  <tbody>\n",
       "    <tr>\n",
       "      <th>count</th>\n",
       "      <td>4424.000000</td>\n",
       "      <td>4424.000000</td>\n",
       "      <td>4423.000000</td>\n",
       "      <td>4424.000000</td>\n",
       "      <td>4424.000000</td>\n",
       "      <td>4424.000000</td>\n",
       "      <td>4424.000000</td>\n",
       "      <td>4424.000000</td>\n",
       "      <td>4423.000000</td>\n",
       "      <td>4424.000000</td>\n",
       "      <td>4424.000000</td>\n",
       "      <td>4423.000000</td>\n",
       "      <td>4424.000000</td>\n",
       "      <td>4423.000000</td>\n",
       "      <td>4424.000000</td>\n",
       "      <td>4424.000000</td>\n",
       "      <td>4423.000000</td>\n",
       "      <td>4424.000000</td>\n",
       "      <td>4424.000000</td>\n",
       "      <td>4424.000000</td>\n",
       "    </tr>\n",
       "    <tr>\n",
       "      <th>mean</th>\n",
       "      <td>18.669078</td>\n",
       "      <td>1.727848</td>\n",
       "      <td>8856.458738</td>\n",
       "      <td>0.890823</td>\n",
       "      <td>4.577758</td>\n",
       "      <td>132.613314</td>\n",
       "      <td>1.873192</td>\n",
       "      <td>19.561935</td>\n",
       "      <td>22.271987</td>\n",
       "      <td>10.960895</td>\n",
       "      <td>11.032324</td>\n",
       "      <td>126.984219</td>\n",
       "      <td>0.011528</td>\n",
       "      <td>0.113724</td>\n",
       "      <td>0.351718</td>\n",
       "      <td>0.248418</td>\n",
       "      <td>0.024870</td>\n",
       "      <td>11.566139</td>\n",
       "      <td>1.228029</td>\n",
       "      <td>0.001969</td>\n",
       "    </tr>\n",
       "    <tr>\n",
       "      <th>std</th>\n",
       "      <td>17.484682</td>\n",
       "      <td>1.313793</td>\n",
       "      <td>2063.763479</td>\n",
       "      <td>0.311897</td>\n",
       "      <td>10.216592</td>\n",
       "      <td>13.188332</td>\n",
       "      <td>6.914514</td>\n",
       "      <td>15.603186</td>\n",
       "      <td>15.343244</td>\n",
       "      <td>26.418253</td>\n",
       "      <td>25.263040</td>\n",
       "      <td>14.477954</td>\n",
       "      <td>0.106760</td>\n",
       "      <td>0.317511</td>\n",
       "      <td>0.477560</td>\n",
       "      <td>0.432144</td>\n",
       "      <td>0.155746</td>\n",
       "      <td>2.663850</td>\n",
       "      <td>1.382711</td>\n",
       "      <td>2.269935</td>\n",
       "    </tr>\n",
       "    <tr>\n",
       "      <th>min</th>\n",
       "      <td>1.000000</td>\n",
       "      <td>0.000000</td>\n",
       "      <td>33.000000</td>\n",
       "      <td>0.000000</td>\n",
       "      <td>1.000000</td>\n",
       "      <td>95.000000</td>\n",
       "      <td>1.000000</td>\n",
       "      <td>1.000000</td>\n",
       "      <td>1.000000</td>\n",
       "      <td>0.000000</td>\n",
       "      <td>0.000000</td>\n",
       "      <td>95.000000</td>\n",
       "      <td>0.000000</td>\n",
       "      <td>0.000000</td>\n",
       "      <td>0.000000</td>\n",
       "      <td>0.000000</td>\n",
       "      <td>0.000000</td>\n",
       "      <td>7.600000</td>\n",
       "      <td>-0.800000</td>\n",
       "      <td>-4.060000</td>\n",
       "    </tr>\n",
       "    <tr>\n",
       "      <th>25%</th>\n",
       "      <td>1.000000</td>\n",
       "      <td>1.000000</td>\n",
       "      <td>9085.000000</td>\n",
       "      <td>1.000000</td>\n",
       "      <td>1.000000</td>\n",
       "      <td>125.000000</td>\n",
       "      <td>1.000000</td>\n",
       "      <td>2.000000</td>\n",
       "      <td>3.000000</td>\n",
       "      <td>4.000000</td>\n",
       "      <td>4.000000</td>\n",
       "      <td>117.900000</td>\n",
       "      <td>0.000000</td>\n",
       "      <td>0.000000</td>\n",
       "      <td>0.000000</td>\n",
       "      <td>0.000000</td>\n",
       "      <td>0.000000</td>\n",
       "      <td>9.400000</td>\n",
       "      <td>0.300000</td>\n",
       "      <td>-1.700000</td>\n",
       "    </tr>\n",
       "    <tr>\n",
       "      <th>50%</th>\n",
       "      <td>17.000000</td>\n",
       "      <td>1.000000</td>\n",
       "      <td>9238.000000</td>\n",
       "      <td>1.000000</td>\n",
       "      <td>1.000000</td>\n",
       "      <td>133.100000</td>\n",
       "      <td>1.000000</td>\n",
       "      <td>19.000000</td>\n",
       "      <td>19.000000</td>\n",
       "      <td>5.000000</td>\n",
       "      <td>7.000000</td>\n",
       "      <td>126.100000</td>\n",
       "      <td>0.000000</td>\n",
       "      <td>0.000000</td>\n",
       "      <td>0.000000</td>\n",
       "      <td>0.000000</td>\n",
       "      <td>0.000000</td>\n",
       "      <td>11.100000</td>\n",
       "      <td>1.400000</td>\n",
       "      <td>0.320000</td>\n",
       "    </tr>\n",
       "    <tr>\n",
       "      <th>75%</th>\n",
       "      <td>39.000000</td>\n",
       "      <td>2.000000</td>\n",
       "      <td>9556.000000</td>\n",
       "      <td>1.000000</td>\n",
       "      <td>1.000000</td>\n",
       "      <td>140.000000</td>\n",
       "      <td>1.000000</td>\n",
       "      <td>37.000000</td>\n",
       "      <td>37.000000</td>\n",
       "      <td>9.000000</td>\n",
       "      <td>9.000000</td>\n",
       "      <td>134.800000</td>\n",
       "      <td>0.000000</td>\n",
       "      <td>0.000000</td>\n",
       "      <td>1.000000</td>\n",
       "      <td>0.000000</td>\n",
       "      <td>0.000000</td>\n",
       "      <td>13.900000</td>\n",
       "      <td>2.600000</td>\n",
       "      <td>1.790000</td>\n",
       "    </tr>\n",
       "    <tr>\n",
       "      <th>max</th>\n",
       "      <td>57.000000</td>\n",
       "      <td>9.000000</td>\n",
       "      <td>9991.000000</td>\n",
       "      <td>1.000000</td>\n",
       "      <td>43.000000</td>\n",
       "      <td>190.000000</td>\n",
       "      <td>109.000000</td>\n",
       "      <td>44.000000</td>\n",
       "      <td>44.000000</td>\n",
       "      <td>194.000000</td>\n",
       "      <td>195.000000</td>\n",
       "      <td>190.000000</td>\n",
       "      <td>1.000000</td>\n",
       "      <td>1.000000</td>\n",
       "      <td>1.000000</td>\n",
       "      <td>1.000000</td>\n",
       "      <td>1.000000</td>\n",
       "      <td>16.200000</td>\n",
       "      <td>3.700000</td>\n",
       "      <td>3.510000</td>\n",
       "    </tr>\n",
       "  </tbody>\n",
       "</table>\n",
       "</div>"
      ],
      "text/plain": [
       "       Application mode  Application order       Course  \\\n",
       "count       4424.000000        4424.000000  4423.000000   \n",
       "mean          18.669078           1.727848  8856.458738   \n",
       "std           17.484682           1.313793  2063.763479   \n",
       "min            1.000000           0.000000    33.000000   \n",
       "25%            1.000000           1.000000  9085.000000   \n",
       "50%           17.000000           1.000000  9238.000000   \n",
       "75%           39.000000           2.000000  9556.000000   \n",
       "max           57.000000           9.000000  9991.000000   \n",
       "\n",
       "       Daytime/evening attendance  Previous qualification  \\\n",
       "count                 4424.000000             4424.000000   \n",
       "mean                     0.890823                4.577758   \n",
       "std                      0.311897               10.216592   \n",
       "min                      0.000000                1.000000   \n",
       "25%                      1.000000                1.000000   \n",
       "50%                      1.000000                1.000000   \n",
       "75%                      1.000000                1.000000   \n",
       "max                      1.000000               43.000000   \n",
       "\n",
       "       Previous qualification (grade)  Nacionality  Mother's qualification  \\\n",
       "count                     4424.000000  4424.000000             4424.000000   \n",
       "mean                       132.613314     1.873192               19.561935   \n",
       "std                         13.188332     6.914514               15.603186   \n",
       "min                         95.000000     1.000000                1.000000   \n",
       "25%                        125.000000     1.000000                2.000000   \n",
       "50%                        133.100000     1.000000               19.000000   \n",
       "75%                        140.000000     1.000000               37.000000   \n",
       "max                        190.000000   109.000000               44.000000   \n",
       "\n",
       "       Father's qualification  Mother's occupation  Father's occupation  \\\n",
       "count             4423.000000          4424.000000          4424.000000   \n",
       "mean                22.271987            10.960895            11.032324   \n",
       "std                 15.343244            26.418253            25.263040   \n",
       "min                  1.000000             0.000000             0.000000   \n",
       "25%                  3.000000             4.000000             4.000000   \n",
       "50%                 19.000000             5.000000             7.000000   \n",
       "75%                 37.000000             9.000000             9.000000   \n",
       "max                 44.000000           194.000000           195.000000   \n",
       "\n",
       "       Admission grade  Educational special needs       Debtor       Gender  \\\n",
       "count      4423.000000                4424.000000  4423.000000  4424.000000   \n",
       "mean        126.984219                   0.011528     0.113724     0.351718   \n",
       "std          14.477954                   0.106760     0.317511     0.477560   \n",
       "min          95.000000                   0.000000     0.000000     0.000000   \n",
       "25%         117.900000                   0.000000     0.000000     0.000000   \n",
       "50%         126.100000                   0.000000     0.000000     0.000000   \n",
       "75%         134.800000                   0.000000     0.000000     1.000000   \n",
       "max         190.000000                   1.000000     1.000000     1.000000   \n",
       "\n",
       "       Scholarship holder  International  Unemployment rate  Inflation rate  \\\n",
       "count         4424.000000    4423.000000        4424.000000     4424.000000   \n",
       "mean             0.248418       0.024870          11.566139        1.228029   \n",
       "std              0.432144       0.155746           2.663850        1.382711   \n",
       "min              0.000000       0.000000           7.600000       -0.800000   \n",
       "25%              0.000000       0.000000           9.400000        0.300000   \n",
       "50%              0.000000       0.000000          11.100000        1.400000   \n",
       "75%              0.000000       0.000000          13.900000        2.600000   \n",
       "max              1.000000       1.000000          16.200000        3.700000   \n",
       "\n",
       "               GDP  \n",
       "count  4424.000000  \n",
       "mean      0.001969  \n",
       "std       2.269935  \n",
       "min      -4.060000  \n",
       "25%      -1.700000  \n",
       "50%       0.320000  \n",
       "75%       1.790000  \n",
       "max       3.510000  "
      ]
     },
     "execution_count": 21,
     "metadata": {},
     "output_type": "execute_result"
    }
   ],
   "source": [
    "student_data_df.describe()"
   ]
  },
  {
   "cell_type": "markdown",
   "id": "2fa8ef9e",
   "metadata": {},
   "source": [
    "According to pandas Guide, \"Descriptive statistics include those that summarize the central tendency, dispersion and shape of a dataset's distribution, excluding NaN values. Analyzes both numeric and object series, as well as DataFrame column sets of mixed data types. The output will vary depending on what is provided.\" (https://pandas.pydata.org/pandas-docs/stable/reference/api/pandas.DataFrame.describe.html)\n",
    "\n",
    "Knowing this, mean stands for average value of a set of numbers, min and max is minimum and maximum respectively and std provides a measure of how much the values in a dataset deviate from the mean.\n"
   ]
  },
  {
   "cell_type": "markdown",
   "id": "22660790",
   "metadata": {},
   "source": [
    "# Non-null values"
   ]
  },
  {
   "cell_type": "markdown",
   "id": "997cdb89",
   "metadata": {},
   "source": [
    "Knowing this, time to clean the dataset, and I started showing columns by columns each non-null values they have, or not have, using the function .unique()"
   ]
  },
  {
   "cell_type": "code",
   "execution_count": 22,
   "id": "4e4449ae",
   "metadata": {},
   "outputs": [
    {
     "data": {
      "text/plain": [
       "array(['1', '2', '4', '?', '3', '5', '6'], dtype=object)"
      ]
     },
     "execution_count": 22,
     "metadata": {},
     "output_type": "execute_result"
    }
   ],
   "source": [
    "student_data_df[\"Marital status\"].unique()"
   ]
  },
  {
   "cell_type": "code",
   "execution_count": 23,
   "id": "87737b8b",
   "metadata": {
    "scrolled": true
   },
   "outputs": [
    {
     "data": {
      "text/plain": [
       "array([17, 15,  1, 39, 18, 53, 44, 51, 43,  7, 42, 16,  5,  2, 10, 57, 26,\n",
       "       27], dtype=int64)"
      ]
     },
     "execution_count": 23,
     "metadata": {},
     "output_type": "execute_result"
    }
   ],
   "source": [
    "student_data_df[\"Application mode\"].unique()"
   ]
  },
  {
   "cell_type": "code",
   "execution_count": 24,
   "id": "c9cc3fdf",
   "metadata": {},
   "outputs": [
    {
     "data": {
      "text/plain": [
       "array([5, 1, 2, 4, 3, 6, 9, 0], dtype=int64)"
      ]
     },
     "execution_count": 24,
     "metadata": {},
     "output_type": "execute_result"
    }
   ],
   "source": [
    "student_data_df[\"Application order\"].unique()"
   ]
  },
  {
   "cell_type": "code",
   "execution_count": 25,
   "id": "19bbddfa",
   "metadata": {},
   "outputs": [
    {
     "data": {
      "text/plain": [
       "array([ 171., 9254., 9070., 9773., 8014., 9991., 9500., 9238., 9670.,\n",
       "       9853., 9085., 9130., 9556., 9147., 9003.,   33., 9119.,   nan])"
      ]
     },
     "execution_count": 25,
     "metadata": {},
     "output_type": "execute_result"
    }
   ],
   "source": [
    "student_data_df[\"Course\"].unique()"
   ]
  },
  {
   "cell_type": "code",
   "execution_count": 26,
   "id": "3daca3f0",
   "metadata": {},
   "outputs": [
    {
     "data": {
      "text/plain": [
       "array([1, 0], dtype=int64)"
      ]
     },
     "execution_count": 26,
     "metadata": {},
     "output_type": "execute_result"
    }
   ],
   "source": [
    "student_data_df[\"Daytime/evening attendance\"].unique()"
   ]
  },
  {
   "cell_type": "code",
   "execution_count": 27,
   "id": "2eb1cbe2",
   "metadata": {},
   "outputs": [
    {
     "data": {
      "text/plain": [
       "array([ 1, 19, 42, 39, 10,  3, 40,  2,  4, 12, 43, 15,  6,  9, 38,  5, 14],\n",
       "      dtype=int64)"
      ]
     },
     "execution_count": 27,
     "metadata": {},
     "output_type": "execute_result"
    }
   ],
   "source": [
    "student_data_df[\"Previous qualification\"].unique()"
   ]
  },
  {
   "cell_type": "code",
   "execution_count": 28,
   "id": "0c53f321",
   "metadata": {},
   "outputs": [
    {
     "data": {
      "text/plain": [
       "array([122. , 160. , 100. , 133.1, 142. , 119. , 137. , 138. , 139. ,\n",
       "       136. , 133. , 110. , 149. , 127. , 135. , 140. , 125. , 126. ,\n",
       "       151. , 115. , 150. , 143. , 130. , 120. , 103. , 154. , 132. ,\n",
       "       167. , 129. , 141. , 116. , 148. , 118. , 106. , 121. , 114. ,\n",
       "       124. , 123. , 113. , 111. , 131. , 158. , 146. , 117. , 153. ,\n",
       "       178. ,  99. , 134. , 128. , 170. , 155. , 145. , 152. , 112. ,\n",
       "       107. , 156. , 188. ,  96. , 161. , 166. , 147. , 144. , 102. ,\n",
       "       101. , 180. , 172. , 105. , 108. , 165. , 190. , 162. , 164. ,\n",
       "       163. , 159. , 117.4, 175. , 133.8, 176. , 168. , 139.3,  97. ,\n",
       "       157. , 140.8, 184.4, 148.9, 109. , 174. , 182. , 138.6,  95. ,\n",
       "       154.4, 163.3, 145.7, 123.9, 124.4, 169. , 177. , 138.7, 119.1,\n",
       "       118.9, 126.6])"
      ]
     },
     "execution_count": 28,
     "metadata": {},
     "output_type": "execute_result"
    }
   ],
   "source": [
    "student_data_df[\"Previous qualification (grade)\"].unique()"
   ]
  },
  {
   "cell_type": "code",
   "execution_count": 29,
   "id": "4133fc90",
   "metadata": {},
   "outputs": [
    {
     "data": {
      "text/plain": [
       "array([  1,  62,   6,  41,  26, 103,  13,  25,  21, 101,  11,  22,  32,\n",
       "       100,  24, 109,   2, 108, 105,  14,  17], dtype=int64)"
      ]
     },
     "execution_count": 29,
     "metadata": {},
     "output_type": "execute_result"
    }
   ],
   "source": [
    "student_data_df[\"Nacionality\"].unique()"
   ]
  },
  {
   "cell_type": "code",
   "execution_count": 30,
   "id": "6cf40913",
   "metadata": {},
   "outputs": [
    {
     "data": {
      "text/plain": [
       "array([19,  1, 37, 38,  3,  4, 42,  2, 34, 12, 40,  9,  5, 39, 11, 41, 30,\n",
       "       14, 35, 36,  6, 10, 29, 43, 18, 22, 27, 26, 44], dtype=int64)"
      ]
     },
     "execution_count": 30,
     "metadata": {},
     "output_type": "execute_result"
    }
   ],
   "source": [
    "student_data_df[\"Mother's qualification\"].unique()"
   ]
  },
  {
   "cell_type": "code",
   "execution_count": 31,
   "id": "77898add",
   "metadata": {},
   "outputs": [
    {
     "data": {
      "text/plain": [
       "array([12.,  3., 37., 38.,  1., 19.,  5.,  4., 34.,  2., 39., 11.,  9.,\n",
       "       nan, 36., 26., 40., 14., 20., 35., 41., 22., 13., 29., 43., 18.,\n",
       "       42., 10.,  6., 30., 25., 44., 33., 27., 31.])"
      ]
     },
     "execution_count": 31,
     "metadata": {},
     "output_type": "execute_result"
    }
   ],
   "source": [
    "student_data_df[\"Father's qualification\"].unique()"
   ]
  },
  {
   "cell_type": "code",
   "execution_count": 32,
   "id": "4c8d3283",
   "metadata": {},
   "outputs": [
    {
     "data": {
      "text/plain": [
       "array([  5,   3,   9,   7,   4,   1, 125,   0,   6,   2,  90,   8, 141,\n",
       "       175,  99, 191, 151, 194, 192, 132, 152, 134,  10, 143, 123, 173,\n",
       "       193, 122, 144, 131, 171, 153], dtype=int64)"
      ]
     },
     "execution_count": 32,
     "metadata": {},
     "output_type": "execute_result"
    }
   ],
   "source": [
    "student_data_df[\"Mother's occupation\"].unique()"
   ]
  },
  {
   "cell_type": "code",
   "execution_count": 33,
   "id": "ec123d7e",
   "metadata": {},
   "outputs": [
    {
     "data": {
      "text/plain": [
       "array([  9,   3,   7,  10,   5,   8,   4,   1,   2, 124,   6,   0,  90,\n",
       "       175, 121,  99, 144, 195, 192, 161, 193, 151, 182, 132, 131, 194,\n",
       "       163, 135, 143, 171, 103, 172, 152, 183, 122, 102, 181, 134, 123,\n",
       "       112, 153, 174, 141, 114, 101, 154], dtype=int64)"
      ]
     },
     "execution_count": 33,
     "metadata": {},
     "output_type": "execute_result"
    }
   ],
   "source": [
    "student_data_df[\"Father's occupation\"].unique()"
   ]
  },
  {
   "cell_type": "code",
   "execution_count": 34,
   "id": "a007272e",
   "metadata": {},
   "outputs": [
    {
     "data": {
      "text/plain": [
       "array([127.3, 142.5, 124.8, 119.6, 141.5, 114.8, 128.4, 113.1, 129.3,\n",
       "       123. , 130.6, 119.3, 130.2, 111.8, 137.1, 120.7, 137.4, 136.3,\n",
       "       124.6, 120.3, 121.8, 125.5, 114.9, 123.9, 157. , 116.4, 131. ,\n",
       "       122.1, 118.8, 150. , 130. , 138.8, 134.5, 131.4, 102.5, 128.8,\n",
       "       122.9, 113.9, 120. , 121.1, 120.4, 100.6, 121.4, 109.7, 134.1,\n",
       "       127.6, 132.4, 133.4, 126.1, 113.5, 121.3, 159.3, 129.1, 155.3,\n",
       "       139.8, 115.2, 131.9, 126. , 120.9, 128.2, 120.1, 100. , 134. ,\n",
       "       130.8, 135.8, 111.7, 132.9, 115.5, 106. , 117. , 110.2, 155.7,\n",
       "       180.4, 110. , 161. , 117.6, 128.7, 112.2, 100.8, 105. , 114. ,\n",
       "       137. , 124.9, 134.3, 111.5, 160. , 117.4, 122.2, 118.2, 106.7,\n",
       "       108.2, 107. , 136.1, 115.3, 140.4, 113.4, 118.6, 122.3, 127.9,\n",
       "       117.1, 145.3, 122.6, 128. , 123.7, 131.7, 133.2, 109.3, 113. ,\n",
       "       157.9, 112.1, 174.7, 110.1,  99.7, 121. , 119.1, 124.7, 117.2,\n",
       "       131.5, 121.7, 123.4, 132.8, 108.7, 138.1, 126.5, 127.4, 123.6,\n",
       "       122. , 125.8, 123.3, 124.4, 170. , 121.5, 108. , 132.3, 148. ,\n",
       "       113.3, 133. , 140. , 128.3, 104. , 135. , 126.6, 129. , 162.3,\n",
       "       163.4, 122.8, 118. , 129.8, 152. , 131.8, 105.9, 132.1, 129.5,\n",
       "       126.7, 116.5, 149.8, 115.1, 124.5, 136. , 126.3, 126.9, 145. ,\n",
       "       115.8, 147. , 122.5, 117.5, 127.5, 133.3,  97. , 112. , 130.5,\n",
       "       141.7, 119.7, 119.4, 155. , 122.7, 117.9, 116.8, 125.4, 127.2,\n",
       "       103.4, 123.2, 124.1,  99.5, 110.8, 118.9, 121.6, 149.2, 126.2,\n",
       "       127.8, 113.7, 117.8, 136.7, 144.7, 142.3, 143. , 100.1, 101. ,\n",
       "       116. , 135.6, 118.7, 125.7, 107.1, 127. , 154.4, 116.1, 118.5,\n",
       "       146.7, 124.3, 137.8, 147.8, 155.6, 130.9, 125. , 136.8, 151. ,\n",
       "       103.5, 134.4, 132.5, 114.7, 166.9, 125.9, 178.3, 135.1, 136.2,\n",
       "       116.3, 124.2, 127.1, 172. , 128.5, 131.2, 112.9, 140.9, 148.4,\n",
       "       129.7, 119.9, 141. , 116.6, 140.2, 146.2, 156.1, 115. , 158.7,\n",
       "       111.9, 114.2,  96. , 128.9, 131.3, 139. , 120.8, 150.5, 129.4,\n",
       "       114.4, 114.5, 130.3, 114.6, 129.9, 114.3, 152.4, 155.1, 153.2,\n",
       "       125.2, 141.3, 104.5, 113.2, 123.8, 133.8, 132.7, 106.6, 124. ,\n",
       "       116.9, 130.4, 132. , 143.7, 152.8, 133.5, 101.8, 121.9, 148.8,\n",
       "       126.8, 115.9, 132.2, 183.5, 100.9, 110.3, 137.2, 118.4, 144.9,\n",
       "       146.8, 138. , 119.8,  95. , 144.2, 135.3, 143.9, 140.7, 118.1,\n",
       "       106.5, 137.5, 102. , 133.9, 134.7, 125.3, 106.1, 139.9, 109. ,\n",
       "       109.5, 131.6, 136.4, 132.6, 158. , 144.4, 143.3, 112.3, 180. ,\n",
       "       136.5, 137.6, 138.4, 123.5, 142.8, 155.5, 163.5, 161.9, 166.6,\n",
       "       137.7, 152.1, 162.9, 146.5, 190. , 144.3, 148.3, 107.5, 138.5,\n",
       "       113.6, 143.2, 118.3, 115.6, 112.4, 154. , 111.3, 162.5, 119. ,\n",
       "       131.1, 162. , 110.6, 156.9, 159.1, 149. , 129.6, 133.6, 146.9,\n",
       "       109.1, 129.2, 154.1, 147.2, 151.6, 111.6, 117.3, 115.7, 134.8,\n",
       "       112.6, 128.1, 143.4,  96.7, 143.1, 143.5, 151.1, 112.5, 133.1,\n",
       "       151.3, 113.8, 107.7, 128.6, 134.6, 135.7, 135.5, 127.7, 140.1,\n",
       "       105.5, 120.2, 145.6, 142. , 107.8, 109.4, 143.6, 119.5, 175.6,\n",
       "       136.9, 101.7, 112.7, 105.8, 126.4, 164.9, 157.5, 146.6, 142.2,\n",
       "       135.9, 106.8, 139.7, 146. , 108.8, 134.9, 136.6, 159. , 105.4,\n",
       "       139.1, 184. , 108.3, 147.6, 125.1, 150.3, 120.5, 120.6, 168.5,\n",
       "       108.5, 138.2, 144. , 152.3, 169.7, 117.7, 159.7, 159.9, 153.5,\n",
       "       123.1, 171.2, 153.9, 111. ,  98.9, 139.4, 154.8,  95.5, 111.1,\n",
       "       147.7, 138.3, 141.8, 125.6, 144.1, 122.4, 116.2, 139.2, 116.7,\n",
       "       155.8,  97.2, 156. , 163.7, 156.3, 153. , 141.4, 168. , 101.3,\n",
       "        98.7, 100.7, 106.2, 103. ,  98.1, 130.7, 164.3,  99. , 161.2,\n",
       "       149.9, 110.5, 137.9, 165.8, 152.5, 140.5, 104.8, 140.8, 121.2,\n",
       "       133.7, 151.9, 145.4, 115.4,  97.4, 105.2, 134.2, 146.3, 161.5,\n",
       "       148.7,  98. , 143.8, 138.7, 138.6, 155.2, 106.3,  97.5, 139.6,\n",
       "       150.6, 184.4, 150.2, 146.1, 102.6, 153.8, 137.3, 149.3, 119.2,\n",
       "       147.3, 147.5, 110.4, 148.9,   nan, 150.9,  99.3, 104.1, 176.7,\n",
       "       156.8, 144.6, 153.6, 158.3, 154.9, 100.5, 107.2, 141.2, 150.4,\n",
       "       138.9,  95.1, 157.7, 104.6, 178. , 161.1, 107.6, 145.2, 160.6,\n",
       "       145.8,  95.8, 105.6, 110.7, 106.4, 150.1, 156.5,  98.6, 146.4,\n",
       "       165.7, 156.4, 148.5, 104.7, 151.5, 139.3, 158.1, 163.3, 107.3,\n",
       "       145.7, 153.1, 161.8, 150.8, 163.6, 145.9, 105.1, 144.8, 151.2,\n",
       "       167.3, 168.2, 166. , 101.5, 112.8, 104.2, 102.2, 105.3, 149.5,\n",
       "       130.1, 108.6, 135.4, 149.7, 169.2, 144.5, 153.7, 157.8, 152.9,\n",
       "        98.5, 160.1, 160.5, 151.4, 151.7, 176. , 142.4, 141.6, 100.2,\n",
       "       152.7, 173.3, 157.4, 102.4, 162.2, 159.5, 135.2, 154.5, 105.7,\n",
       "       108.4, 109.8, 165.2, 103.6,  99.6, 167.1, 139.5, 154.3, 142.7,\n",
       "       140.3, 103.7, 162.4,  96.1, 109.6, 149.4, 101.6, 148.6, 107.4,\n",
       "       168.6, 155.9, 179.6, 141.1, 163. , 154.7, 109.9, 154.6, 148.2,\n",
       "       142.6, 147.9, 160.4, 111.4, 163.1, 102.8, 162.1, 103.8, 156.2])"
      ]
     },
     "execution_count": 34,
     "metadata": {},
     "output_type": "execute_result"
    }
   ],
   "source": [
    "student_data_df[\"Admission grade\"].unique()"
   ]
  },
  {
   "cell_type": "code",
   "execution_count": 35,
   "id": "79dfd8d1",
   "metadata": {},
   "outputs": [
    {
     "data": {
      "text/plain": [
       "array(['1', '0', '?'], dtype=object)"
      ]
     },
     "execution_count": 35,
     "metadata": {},
     "output_type": "execute_result"
    }
   ],
   "source": [
    "student_data_df[\"Displaced\"].unique()"
   ]
  },
  {
   "cell_type": "code",
   "execution_count": 36,
   "id": "15f8cb5f",
   "metadata": {},
   "outputs": [
    {
     "data": {
      "text/plain": [
       "array([0, 1], dtype=int64)"
      ]
     },
     "execution_count": 36,
     "metadata": {},
     "output_type": "execute_result"
    }
   ],
   "source": [
    "student_data_df[\"Educational special needs\"].unique()"
   ]
  },
  {
   "cell_type": "code",
   "execution_count": 37,
   "id": "0e4e9ac0",
   "metadata": {},
   "outputs": [
    {
     "data": {
      "text/plain": [
       "array([ 0.,  1., nan])"
      ]
     },
     "execution_count": 37,
     "metadata": {},
     "output_type": "execute_result"
    }
   ],
   "source": [
    "student_data_df[\"Debtor\"].unique()"
   ]
  },
  {
   "cell_type": "code",
   "execution_count": 38,
   "id": "26b3ac53",
   "metadata": {},
   "outputs": [
    {
     "data": {
      "text/plain": [
       "array(['1', '0', nan, '?'], dtype=object)"
      ]
     },
     "execution_count": 38,
     "metadata": {},
     "output_type": "execute_result"
    }
   ],
   "source": [
    "student_data_df[\"Tuition fees up to date\"].unique()"
   ]
  },
  {
   "cell_type": "code",
   "execution_count": 39,
   "id": "cf1929a7",
   "metadata": {},
   "outputs": [
    {
     "data": {
      "text/plain": [
       "array([1, 0], dtype=int64)"
      ]
     },
     "execution_count": 39,
     "metadata": {},
     "output_type": "execute_result"
    }
   ],
   "source": [
    "student_data_df[\"Gender\"].unique()"
   ]
  },
  {
   "cell_type": "code",
   "execution_count": 40,
   "id": "66562e82",
   "metadata": {},
   "outputs": [
    {
     "data": {
      "text/plain": [
       "array([0, 1], dtype=int64)"
      ]
     },
     "execution_count": 40,
     "metadata": {},
     "output_type": "execute_result"
    }
   ],
   "source": [
    "student_data_df[\"Scholarship holder\"].unique()"
   ]
  },
  {
   "cell_type": "code",
   "execution_count": 41,
   "id": "26be574d",
   "metadata": {},
   "outputs": [
    {
     "data": {
      "text/plain": [
       "array(['20', '19', '45', '50', '18', '22', '21', '34', '37', '43', '55',\n",
       "       '39', '29', '24', '27', '23', '26', '33', '35', '25', '44', '36',\n",
       "       '47', '28', '38', 'UnKnown', '30', '31', '32', '40', '42', '48',\n",
       "       '49', '46', '41', '70', '60', '53', '51', '52', '54', '61', '58',\n",
       "       '59', '17', '57', '62'], dtype=object)"
      ]
     },
     "execution_count": 41,
     "metadata": {},
     "output_type": "execute_result"
    }
   ],
   "source": [
    "student_data_df[\"Age at enrollment\"].unique()"
   ]
  },
  {
   "cell_type": "code",
   "execution_count": 42,
   "id": "0ebf6e16",
   "metadata": {},
   "outputs": [
    {
     "data": {
      "text/plain": [
       "array([ 0.,  1., nan])"
      ]
     },
     "execution_count": 42,
     "metadata": {},
     "output_type": "execute_result"
    }
   ],
   "source": [
    "student_data_df[\"International\"].unique()"
   ]
  },
  {
   "cell_type": "code",
   "execution_count": 43,
   "id": "676ec3f9",
   "metadata": {},
   "outputs": [
    {
     "data": {
      "text/plain": [
       "array([10.8, 13.9,  9.4, 16.2, 15.5,  8.9, 12.7, 11.1,  7.6, 12.4])"
      ]
     },
     "execution_count": 43,
     "metadata": {},
     "output_type": "execute_result"
    }
   ],
   "source": [
    "student_data_df[\"Unemployment rate\"].unique()"
   ]
  },
  {
   "cell_type": "code",
   "execution_count": 44,
   "id": "ef6066ab",
   "metadata": {},
   "outputs": [
    {
     "data": {
      "text/plain": [
       "array([ 1.4, -0.3, -0.8,  0.3,  2.8,  3.7,  0.6,  2.6,  0.5])"
      ]
     },
     "execution_count": 44,
     "metadata": {},
     "output_type": "execute_result"
    }
   ],
   "source": [
    "student_data_df[\"Inflation rate\"].unique()"
   ]
  },
  {
   "cell_type": "code",
   "execution_count": 45,
   "id": "7bf15518",
   "metadata": {},
   "outputs": [
    {
     "data": {
      "text/plain": [
       "array([ 1.74,  0.79, -3.12, -0.92, -4.06,  3.51, -1.7 ,  2.02,  0.32,\n",
       "        1.79])"
      ]
     },
     "execution_count": 45,
     "metadata": {},
     "output_type": "execute_result"
    }
   ],
   "source": [
    "student_data_df[\"GDP\"].unique()"
   ]
  },
  {
   "cell_type": "code",
   "execution_count": 46,
   "id": "78f5f63b",
   "metadata": {},
   "outputs": [
    {
     "data": {
      "text/plain": [
       "array(['Dropout', 'Graduate', 'Enrolled', 'Grad', 'graduate', 'Drop',\n",
       "       'dropout'], dtype=object)"
      ]
     },
     "execution_count": 46,
     "metadata": {},
     "output_type": "execute_result"
    }
   ],
   "source": [
    "student_data_df[\"Target\"].unique()"
   ]
  },
  {
   "cell_type": "markdown",
   "id": "0801f701",
   "metadata": {},
   "source": [
    "# Covert and fill functions"
   ]
  },
  {
   "cell_type": "markdown",
   "id": "f914b55d",
   "metadata": {},
   "source": [
    "I identify the columns: Marital status, Course, Father's qualification, Admission grade, Displaced, Debtor, Tuition fees up to date, Age at enrollment, International and Target.\n",
    "\n",
    "First I use pd.to_numeric(student_data_df[\"Columns Name\"], errors=\"coerce\") to convert the values that column of my dataframe to numeric type, and with any errors in Nan, using the coerced.\n",
    "\n",
    "Doing that, I created a new function to replace Nan with the minimum of each column, and used the function .fillna() to apply the new tool.\n",
    "\n",
    "And checked if did work, using again the function .unique()\n"
   ]
  },
  {
   "cell_type": "code",
   "execution_count": 47,
   "id": "d32a545d",
   "metadata": {},
   "outputs": [
    {
     "data": {
      "text/plain": [
       "array(['1', '2', '4', '?', '3', '5', '6'], dtype=object)"
      ]
     },
     "execution_count": 47,
     "metadata": {},
     "output_type": "execute_result"
    }
   ],
   "source": [
    "student_data_df[\"Marital status\"].unique()"
   ]
  },
  {
   "cell_type": "code",
   "execution_count": 48,
   "id": "c100b9e9",
   "metadata": {},
   "outputs": [],
   "source": [
    "student_data_df[\"Marital status\"]=pd.to_numeric(student_data_df[\"Marital status\"], errors=\"coerce\")"
   ]
  },
  {
   "cell_type": "code",
   "execution_count": 49,
   "id": "d652160a",
   "metadata": {},
   "outputs": [
    {
     "data": {
      "text/plain": [
       "1.0"
      ]
     },
     "execution_count": 49,
     "metadata": {},
     "output_type": "execute_result"
    }
   ],
   "source": [
    "student_data_df_min_Marital_status = student_data_df[\"Marital status\"].min()\n",
    "student_data_df_min_Marital_status"
   ]
  },
  {
   "cell_type": "code",
   "execution_count": 50,
   "id": "eebe4249",
   "metadata": {},
   "outputs": [],
   "source": [
    "student_data_df[\"Marital status\"]=student_data_df[\"Marital status\"].fillna(student_data_df_min_Marital_status)"
   ]
  },
  {
   "cell_type": "code",
   "execution_count": 51,
   "id": "87f13bc2",
   "metadata": {},
   "outputs": [
    {
     "data": {
      "text/plain": [
       "array([1., 2., 4., 3., 5., 6.])"
      ]
     },
     "execution_count": 51,
     "metadata": {},
     "output_type": "execute_result"
    }
   ],
   "source": [
    "student_data_df[\"Marital status\"].unique()"
   ]
  },
  {
   "cell_type": "code",
   "execution_count": 52,
   "id": "f0a67fa0",
   "metadata": {},
   "outputs": [
    {
     "data": {
      "text/plain": [
       "array([ 171., 9254., 9070., 9773., 8014., 9991., 9500., 9238., 9670.,\n",
       "       9853., 9085., 9130., 9556., 9147., 9003.,   33., 9119.,   nan])"
      ]
     },
     "execution_count": 52,
     "metadata": {},
     "output_type": "execute_result"
    }
   ],
   "source": [
    "student_data_df[\"Course\"].unique()"
   ]
  },
  {
   "cell_type": "code",
   "execution_count": 53,
   "id": "35edb9e5",
   "metadata": {},
   "outputs": [],
   "source": [
    "student_data_df[\"Course\"]=pd.to_numeric(student_data_df[\"Course\"], errors=\"coerce\")"
   ]
  },
  {
   "cell_type": "code",
   "execution_count": 54,
   "id": "25a6e4db",
   "metadata": {},
   "outputs": [
    {
     "data": {
      "text/plain": [
       "33.0"
      ]
     },
     "execution_count": 54,
     "metadata": {},
     "output_type": "execute_result"
    }
   ],
   "source": [
    "student_data_df_min_Course = student_data_df[\"Course\"].min()\n",
    "student_data_df_min_Course"
   ]
  },
  {
   "cell_type": "code",
   "execution_count": 55,
   "id": "73dfd607",
   "metadata": {},
   "outputs": [],
   "source": [
    "student_data_df[\"Course\"]=student_data_df[\"Course\"].fillna(student_data_df_min_Course)"
   ]
  },
  {
   "cell_type": "code",
   "execution_count": 56,
   "id": "07ab685c",
   "metadata": {},
   "outputs": [
    {
     "data": {
      "text/plain": [
       "array([ 171., 9254., 9070., 9773., 8014., 9991., 9500., 9238., 9670.,\n",
       "       9853., 9085., 9130., 9556., 9147., 9003.,   33., 9119.])"
      ]
     },
     "execution_count": 56,
     "metadata": {},
     "output_type": "execute_result"
    }
   ],
   "source": [
    "student_data_df[\"Course\"].unique()"
   ]
  },
  {
   "cell_type": "code",
   "execution_count": 57,
   "id": "1ecc2d8c",
   "metadata": {},
   "outputs": [
    {
     "data": {
      "text/plain": [
       "array([12.,  3., 37., 38.,  1., 19.,  5.,  4., 34.,  2., 39., 11.,  9.,\n",
       "       nan, 36., 26., 40., 14., 20., 35., 41., 22., 13., 29., 43., 18.,\n",
       "       42., 10.,  6., 30., 25., 44., 33., 27., 31.])"
      ]
     },
     "execution_count": 57,
     "metadata": {},
     "output_type": "execute_result"
    }
   ],
   "source": [
    "student_data_df[\"Father's qualification\"].unique()"
   ]
  },
  {
   "cell_type": "code",
   "execution_count": 58,
   "id": "04cb75a9",
   "metadata": {},
   "outputs": [],
   "source": [
    "student_data_df[\"Father's qualification\"]=pd.to_numeric(student_data_df[\"Father's qualification\"], errors=\"coerce\")"
   ]
  },
  {
   "cell_type": "code",
   "execution_count": 59,
   "id": "9415bbfb",
   "metadata": {},
   "outputs": [
    {
     "data": {
      "text/plain": [
       "1.0"
      ]
     },
     "execution_count": 59,
     "metadata": {},
     "output_type": "execute_result"
    }
   ],
   "source": [
    "student_data_df_min_Fathers_qualification = student_data_df[\"Father's qualification\"].min()\n",
    "student_data_df_min_Fathers_qualification"
   ]
  },
  {
   "cell_type": "code",
   "execution_count": 60,
   "id": "d9c35058",
   "metadata": {},
   "outputs": [],
   "source": [
    "student_data_df[\"Father's qualification\"]=student_data_df[\"Father's qualification\"].fillna(student_data_df_min_Fathers_qualification)"
   ]
  },
  {
   "cell_type": "code",
   "execution_count": 61,
   "id": "96114b5e",
   "metadata": {},
   "outputs": [
    {
     "data": {
      "text/plain": [
       "array([12.,  3., 37., 38.,  1., 19.,  5.,  4., 34.,  2., 39., 11.,  9.,\n",
       "       36., 26., 40., 14., 20., 35., 41., 22., 13., 29., 43., 18., 42.,\n",
       "       10.,  6., 30., 25., 44., 33., 27., 31.])"
      ]
     },
     "execution_count": 61,
     "metadata": {},
     "output_type": "execute_result"
    }
   ],
   "source": [
    "student_data_df[\"Father's qualification\"].unique()"
   ]
  },
  {
   "cell_type": "code",
   "execution_count": 62,
   "id": "31722d25",
   "metadata": {},
   "outputs": [
    {
     "data": {
      "text/plain": [
       "array([127.3, 142.5, 124.8, 119.6, 141.5, 114.8, 128.4, 113.1, 129.3,\n",
       "       123. , 130.6, 119.3, 130.2, 111.8, 137.1, 120.7, 137.4, 136.3,\n",
       "       124.6, 120.3, 121.8, 125.5, 114.9, 123.9, 157. , 116.4, 131. ,\n",
       "       122.1, 118.8, 150. , 130. , 138.8, 134.5, 131.4, 102.5, 128.8,\n",
       "       122.9, 113.9, 120. , 121.1, 120.4, 100.6, 121.4, 109.7, 134.1,\n",
       "       127.6, 132.4, 133.4, 126.1, 113.5, 121.3, 159.3, 129.1, 155.3,\n",
       "       139.8, 115.2, 131.9, 126. , 120.9, 128.2, 120.1, 100. , 134. ,\n",
       "       130.8, 135.8, 111.7, 132.9, 115.5, 106. , 117. , 110.2, 155.7,\n",
       "       180.4, 110. , 161. , 117.6, 128.7, 112.2, 100.8, 105. , 114. ,\n",
       "       137. , 124.9, 134.3, 111.5, 160. , 117.4, 122.2, 118.2, 106.7,\n",
       "       108.2, 107. , 136.1, 115.3, 140.4, 113.4, 118.6, 122.3, 127.9,\n",
       "       117.1, 145.3, 122.6, 128. , 123.7, 131.7, 133.2, 109.3, 113. ,\n",
       "       157.9, 112.1, 174.7, 110.1,  99.7, 121. , 119.1, 124.7, 117.2,\n",
       "       131.5, 121.7, 123.4, 132.8, 108.7, 138.1, 126.5, 127.4, 123.6,\n",
       "       122. , 125.8, 123.3, 124.4, 170. , 121.5, 108. , 132.3, 148. ,\n",
       "       113.3, 133. , 140. , 128.3, 104. , 135. , 126.6, 129. , 162.3,\n",
       "       163.4, 122.8, 118. , 129.8, 152. , 131.8, 105.9, 132.1, 129.5,\n",
       "       126.7, 116.5, 149.8, 115.1, 124.5, 136. , 126.3, 126.9, 145. ,\n",
       "       115.8, 147. , 122.5, 117.5, 127.5, 133.3,  97. , 112. , 130.5,\n",
       "       141.7, 119.7, 119.4, 155. , 122.7, 117.9, 116.8, 125.4, 127.2,\n",
       "       103.4, 123.2, 124.1,  99.5, 110.8, 118.9, 121.6, 149.2, 126.2,\n",
       "       127.8, 113.7, 117.8, 136.7, 144.7, 142.3, 143. , 100.1, 101. ,\n",
       "       116. , 135.6, 118.7, 125.7, 107.1, 127. , 154.4, 116.1, 118.5,\n",
       "       146.7, 124.3, 137.8, 147.8, 155.6, 130.9, 125. , 136.8, 151. ,\n",
       "       103.5, 134.4, 132.5, 114.7, 166.9, 125.9, 178.3, 135.1, 136.2,\n",
       "       116.3, 124.2, 127.1, 172. , 128.5, 131.2, 112.9, 140.9, 148.4,\n",
       "       129.7, 119.9, 141. , 116.6, 140.2, 146.2, 156.1, 115. , 158.7,\n",
       "       111.9, 114.2,  96. , 128.9, 131.3, 139. , 120.8, 150.5, 129.4,\n",
       "       114.4, 114.5, 130.3, 114.6, 129.9, 114.3, 152.4, 155.1, 153.2,\n",
       "       125.2, 141.3, 104.5, 113.2, 123.8, 133.8, 132.7, 106.6, 124. ,\n",
       "       116.9, 130.4, 132. , 143.7, 152.8, 133.5, 101.8, 121.9, 148.8,\n",
       "       126.8, 115.9, 132.2, 183.5, 100.9, 110.3, 137.2, 118.4, 144.9,\n",
       "       146.8, 138. , 119.8,  95. , 144.2, 135.3, 143.9, 140.7, 118.1,\n",
       "       106.5, 137.5, 102. , 133.9, 134.7, 125.3, 106.1, 139.9, 109. ,\n",
       "       109.5, 131.6, 136.4, 132.6, 158. , 144.4, 143.3, 112.3, 180. ,\n",
       "       136.5, 137.6, 138.4, 123.5, 142.8, 155.5, 163.5, 161.9, 166.6,\n",
       "       137.7, 152.1, 162.9, 146.5, 190. , 144.3, 148.3, 107.5, 138.5,\n",
       "       113.6, 143.2, 118.3, 115.6, 112.4, 154. , 111.3, 162.5, 119. ,\n",
       "       131.1, 162. , 110.6, 156.9, 159.1, 149. , 129.6, 133.6, 146.9,\n",
       "       109.1, 129.2, 154.1, 147.2, 151.6, 111.6, 117.3, 115.7, 134.8,\n",
       "       112.6, 128.1, 143.4,  96.7, 143.1, 143.5, 151.1, 112.5, 133.1,\n",
       "       151.3, 113.8, 107.7, 128.6, 134.6, 135.7, 135.5, 127.7, 140.1,\n",
       "       105.5, 120.2, 145.6, 142. , 107.8, 109.4, 143.6, 119.5, 175.6,\n",
       "       136.9, 101.7, 112.7, 105.8, 126.4, 164.9, 157.5, 146.6, 142.2,\n",
       "       135.9, 106.8, 139.7, 146. , 108.8, 134.9, 136.6, 159. , 105.4,\n",
       "       139.1, 184. , 108.3, 147.6, 125.1, 150.3, 120.5, 120.6, 168.5,\n",
       "       108.5, 138.2, 144. , 152.3, 169.7, 117.7, 159.7, 159.9, 153.5,\n",
       "       123.1, 171.2, 153.9, 111. ,  98.9, 139.4, 154.8,  95.5, 111.1,\n",
       "       147.7, 138.3, 141.8, 125.6, 144.1, 122.4, 116.2, 139.2, 116.7,\n",
       "       155.8,  97.2, 156. , 163.7, 156.3, 153. , 141.4, 168. , 101.3,\n",
       "        98.7, 100.7, 106.2, 103. ,  98.1, 130.7, 164.3,  99. , 161.2,\n",
       "       149.9, 110.5, 137.9, 165.8, 152.5, 140.5, 104.8, 140.8, 121.2,\n",
       "       133.7, 151.9, 145.4, 115.4,  97.4, 105.2, 134.2, 146.3, 161.5,\n",
       "       148.7,  98. , 143.8, 138.7, 138.6, 155.2, 106.3,  97.5, 139.6,\n",
       "       150.6, 184.4, 150.2, 146.1, 102.6, 153.8, 137.3, 149.3, 119.2,\n",
       "       147.3, 147.5, 110.4, 148.9,   nan, 150.9,  99.3, 104.1, 176.7,\n",
       "       156.8, 144.6, 153.6, 158.3, 154.9, 100.5, 107.2, 141.2, 150.4,\n",
       "       138.9,  95.1, 157.7, 104.6, 178. , 161.1, 107.6, 145.2, 160.6,\n",
       "       145.8,  95.8, 105.6, 110.7, 106.4, 150.1, 156.5,  98.6, 146.4,\n",
       "       165.7, 156.4, 148.5, 104.7, 151.5, 139.3, 158.1, 163.3, 107.3,\n",
       "       145.7, 153.1, 161.8, 150.8, 163.6, 145.9, 105.1, 144.8, 151.2,\n",
       "       167.3, 168.2, 166. , 101.5, 112.8, 104.2, 102.2, 105.3, 149.5,\n",
       "       130.1, 108.6, 135.4, 149.7, 169.2, 144.5, 153.7, 157.8, 152.9,\n",
       "        98.5, 160.1, 160.5, 151.4, 151.7, 176. , 142.4, 141.6, 100.2,\n",
       "       152.7, 173.3, 157.4, 102.4, 162.2, 159.5, 135.2, 154.5, 105.7,\n",
       "       108.4, 109.8, 165.2, 103.6,  99.6, 167.1, 139.5, 154.3, 142.7,\n",
       "       140.3, 103.7, 162.4,  96.1, 109.6, 149.4, 101.6, 148.6, 107.4,\n",
       "       168.6, 155.9, 179.6, 141.1, 163. , 154.7, 109.9, 154.6, 148.2,\n",
       "       142.6, 147.9, 160.4, 111.4, 163.1, 102.8, 162.1, 103.8, 156.2])"
      ]
     },
     "execution_count": 62,
     "metadata": {},
     "output_type": "execute_result"
    }
   ],
   "source": [
    "student_data_df[\"Admission grade\"].unique()"
   ]
  },
  {
   "cell_type": "code",
   "execution_count": 63,
   "id": "1ae9a758",
   "metadata": {},
   "outputs": [],
   "source": [
    "student_data_df[\"Admission grade\"]=pd.to_numeric(student_data_df[\"Admission grade\"], errors=\"coerce\")"
   ]
  },
  {
   "cell_type": "code",
   "execution_count": 64,
   "id": "69a6f290",
   "metadata": {},
   "outputs": [
    {
     "data": {
      "text/plain": [
       "95.0"
      ]
     },
     "execution_count": 64,
     "metadata": {},
     "output_type": "execute_result"
    }
   ],
   "source": [
    "student_data_df_min_Admission_grade = student_data_df[\"Admission grade\"].min()\n",
    "student_data_df_min_Admission_grade"
   ]
  },
  {
   "cell_type": "code",
   "execution_count": 65,
   "id": "fca5f549",
   "metadata": {},
   "outputs": [],
   "source": [
    "student_data_df[\"Admission grade\"]=student_data_df[\"Admission grade\"].fillna(student_data_df_min_Admission_grade)"
   ]
  },
  {
   "cell_type": "code",
   "execution_count": 66,
   "id": "1f4be24a",
   "metadata": {},
   "outputs": [
    {
     "data": {
      "text/plain": [
       "array([127.3, 142.5, 124.8, 119.6, 141.5, 114.8, 128.4, 113.1, 129.3,\n",
       "       123. , 130.6, 119.3, 130.2, 111.8, 137.1, 120.7, 137.4, 136.3,\n",
       "       124.6, 120.3, 121.8, 125.5, 114.9, 123.9, 157. , 116.4, 131. ,\n",
       "       122.1, 118.8, 150. , 130. , 138.8, 134.5, 131.4, 102.5, 128.8,\n",
       "       122.9, 113.9, 120. , 121.1, 120.4, 100.6, 121.4, 109.7, 134.1,\n",
       "       127.6, 132.4, 133.4, 126.1, 113.5, 121.3, 159.3, 129.1, 155.3,\n",
       "       139.8, 115.2, 131.9, 126. , 120.9, 128.2, 120.1, 100. , 134. ,\n",
       "       130.8, 135.8, 111.7, 132.9, 115.5, 106. , 117. , 110.2, 155.7,\n",
       "       180.4, 110. , 161. , 117.6, 128.7, 112.2, 100.8, 105. , 114. ,\n",
       "       137. , 124.9, 134.3, 111.5, 160. , 117.4, 122.2, 118.2, 106.7,\n",
       "       108.2, 107. , 136.1, 115.3, 140.4, 113.4, 118.6, 122.3, 127.9,\n",
       "       117.1, 145.3, 122.6, 128. , 123.7, 131.7, 133.2, 109.3, 113. ,\n",
       "       157.9, 112.1, 174.7, 110.1,  99.7, 121. , 119.1, 124.7, 117.2,\n",
       "       131.5, 121.7, 123.4, 132.8, 108.7, 138.1, 126.5, 127.4, 123.6,\n",
       "       122. , 125.8, 123.3, 124.4, 170. , 121.5, 108. , 132.3, 148. ,\n",
       "       113.3, 133. , 140. , 128.3, 104. , 135. , 126.6, 129. , 162.3,\n",
       "       163.4, 122.8, 118. , 129.8, 152. , 131.8, 105.9, 132.1, 129.5,\n",
       "       126.7, 116.5, 149.8, 115.1, 124.5, 136. , 126.3, 126.9, 145. ,\n",
       "       115.8, 147. , 122.5, 117.5, 127.5, 133.3,  97. , 112. , 130.5,\n",
       "       141.7, 119.7, 119.4, 155. , 122.7, 117.9, 116.8, 125.4, 127.2,\n",
       "       103.4, 123.2, 124.1,  99.5, 110.8, 118.9, 121.6, 149.2, 126.2,\n",
       "       127.8, 113.7, 117.8, 136.7, 144.7, 142.3, 143. , 100.1, 101. ,\n",
       "       116. , 135.6, 118.7, 125.7, 107.1, 127. , 154.4, 116.1, 118.5,\n",
       "       146.7, 124.3, 137.8, 147.8, 155.6, 130.9, 125. , 136.8, 151. ,\n",
       "       103.5, 134.4, 132.5, 114.7, 166.9, 125.9, 178.3, 135.1, 136.2,\n",
       "       116.3, 124.2, 127.1, 172. , 128.5, 131.2, 112.9, 140.9, 148.4,\n",
       "       129.7, 119.9, 141. , 116.6, 140.2, 146.2, 156.1, 115. , 158.7,\n",
       "       111.9, 114.2,  96. , 128.9, 131.3, 139. , 120.8, 150.5, 129.4,\n",
       "       114.4, 114.5, 130.3, 114.6, 129.9, 114.3, 152.4, 155.1, 153.2,\n",
       "       125.2, 141.3, 104.5, 113.2, 123.8, 133.8, 132.7, 106.6, 124. ,\n",
       "       116.9, 130.4, 132. , 143.7, 152.8, 133.5, 101.8, 121.9, 148.8,\n",
       "       126.8, 115.9, 132.2, 183.5, 100.9, 110.3, 137.2, 118.4, 144.9,\n",
       "       146.8, 138. , 119.8,  95. , 144.2, 135.3, 143.9, 140.7, 118.1,\n",
       "       106.5, 137.5, 102. , 133.9, 134.7, 125.3, 106.1, 139.9, 109. ,\n",
       "       109.5, 131.6, 136.4, 132.6, 158. , 144.4, 143.3, 112.3, 180. ,\n",
       "       136.5, 137.6, 138.4, 123.5, 142.8, 155.5, 163.5, 161.9, 166.6,\n",
       "       137.7, 152.1, 162.9, 146.5, 190. , 144.3, 148.3, 107.5, 138.5,\n",
       "       113.6, 143.2, 118.3, 115.6, 112.4, 154. , 111.3, 162.5, 119. ,\n",
       "       131.1, 162. , 110.6, 156.9, 159.1, 149. , 129.6, 133.6, 146.9,\n",
       "       109.1, 129.2, 154.1, 147.2, 151.6, 111.6, 117.3, 115.7, 134.8,\n",
       "       112.6, 128.1, 143.4,  96.7, 143.1, 143.5, 151.1, 112.5, 133.1,\n",
       "       151.3, 113.8, 107.7, 128.6, 134.6, 135.7, 135.5, 127.7, 140.1,\n",
       "       105.5, 120.2, 145.6, 142. , 107.8, 109.4, 143.6, 119.5, 175.6,\n",
       "       136.9, 101.7, 112.7, 105.8, 126.4, 164.9, 157.5, 146.6, 142.2,\n",
       "       135.9, 106.8, 139.7, 146. , 108.8, 134.9, 136.6, 159. , 105.4,\n",
       "       139.1, 184. , 108.3, 147.6, 125.1, 150.3, 120.5, 120.6, 168.5,\n",
       "       108.5, 138.2, 144. , 152.3, 169.7, 117.7, 159.7, 159.9, 153.5,\n",
       "       123.1, 171.2, 153.9, 111. ,  98.9, 139.4, 154.8,  95.5, 111.1,\n",
       "       147.7, 138.3, 141.8, 125.6, 144.1, 122.4, 116.2, 139.2, 116.7,\n",
       "       155.8,  97.2, 156. , 163.7, 156.3, 153. , 141.4, 168. , 101.3,\n",
       "        98.7, 100.7, 106.2, 103. ,  98.1, 130.7, 164.3,  99. , 161.2,\n",
       "       149.9, 110.5, 137.9, 165.8, 152.5, 140.5, 104.8, 140.8, 121.2,\n",
       "       133.7, 151.9, 145.4, 115.4,  97.4, 105.2, 134.2, 146.3, 161.5,\n",
       "       148.7,  98. , 143.8, 138.7, 138.6, 155.2, 106.3,  97.5, 139.6,\n",
       "       150.6, 184.4, 150.2, 146.1, 102.6, 153.8, 137.3, 149.3, 119.2,\n",
       "       147.3, 147.5, 110.4, 148.9, 150.9,  99.3, 104.1, 176.7, 156.8,\n",
       "       144.6, 153.6, 158.3, 154.9, 100.5, 107.2, 141.2, 150.4, 138.9,\n",
       "        95.1, 157.7, 104.6, 178. , 161.1, 107.6, 145.2, 160.6, 145.8,\n",
       "        95.8, 105.6, 110.7, 106.4, 150.1, 156.5,  98.6, 146.4, 165.7,\n",
       "       156.4, 148.5, 104.7, 151.5, 139.3, 158.1, 163.3, 107.3, 145.7,\n",
       "       153.1, 161.8, 150.8, 163.6, 145.9, 105.1, 144.8, 151.2, 167.3,\n",
       "       168.2, 166. , 101.5, 112.8, 104.2, 102.2, 105.3, 149.5, 130.1,\n",
       "       108.6, 135.4, 149.7, 169.2, 144.5, 153.7, 157.8, 152.9,  98.5,\n",
       "       160.1, 160.5, 151.4, 151.7, 176. , 142.4, 141.6, 100.2, 152.7,\n",
       "       173.3, 157.4, 102.4, 162.2, 159.5, 135.2, 154.5, 105.7, 108.4,\n",
       "       109.8, 165.2, 103.6,  99.6, 167.1, 139.5, 154.3, 142.7, 140.3,\n",
       "       103.7, 162.4,  96.1, 109.6, 149.4, 101.6, 148.6, 107.4, 168.6,\n",
       "       155.9, 179.6, 141.1, 163. , 154.7, 109.9, 154.6, 148.2, 142.6,\n",
       "       147.9, 160.4, 111.4, 163.1, 102.8, 162.1, 103.8, 156.2])"
      ]
     },
     "execution_count": 66,
     "metadata": {},
     "output_type": "execute_result"
    }
   ],
   "source": [
    "student_data_df[\"Admission grade\"].unique()"
   ]
  },
  {
   "cell_type": "code",
   "execution_count": 67,
   "id": "bc55e297",
   "metadata": {},
   "outputs": [
    {
     "data": {
      "text/plain": [
       "array(['1', '0', '?'], dtype=object)"
      ]
     },
     "execution_count": 67,
     "metadata": {},
     "output_type": "execute_result"
    }
   ],
   "source": [
    "student_data_df[\"Displaced\"].unique()"
   ]
  },
  {
   "cell_type": "code",
   "execution_count": 68,
   "id": "b1b326f9",
   "metadata": {},
   "outputs": [],
   "source": [
    "student_data_df[\"Displaced\"]=pd.to_numeric(student_data_df[\"Displaced\"], errors=\"coerce\")"
   ]
  },
  {
   "cell_type": "code",
   "execution_count": 69,
   "id": "085c238f",
   "metadata": {},
   "outputs": [
    {
     "data": {
      "text/plain": [
       "0.0"
      ]
     },
     "execution_count": 69,
     "metadata": {},
     "output_type": "execute_result"
    }
   ],
   "source": [
    "student_data_df_min_Displaced = student_data_df[\"Displaced\"].min()\n",
    "student_data_df_min_Displaced"
   ]
  },
  {
   "cell_type": "code",
   "execution_count": 70,
   "id": "0a8910c9",
   "metadata": {},
   "outputs": [],
   "source": [
    "student_data_df[\"Displaced\"]=student_data_df[\"Displaced\"].fillna(student_data_df_min_Displaced)"
   ]
  },
  {
   "cell_type": "code",
   "execution_count": 71,
   "id": "88224f18",
   "metadata": {},
   "outputs": [
    {
     "data": {
      "text/plain": [
       "array([1., 0.])"
      ]
     },
     "execution_count": 71,
     "metadata": {},
     "output_type": "execute_result"
    }
   ],
   "source": [
    "student_data_df[\"Displaced\"].unique()"
   ]
  },
  {
   "cell_type": "code",
   "execution_count": 72,
   "id": "10b1b596",
   "metadata": {},
   "outputs": [
    {
     "data": {
      "text/plain": [
       "array([ 0.,  1., nan])"
      ]
     },
     "execution_count": 72,
     "metadata": {},
     "output_type": "execute_result"
    }
   ],
   "source": [
    "student_data_df[\"Debtor\"].unique()"
   ]
  },
  {
   "cell_type": "code",
   "execution_count": 73,
   "id": "88bc1dde",
   "metadata": {},
   "outputs": [],
   "source": [
    "student_data_df[\"Debtor\"]=pd.to_numeric(student_data_df[\"Debtor\"], errors=\"coerce\")"
   ]
  },
  {
   "cell_type": "code",
   "execution_count": 74,
   "id": "084b7e07",
   "metadata": {},
   "outputs": [
    {
     "data": {
      "text/plain": [
       "0.0"
      ]
     },
     "execution_count": 74,
     "metadata": {},
     "output_type": "execute_result"
    }
   ],
   "source": [
    "student_data_df_min_Debtor = student_data_df[\"Debtor\"].min()\n",
    "student_data_df_min_Debtor"
   ]
  },
  {
   "cell_type": "code",
   "execution_count": 75,
   "id": "c0d050dc",
   "metadata": {},
   "outputs": [],
   "source": [
    "student_data_df[\"Debtor\"]=student_data_df[\"Debtor\"].fillna(student_data_df_min_Debtor)"
   ]
  },
  {
   "cell_type": "code",
   "execution_count": 76,
   "id": "66f2e25f",
   "metadata": {},
   "outputs": [
    {
     "data": {
      "text/plain": [
       "array([0., 1.])"
      ]
     },
     "execution_count": 76,
     "metadata": {},
     "output_type": "execute_result"
    }
   ],
   "source": [
    "student_data_df[\"Debtor\"].unique()"
   ]
  },
  {
   "cell_type": "code",
   "execution_count": 77,
   "id": "cf143bb7",
   "metadata": {},
   "outputs": [
    {
     "data": {
      "text/plain": [
       "array(['1', '0', nan, '?'], dtype=object)"
      ]
     },
     "execution_count": 77,
     "metadata": {},
     "output_type": "execute_result"
    }
   ],
   "source": [
    "student_data_df[\"Tuition fees up to date\"].unique()"
   ]
  },
  {
   "cell_type": "code",
   "execution_count": 78,
   "id": "3725fb33",
   "metadata": {},
   "outputs": [],
   "source": [
    "student_data_df[\"Tuition fees up to date\"]=pd.to_numeric(student_data_df[\"Tuition fees up to date\"], errors=\"coerce\")"
   ]
  },
  {
   "cell_type": "code",
   "execution_count": 79,
   "id": "d8c260c5",
   "metadata": {},
   "outputs": [
    {
     "data": {
      "text/plain": [
       "0.0"
      ]
     },
     "execution_count": 79,
     "metadata": {},
     "output_type": "execute_result"
    }
   ],
   "source": [
    "student_data_df_min_Tuition_fees_up_to_date = student_data_df[\"Tuition fees up to date\"].min()\n",
    "student_data_df_min_Tuition_fees_up_to_date"
   ]
  },
  {
   "cell_type": "code",
   "execution_count": 80,
   "id": "82cf45a1",
   "metadata": {},
   "outputs": [],
   "source": [
    "student_data_df[\"Tuition fees up to date\"]=student_data_df[\"Tuition fees up to date\"].fillna(student_data_df_min_Tuition_fees_up_to_date)"
   ]
  },
  {
   "cell_type": "code",
   "execution_count": 81,
   "id": "e61bfbaf",
   "metadata": {},
   "outputs": [
    {
     "data": {
      "text/plain": [
       "array([1., 0.])"
      ]
     },
     "execution_count": 81,
     "metadata": {},
     "output_type": "execute_result"
    }
   ],
   "source": [
    "student_data_df[\"Tuition fees up to date\"].unique()"
   ]
  },
  {
   "cell_type": "code",
   "execution_count": 82,
   "id": "dc444fe4",
   "metadata": {},
   "outputs": [
    {
     "data": {
      "text/plain": [
       "array(['20', '19', '45', '50', '18', '22', '21', '34', '37', '43', '55',\n",
       "       '39', '29', '24', '27', '23', '26', '33', '35', '25', '44', '36',\n",
       "       '47', '28', '38', 'UnKnown', '30', '31', '32', '40', '42', '48',\n",
       "       '49', '46', '41', '70', '60', '53', '51', '52', '54', '61', '58',\n",
       "       '59', '17', '57', '62'], dtype=object)"
      ]
     },
     "execution_count": 82,
     "metadata": {},
     "output_type": "execute_result"
    }
   ],
   "source": [
    "student_data_df[\"Age at enrollment\"].unique()"
   ]
  },
  {
   "cell_type": "code",
   "execution_count": 83,
   "id": "29c0ec82",
   "metadata": {},
   "outputs": [],
   "source": [
    "student_data_df[\"Age at enrollment\"]=pd.to_numeric(student_data_df[\"Age at enrollment\"], errors=\"coerce\") "
   ]
  },
  {
   "cell_type": "code",
   "execution_count": 84,
   "id": "ef01bf0d",
   "metadata": {},
   "outputs": [
    {
     "data": {
      "text/plain": [
       "array([20., 19., 45., 50., 18., 22., 21., 34., 37., 43., 55., 39., 29.,\n",
       "       24., 27., 23., 26., 33., 35., 25., 44., 36., 47., 28., 38., nan,\n",
       "       30., 31., 32., 40., 42., 48., 49., 46., 41., 70., 60., 53., 51.,\n",
       "       52., 54., 61., 58., 59., 17., 57., 62.])"
      ]
     },
     "execution_count": 84,
     "metadata": {},
     "output_type": "execute_result"
    }
   ],
   "source": [
    "student_data_df[\"Age at enrollment\"].unique()"
   ]
  },
  {
   "cell_type": "code",
   "execution_count": 85,
   "id": "8b67e0bb",
   "metadata": {},
   "outputs": [
    {
     "data": {
      "text/plain": [
       "17.0"
      ]
     },
     "execution_count": 85,
     "metadata": {},
     "output_type": "execute_result"
    }
   ],
   "source": [
    "student_data_df_min_Age_at_enrollment = student_data_df[\"Age at enrollment\"].min()\n",
    "student_data_df_min_Age_at_enrollment"
   ]
  },
  {
   "cell_type": "code",
   "execution_count": 86,
   "id": "e171a456",
   "metadata": {},
   "outputs": [],
   "source": [
    "student_data_df[\"Age at enrollment\"]=student_data_df[\"Age at enrollment\"].fillna(student_data_df_min_Age_at_enrollment)"
   ]
  },
  {
   "cell_type": "code",
   "execution_count": 87,
   "id": "2851c85f",
   "metadata": {},
   "outputs": [
    {
     "data": {
      "text/plain": [
       "array([20., 19., 45., 50., 18., 22., 21., 34., 37., 43., 55., 39., 29.,\n",
       "       24., 27., 23., 26., 33., 35., 25., 44., 36., 47., 28., 38., 17.,\n",
       "       30., 31., 32., 40., 42., 48., 49., 46., 41., 70., 60., 53., 51.,\n",
       "       52., 54., 61., 58., 59., 57., 62.])"
      ]
     },
     "execution_count": 87,
     "metadata": {},
     "output_type": "execute_result"
    }
   ],
   "source": [
    "student_data_df[\"Age at enrollment\"].unique()"
   ]
  },
  {
   "cell_type": "code",
   "execution_count": 88,
   "id": "af0deaec",
   "metadata": {},
   "outputs": [
    {
     "data": {
      "text/plain": [
       "array([ 0.,  1., nan])"
      ]
     },
     "execution_count": 88,
     "metadata": {},
     "output_type": "execute_result"
    }
   ],
   "source": [
    "student_data_df[\"International\"].unique()"
   ]
  },
  {
   "cell_type": "code",
   "execution_count": 89,
   "id": "f7bdd188",
   "metadata": {},
   "outputs": [],
   "source": [
    "student_data_df[\"International\"]=pd.to_numeric(student_data_df[\"International\"], errors=\"coerce\")"
   ]
  },
  {
   "cell_type": "code",
   "execution_count": 90,
   "id": "6c3b4d0a",
   "metadata": {},
   "outputs": [
    {
     "data": {
      "text/plain": [
       "0.0"
      ]
     },
     "execution_count": 90,
     "metadata": {},
     "output_type": "execute_result"
    }
   ],
   "source": [
    "student_data_df_min_International = student_data_df[\"International\"].min()\n",
    "student_data_df_min_International"
   ]
  },
  {
   "cell_type": "code",
   "execution_count": 91,
   "id": "480469d4",
   "metadata": {},
   "outputs": [],
   "source": [
    "student_data_df[\"International\"]=student_data_df[\"International\"].fillna(student_data_df_min_International)"
   ]
  },
  {
   "cell_type": "code",
   "execution_count": 92,
   "id": "83bb706c",
   "metadata": {},
   "outputs": [
    {
     "data": {
      "text/plain": [
       "array([0., 1.])"
      ]
     },
     "execution_count": 92,
     "metadata": {},
     "output_type": "execute_result"
    }
   ],
   "source": [
    "student_data_df[\"International\"].unique()"
   ]
  },
  {
   "cell_type": "markdown",
   "id": "8f09e3d3",
   "metadata": {},
   "source": [
    "# Replace function"
   ]
  },
  {
   "cell_type": "markdown",
   "id": "8cf6ba41",
   "metadata": {},
   "source": [
    "For the column Target we have diferent value that mean the same thing, for exemple Grad means Graduate. For clean that, we need to replace the values using the function .replace(). And by setting inplace=True, the changes are applied directly to the DataFrame without requiring reassignment."
   ]
  },
  {
   "cell_type": "code",
   "execution_count": 93,
   "id": "426a2b29",
   "metadata": {},
   "outputs": [
    {
     "data": {
      "text/plain": [
       "array(['Dropout', 'Graduate', 'Enrolled', 'Grad', 'graduate', 'Drop',\n",
       "       'dropout'], dtype=object)"
      ]
     },
     "execution_count": 93,
     "metadata": {},
     "output_type": "execute_result"
    }
   ],
   "source": [
    "student_data_df[\"Target\"].unique()"
   ]
  },
  {
   "cell_type": "code",
   "execution_count": 94,
   "id": "110d868e",
   "metadata": {},
   "outputs": [],
   "source": [
    "student_data_df[\"Target\"].replace(\"Grad\", \"Graduate\", inplace = True)"
   ]
  },
  {
   "cell_type": "code",
   "execution_count": 95,
   "id": "59c4f8a6",
   "metadata": {},
   "outputs": [],
   "source": [
    "student_data_df[\"Target\"].replace(\"graduate\", \"Graduate\", inplace = True)"
   ]
  },
  {
   "cell_type": "code",
   "execution_count": 96,
   "id": "3a486437",
   "metadata": {},
   "outputs": [],
   "source": [
    "student_data_df[\"Target\"].replace(\"Drop\", \"Dropout\", inplace = True)"
   ]
  },
  {
   "cell_type": "code",
   "execution_count": 97,
   "id": "8aca7e4d",
   "metadata": {},
   "outputs": [],
   "source": [
    "student_data_df[\"Target\"].replace(\"dropout\", \"Dropout\", inplace = True)"
   ]
  },
  {
   "cell_type": "code",
   "execution_count": 98,
   "id": "11496033",
   "metadata": {},
   "outputs": [
    {
     "data": {
      "text/plain": [
       "array(['Dropout', 'Graduate', 'Enrolled'], dtype=object)"
      ]
     },
     "execution_count": 98,
     "metadata": {},
     "output_type": "execute_result"
    }
   ],
   "source": [
    "student_data_df[\"Target\"].unique()"
   ]
  },
  {
   "cell_type": "code",
   "execution_count": 99,
   "id": "fb667d4c",
   "metadata": {},
   "outputs": [
    {
     "data": {
      "text/html": [
       "<div>\n",
       "<style scoped>\n",
       "    .dataframe tbody tr th:only-of-type {\n",
       "        vertical-align: middle;\n",
       "    }\n",
       "\n",
       "    .dataframe tbody tr th {\n",
       "        vertical-align: top;\n",
       "    }\n",
       "\n",
       "    .dataframe thead th {\n",
       "        text-align: right;\n",
       "    }\n",
       "</style>\n",
       "<table border=\"1\" class=\"dataframe\">\n",
       "  <thead>\n",
       "    <tr style=\"text-align: right;\">\n",
       "      <th></th>\n",
       "      <th>Marital status</th>\n",
       "      <th>Application mode</th>\n",
       "      <th>Application order</th>\n",
       "      <th>Course</th>\n",
       "      <th>Daytime/evening attendance</th>\n",
       "      <th>Previous qualification</th>\n",
       "      <th>Previous qualification (grade)</th>\n",
       "      <th>Nacionality</th>\n",
       "      <th>Mother's qualification</th>\n",
       "      <th>Father's qualification</th>\n",
       "      <th>...</th>\n",
       "      <th>Debtor</th>\n",
       "      <th>Tuition fees up to date</th>\n",
       "      <th>Gender</th>\n",
       "      <th>Scholarship holder</th>\n",
       "      <th>Age at enrollment</th>\n",
       "      <th>International</th>\n",
       "      <th>Unemployment rate</th>\n",
       "      <th>Inflation rate</th>\n",
       "      <th>GDP</th>\n",
       "      <th>Target</th>\n",
       "    </tr>\n",
       "  </thead>\n",
       "  <tbody>\n",
       "    <tr>\n",
       "      <th>0</th>\n",
       "      <td>1.0</td>\n",
       "      <td>17</td>\n",
       "      <td>5</td>\n",
       "      <td>171.0</td>\n",
       "      <td>1</td>\n",
       "      <td>1</td>\n",
       "      <td>122.0</td>\n",
       "      <td>1</td>\n",
       "      <td>19</td>\n",
       "      <td>12.0</td>\n",
       "      <td>...</td>\n",
       "      <td>0.0</td>\n",
       "      <td>1.0</td>\n",
       "      <td>1</td>\n",
       "      <td>0</td>\n",
       "      <td>20.0</td>\n",
       "      <td>0.0</td>\n",
       "      <td>10.8</td>\n",
       "      <td>1.4</td>\n",
       "      <td>1.74</td>\n",
       "      <td>Dropout</td>\n",
       "    </tr>\n",
       "    <tr>\n",
       "      <th>1</th>\n",
       "      <td>1.0</td>\n",
       "      <td>15</td>\n",
       "      <td>1</td>\n",
       "      <td>9254.0</td>\n",
       "      <td>1</td>\n",
       "      <td>1</td>\n",
       "      <td>160.0</td>\n",
       "      <td>1</td>\n",
       "      <td>1</td>\n",
       "      <td>3.0</td>\n",
       "      <td>...</td>\n",
       "      <td>0.0</td>\n",
       "      <td>0.0</td>\n",
       "      <td>1</td>\n",
       "      <td>0</td>\n",
       "      <td>19.0</td>\n",
       "      <td>0.0</td>\n",
       "      <td>13.9</td>\n",
       "      <td>-0.3</td>\n",
       "      <td>0.79</td>\n",
       "      <td>Graduate</td>\n",
       "    </tr>\n",
       "    <tr>\n",
       "      <th>2</th>\n",
       "      <td>1.0</td>\n",
       "      <td>1</td>\n",
       "      <td>5</td>\n",
       "      <td>9070.0</td>\n",
       "      <td>1</td>\n",
       "      <td>1</td>\n",
       "      <td>122.0</td>\n",
       "      <td>1</td>\n",
       "      <td>37</td>\n",
       "      <td>37.0</td>\n",
       "      <td>...</td>\n",
       "      <td>0.0</td>\n",
       "      <td>0.0</td>\n",
       "      <td>1</td>\n",
       "      <td>0</td>\n",
       "      <td>19.0</td>\n",
       "      <td>0.0</td>\n",
       "      <td>10.8</td>\n",
       "      <td>1.4</td>\n",
       "      <td>1.74</td>\n",
       "      <td>Dropout</td>\n",
       "    </tr>\n",
       "    <tr>\n",
       "      <th>3</th>\n",
       "      <td>1.0</td>\n",
       "      <td>17</td>\n",
       "      <td>2</td>\n",
       "      <td>9773.0</td>\n",
       "      <td>1</td>\n",
       "      <td>1</td>\n",
       "      <td>122.0</td>\n",
       "      <td>1</td>\n",
       "      <td>38</td>\n",
       "      <td>37.0</td>\n",
       "      <td>...</td>\n",
       "      <td>0.0</td>\n",
       "      <td>1.0</td>\n",
       "      <td>0</td>\n",
       "      <td>0</td>\n",
       "      <td>20.0</td>\n",
       "      <td>0.0</td>\n",
       "      <td>9.4</td>\n",
       "      <td>-0.8</td>\n",
       "      <td>-3.12</td>\n",
       "      <td>Graduate</td>\n",
       "    </tr>\n",
       "    <tr>\n",
       "      <th>4</th>\n",
       "      <td>2.0</td>\n",
       "      <td>39</td>\n",
       "      <td>1</td>\n",
       "      <td>8014.0</td>\n",
       "      <td>0</td>\n",
       "      <td>1</td>\n",
       "      <td>100.0</td>\n",
       "      <td>1</td>\n",
       "      <td>37</td>\n",
       "      <td>38.0</td>\n",
       "      <td>...</td>\n",
       "      <td>0.0</td>\n",
       "      <td>1.0</td>\n",
       "      <td>0</td>\n",
       "      <td>0</td>\n",
       "      <td>45.0</td>\n",
       "      <td>0.0</td>\n",
       "      <td>13.9</td>\n",
       "      <td>-0.3</td>\n",
       "      <td>0.79</td>\n",
       "      <td>Graduate</td>\n",
       "    </tr>\n",
       "  </tbody>\n",
       "</table>\n",
       "<p>5 rows × 25 columns</p>\n",
       "</div>"
      ],
      "text/plain": [
       "   Marital status  Application mode  Application order  Course  \\\n",
       "0             1.0                17                  5   171.0   \n",
       "1             1.0                15                  1  9254.0   \n",
       "2             1.0                 1                  5  9070.0   \n",
       "3             1.0                17                  2  9773.0   \n",
       "4             2.0                39                  1  8014.0   \n",
       "\n",
       "   Daytime/evening attendance  Previous qualification  \\\n",
       "0                           1                       1   \n",
       "1                           1                       1   \n",
       "2                           1                       1   \n",
       "3                           1                       1   \n",
       "4                           0                       1   \n",
       "\n",
       "   Previous qualification (grade)  Nacionality  Mother's qualification  \\\n",
       "0                           122.0            1                      19   \n",
       "1                           160.0            1                       1   \n",
       "2                           122.0            1                      37   \n",
       "3                           122.0            1                      38   \n",
       "4                           100.0            1                      37   \n",
       "\n",
       "   Father's qualification  ...  Debtor  Tuition fees up to date  Gender  \\\n",
       "0                    12.0  ...     0.0                      1.0       1   \n",
       "1                     3.0  ...     0.0                      0.0       1   \n",
       "2                    37.0  ...     0.0                      0.0       1   \n",
       "3                    37.0  ...     0.0                      1.0       0   \n",
       "4                    38.0  ...     0.0                      1.0       0   \n",
       "\n",
       "   Scholarship holder  Age at enrollment  International  Unemployment rate  \\\n",
       "0                   0               20.0            0.0               10.8   \n",
       "1                   0               19.0            0.0               13.9   \n",
       "2                   0               19.0            0.0               10.8   \n",
       "3                   0               20.0            0.0                9.4   \n",
       "4                   0               45.0            0.0               13.9   \n",
       "\n",
       "   Inflation rate   GDP    Target  \n",
       "0             1.4  1.74   Dropout  \n",
       "1            -0.3  0.79  Graduate  \n",
       "2             1.4  1.74   Dropout  \n",
       "3            -0.8 -3.12  Graduate  \n",
       "4            -0.3  0.79  Graduate  \n",
       "\n",
       "[5 rows x 25 columns]"
      ]
     },
     "execution_count": 99,
     "metadata": {},
     "output_type": "execute_result"
    }
   ],
   "source": [
    "student_data_df.head()"
   ]
  },
  {
   "cell_type": "markdown",
   "id": "04af704d",
   "metadata": {},
   "source": [
    "# Rename Function"
   ]
  },
  {
   "cell_type": "markdown",
   "id": "709c1a29",
   "metadata": {},
   "source": [
    "Applying one more time the function .head(), notice some / and () in my columns names, dicided rename my columns so I do not have any problems in future steps of my analyse."
   ]
  },
  {
   "cell_type": "code",
   "execution_count": 100,
   "id": "67c0e1fd",
   "metadata": {},
   "outputs": [
    {
     "name": "stdout",
     "output_type": "stream",
     "text": [
      "      Marital status  Application mode  Application order  Course  \\\n",
      "0                1.0                17                  5   171.0   \n",
      "1                1.0                15                  1  9254.0   \n",
      "2                1.0                 1                  5  9070.0   \n",
      "3                1.0                17                  2  9773.0   \n",
      "4                2.0                39                  1  8014.0   \n",
      "...              ...               ...                ...     ...   \n",
      "4419             1.0                 1                  6  9773.0   \n",
      "4420             1.0                 1                  2  9773.0   \n",
      "4421             1.0                 1                  1  9500.0   \n",
      "4422             1.0                 1                  1  9147.0   \n",
      "4423             1.0                10                  1  9773.0   \n",
      "\n",
      "      Daytime Evening Attendance  Previous qualification  \\\n",
      "0                              1                       1   \n",
      "1                              1                       1   \n",
      "2                              1                       1   \n",
      "3                              1                       1   \n",
      "4                              0                       1   \n",
      "...                          ...                     ...   \n",
      "4419                           1                       1   \n",
      "4420                           1                       1   \n",
      "4421                           1                       1   \n",
      "4422                           1                       1   \n",
      "4423                           1                       1   \n",
      "\n",
      "      Previous qualification grade  Nacionality  Mother's qualification  \\\n",
      "0                            122.0            1                      19   \n",
      "1                            160.0            1                       1   \n",
      "2                            122.0            1                      37   \n",
      "3                            122.0            1                      38   \n",
      "4                            100.0            1                      37   \n",
      "...                            ...          ...                     ...   \n",
      "4419                         125.0            1                       1   \n",
      "4420                         120.0          105                       1   \n",
      "4421                         154.0            1                      37   \n",
      "4422                         180.0            1                      37   \n",
      "4423                         152.0           22                      38   \n",
      "\n",
      "      Father's qualification  ...  Debtor  Tuition fees up to date  Gender  \\\n",
      "0                       12.0  ...     0.0                      1.0       1   \n",
      "1                        3.0  ...     0.0                      0.0       1   \n",
      "2                       37.0  ...     0.0                      0.0       1   \n",
      "3                       37.0  ...     0.0                      1.0       0   \n",
      "4                       38.0  ...     0.0                      1.0       0   \n",
      "...                      ...  ...     ...                      ...     ...   \n",
      "4419                     1.0  ...     0.0                      1.0       1   \n",
      "4420                     1.0  ...     1.0                      0.0       0   \n",
      "4421                    37.0  ...     0.0                      1.0       0   \n",
      "4422                    37.0  ...     0.0                      1.0       0   \n",
      "4423                    37.0  ...     0.0                      1.0       0   \n",
      "\n",
      "      Scholarship holder  Age at enrollment  International  Unemployment rate  \\\n",
      "0                      0               20.0            0.0               10.8   \n",
      "1                      0               19.0            0.0               13.9   \n",
      "2                      0               19.0            0.0               10.8   \n",
      "3                      0               20.0            0.0                9.4   \n",
      "4                      0               45.0            0.0               13.9   \n",
      "...                  ...                ...            ...                ...   \n",
      "4419                   0               19.0            0.0               15.5   \n",
      "4420                   0               18.0            1.0               11.1   \n",
      "4421                   1               30.0            0.0               13.9   \n",
      "4422                   1               20.0            0.0                9.4   \n",
      "4423                   0               22.0            1.0               12.7   \n",
      "\n",
      "      Inflation rate   GDP    Target  \n",
      "0                1.4  1.74   Dropout  \n",
      "1               -0.3  0.79  Graduate  \n",
      "2                1.4  1.74   Dropout  \n",
      "3               -0.8 -3.12  Graduate  \n",
      "4               -0.3  0.79  Graduate  \n",
      "...              ...   ...       ...  \n",
      "4419             2.8 -4.06  Graduate  \n",
      "4420             0.6  2.02   Dropout  \n",
      "4421            -0.3  0.79   Dropout  \n",
      "4422            -0.8 -3.12  Graduate  \n",
      "4423             3.7 -1.70  Graduate  \n",
      "\n",
      "[4424 rows x 25 columns]\n"
     ]
    }
   ],
   "source": [
    "student_data_df = student_data_df.rename(columns={\"Daytime/evening attendance\": \"Daytime Evening Attendance\"})\n",
    "student_data_df = student_data_df.rename(columns={\"Previous qualification (grade)\": \"Previous qualification grade\"})\n",
    "                                                  \n",
    "print(student_data_df)\n"
   ]
  },
  {
   "cell_type": "code",
   "execution_count": 101,
   "id": "aa11c914",
   "metadata": {},
   "outputs": [
    {
     "name": "stdout",
     "output_type": "stream",
     "text": [
      "<class 'pandas.core.frame.DataFrame'>\n",
      "RangeIndex: 4424 entries, 0 to 4423\n",
      "Data columns (total 25 columns):\n",
      " #   Column                        Non-Null Count  Dtype  \n",
      "---  ------                        --------------  -----  \n",
      " 0   Marital status                4424 non-null   float64\n",
      " 1   Application mode              4424 non-null   int64  \n",
      " 2   Application order             4424 non-null   int64  \n",
      " 3   Course                        4424 non-null   float64\n",
      " 4   Daytime Evening Attendance    4424 non-null   int64  \n",
      " 5   Previous qualification        4424 non-null   int64  \n",
      " 6   Previous qualification grade  4424 non-null   float64\n",
      " 7   Nacionality                   4424 non-null   int64  \n",
      " 8   Mother's qualification        4424 non-null   int64  \n",
      " 9   Father's qualification        4424 non-null   float64\n",
      " 10  Mother's occupation           4424 non-null   int64  \n",
      " 11  Father's occupation           4424 non-null   int64  \n",
      " 12  Admission grade               4424 non-null   float64\n",
      " 13  Displaced                     4424 non-null   float64\n",
      " 14  Educational special needs     4424 non-null   int64  \n",
      " 15  Debtor                        4424 non-null   float64\n",
      " 16  Tuition fees up to date       4424 non-null   float64\n",
      " 17  Gender                        4424 non-null   int64  \n",
      " 18  Scholarship holder            4424 non-null   int64  \n",
      " 19  Age at enrollment             4424 non-null   float64\n",
      " 20  International                 4424 non-null   float64\n",
      " 21  Unemployment rate             4424 non-null   float64\n",
      " 22  Inflation rate                4424 non-null   float64\n",
      " 23  GDP                           4424 non-null   float64\n",
      " 24  Target                        4424 non-null   object \n",
      "dtypes: float64(13), int64(11), object(1)\n",
      "memory usage: 864.2+ KB\n"
     ]
    }
   ],
   "source": [
    "student_data_df.info()"
   ]
  },
  {
   "cell_type": "code",
   "execution_count": 102,
   "id": "1d671595",
   "metadata": {},
   "outputs": [
    {
     "data": {
      "text/html": [
       "<div>\n",
       "<style scoped>\n",
       "    .dataframe tbody tr th:only-of-type {\n",
       "        vertical-align: middle;\n",
       "    }\n",
       "\n",
       "    .dataframe tbody tr th {\n",
       "        vertical-align: top;\n",
       "    }\n",
       "\n",
       "    .dataframe thead th {\n",
       "        text-align: right;\n",
       "    }\n",
       "</style>\n",
       "<table border=\"1\" class=\"dataframe\">\n",
       "  <thead>\n",
       "    <tr style=\"text-align: right;\">\n",
       "      <th></th>\n",
       "      <th>Marital status</th>\n",
       "      <th>Application mode</th>\n",
       "      <th>Application order</th>\n",
       "      <th>Course</th>\n",
       "      <th>Daytime Evening Attendance</th>\n",
       "      <th>Previous qualification</th>\n",
       "      <th>Previous qualification grade</th>\n",
       "      <th>Nacionality</th>\n",
       "      <th>Mother's qualification</th>\n",
       "      <th>Father's qualification</th>\n",
       "      <th>...</th>\n",
       "      <th>Debtor</th>\n",
       "      <th>Tuition fees up to date</th>\n",
       "      <th>Gender</th>\n",
       "      <th>Scholarship holder</th>\n",
       "      <th>Age at enrollment</th>\n",
       "      <th>International</th>\n",
       "      <th>Unemployment rate</th>\n",
       "      <th>Inflation rate</th>\n",
       "      <th>GDP</th>\n",
       "      <th>Target</th>\n",
       "    </tr>\n",
       "  </thead>\n",
       "  <tbody>\n",
       "    <tr>\n",
       "      <th>0</th>\n",
       "      <td>1.0</td>\n",
       "      <td>17</td>\n",
       "      <td>5</td>\n",
       "      <td>171.0</td>\n",
       "      <td>1</td>\n",
       "      <td>1</td>\n",
       "      <td>122.0</td>\n",
       "      <td>1</td>\n",
       "      <td>19</td>\n",
       "      <td>12.0</td>\n",
       "      <td>...</td>\n",
       "      <td>0.0</td>\n",
       "      <td>1.0</td>\n",
       "      <td>1</td>\n",
       "      <td>0</td>\n",
       "      <td>20.0</td>\n",
       "      <td>0.0</td>\n",
       "      <td>10.8</td>\n",
       "      <td>1.4</td>\n",
       "      <td>1.74</td>\n",
       "      <td>Dropout</td>\n",
       "    </tr>\n",
       "    <tr>\n",
       "      <th>1</th>\n",
       "      <td>1.0</td>\n",
       "      <td>15</td>\n",
       "      <td>1</td>\n",
       "      <td>9254.0</td>\n",
       "      <td>1</td>\n",
       "      <td>1</td>\n",
       "      <td>160.0</td>\n",
       "      <td>1</td>\n",
       "      <td>1</td>\n",
       "      <td>3.0</td>\n",
       "      <td>...</td>\n",
       "      <td>0.0</td>\n",
       "      <td>0.0</td>\n",
       "      <td>1</td>\n",
       "      <td>0</td>\n",
       "      <td>19.0</td>\n",
       "      <td>0.0</td>\n",
       "      <td>13.9</td>\n",
       "      <td>-0.3</td>\n",
       "      <td>0.79</td>\n",
       "      <td>Graduate</td>\n",
       "    </tr>\n",
       "    <tr>\n",
       "      <th>2</th>\n",
       "      <td>1.0</td>\n",
       "      <td>1</td>\n",
       "      <td>5</td>\n",
       "      <td>9070.0</td>\n",
       "      <td>1</td>\n",
       "      <td>1</td>\n",
       "      <td>122.0</td>\n",
       "      <td>1</td>\n",
       "      <td>37</td>\n",
       "      <td>37.0</td>\n",
       "      <td>...</td>\n",
       "      <td>0.0</td>\n",
       "      <td>0.0</td>\n",
       "      <td>1</td>\n",
       "      <td>0</td>\n",
       "      <td>19.0</td>\n",
       "      <td>0.0</td>\n",
       "      <td>10.8</td>\n",
       "      <td>1.4</td>\n",
       "      <td>1.74</td>\n",
       "      <td>Dropout</td>\n",
       "    </tr>\n",
       "    <tr>\n",
       "      <th>3</th>\n",
       "      <td>1.0</td>\n",
       "      <td>17</td>\n",
       "      <td>2</td>\n",
       "      <td>9773.0</td>\n",
       "      <td>1</td>\n",
       "      <td>1</td>\n",
       "      <td>122.0</td>\n",
       "      <td>1</td>\n",
       "      <td>38</td>\n",
       "      <td>37.0</td>\n",
       "      <td>...</td>\n",
       "      <td>0.0</td>\n",
       "      <td>1.0</td>\n",
       "      <td>0</td>\n",
       "      <td>0</td>\n",
       "      <td>20.0</td>\n",
       "      <td>0.0</td>\n",
       "      <td>9.4</td>\n",
       "      <td>-0.8</td>\n",
       "      <td>-3.12</td>\n",
       "      <td>Graduate</td>\n",
       "    </tr>\n",
       "    <tr>\n",
       "      <th>4</th>\n",
       "      <td>2.0</td>\n",
       "      <td>39</td>\n",
       "      <td>1</td>\n",
       "      <td>8014.0</td>\n",
       "      <td>0</td>\n",
       "      <td>1</td>\n",
       "      <td>100.0</td>\n",
       "      <td>1</td>\n",
       "      <td>37</td>\n",
       "      <td>38.0</td>\n",
       "      <td>...</td>\n",
       "      <td>0.0</td>\n",
       "      <td>1.0</td>\n",
       "      <td>0</td>\n",
       "      <td>0</td>\n",
       "      <td>45.0</td>\n",
       "      <td>0.0</td>\n",
       "      <td>13.9</td>\n",
       "      <td>-0.3</td>\n",
       "      <td>0.79</td>\n",
       "      <td>Graduate</td>\n",
       "    </tr>\n",
       "  </tbody>\n",
       "</table>\n",
       "<p>5 rows × 25 columns</p>\n",
       "</div>"
      ],
      "text/plain": [
       "   Marital status  Application mode  Application order  Course  \\\n",
       "0             1.0                17                  5   171.0   \n",
       "1             1.0                15                  1  9254.0   \n",
       "2             1.0                 1                  5  9070.0   \n",
       "3             1.0                17                  2  9773.0   \n",
       "4             2.0                39                  1  8014.0   \n",
       "\n",
       "   Daytime Evening Attendance  Previous qualification  \\\n",
       "0                           1                       1   \n",
       "1                           1                       1   \n",
       "2                           1                       1   \n",
       "3                           1                       1   \n",
       "4                           0                       1   \n",
       "\n",
       "   Previous qualification grade  Nacionality  Mother's qualification  \\\n",
       "0                         122.0            1                      19   \n",
       "1                         160.0            1                       1   \n",
       "2                         122.0            1                      37   \n",
       "3                         122.0            1                      38   \n",
       "4                         100.0            1                      37   \n",
       "\n",
       "   Father's qualification  ...  Debtor  Tuition fees up to date  Gender  \\\n",
       "0                    12.0  ...     0.0                      1.0       1   \n",
       "1                     3.0  ...     0.0                      0.0       1   \n",
       "2                    37.0  ...     0.0                      0.0       1   \n",
       "3                    37.0  ...     0.0                      1.0       0   \n",
       "4                    38.0  ...     0.0                      1.0       0   \n",
       "\n",
       "   Scholarship holder  Age at enrollment  International  Unemployment rate  \\\n",
       "0                   0               20.0            0.0               10.8   \n",
       "1                   0               19.0            0.0               13.9   \n",
       "2                   0               19.0            0.0               10.8   \n",
       "3                   0               20.0            0.0                9.4   \n",
       "4                   0               45.0            0.0               13.9   \n",
       "\n",
       "   Inflation rate   GDP    Target  \n",
       "0             1.4  1.74   Dropout  \n",
       "1            -0.3  0.79  Graduate  \n",
       "2             1.4  1.74   Dropout  \n",
       "3            -0.8 -3.12  Graduate  \n",
       "4            -0.3  0.79  Graduate  \n",
       "\n",
       "[5 rows x 25 columns]"
      ]
     },
     "execution_count": 102,
     "metadata": {},
     "output_type": "execute_result"
    }
   ],
   "source": [
    "student_data_df.head()"
   ]
  },
  {
   "cell_type": "code",
   "execution_count": 103,
   "id": "32080e17",
   "metadata": {},
   "outputs": [
    {
     "name": "stdout",
     "output_type": "stream",
     "text": [
      "Target\n"
     ]
    },
    {
     "data": {
      "text/plain": [
       "0     Dropout\n",
       "1    Graduate\n",
       "2     Dropout\n",
       "3    Graduate\n",
       "4    Graduate\n",
       "Name: Target, dtype: object"
      ]
     },
     "execution_count": 103,
     "metadata": {},
     "output_type": "execute_result"
    }
   ],
   "source": [
    "print('Target')\n",
    "student_data_df['Target'].head()"
   ]
  },
  {
   "cell_type": "markdown",
   "id": "1b33e2db",
   "metadata": {},
   "source": [
    "# Checking dataset"
   ]
  },
  {
   "cell_type": "markdown",
   "id": "ac0670f0",
   "metadata": {},
   "source": [
    "After all the cleaning done on my dataset, I now have a better visualization of my data. I still have the Target column as being of type Object, which at first, made me think that I needed to use the pd.to_numeric() function to transform it into numbers, but this will be done later, because keeping it as an object, it does not modify my data in the next step which is the PCA.\n",
    "\n",
    "\n",
    "\n",
    "\n",
    "\n",
    "\n"
   ]
  },
  {
   "cell_type": "code",
   "execution_count": 104,
   "id": "74514d0c",
   "metadata": {},
   "outputs": [
    {
     "data": {
      "text/html": [
       "<div>\n",
       "<style scoped>\n",
       "    .dataframe tbody tr th:only-of-type {\n",
       "        vertical-align: middle;\n",
       "    }\n",
       "\n",
       "    .dataframe tbody tr th {\n",
       "        vertical-align: top;\n",
       "    }\n",
       "\n",
       "    .dataframe thead th {\n",
       "        text-align: right;\n",
       "    }\n",
       "</style>\n",
       "<table border=\"1\" class=\"dataframe\">\n",
       "  <thead>\n",
       "    <tr style=\"text-align: right;\">\n",
       "      <th></th>\n",
       "      <th>Marital status</th>\n",
       "      <th>Application mode</th>\n",
       "      <th>Application order</th>\n",
       "      <th>Course</th>\n",
       "      <th>Daytime Evening Attendance</th>\n",
       "      <th>Previous qualification</th>\n",
       "      <th>Previous qualification grade</th>\n",
       "      <th>Nacionality</th>\n",
       "      <th>Mother's qualification</th>\n",
       "      <th>Father's qualification</th>\n",
       "      <th>...</th>\n",
       "      <th>Debtor</th>\n",
       "      <th>Tuition fees up to date</th>\n",
       "      <th>Gender</th>\n",
       "      <th>Scholarship holder</th>\n",
       "      <th>Age at enrollment</th>\n",
       "      <th>International</th>\n",
       "      <th>Unemployment rate</th>\n",
       "      <th>Inflation rate</th>\n",
       "      <th>GDP</th>\n",
       "      <th>Target</th>\n",
       "    </tr>\n",
       "  </thead>\n",
       "  <tbody>\n",
       "    <tr>\n",
       "      <th>0</th>\n",
       "      <td>1.0</td>\n",
       "      <td>17</td>\n",
       "      <td>5</td>\n",
       "      <td>171.0</td>\n",
       "      <td>1</td>\n",
       "      <td>1</td>\n",
       "      <td>122.0</td>\n",
       "      <td>1</td>\n",
       "      <td>19</td>\n",
       "      <td>12.0</td>\n",
       "      <td>...</td>\n",
       "      <td>0.0</td>\n",
       "      <td>1.0</td>\n",
       "      <td>1</td>\n",
       "      <td>0</td>\n",
       "      <td>20.0</td>\n",
       "      <td>0.0</td>\n",
       "      <td>10.8</td>\n",
       "      <td>1.4</td>\n",
       "      <td>1.74</td>\n",
       "      <td>Dropout</td>\n",
       "    </tr>\n",
       "    <tr>\n",
       "      <th>1</th>\n",
       "      <td>1.0</td>\n",
       "      <td>15</td>\n",
       "      <td>1</td>\n",
       "      <td>9254.0</td>\n",
       "      <td>1</td>\n",
       "      <td>1</td>\n",
       "      <td>160.0</td>\n",
       "      <td>1</td>\n",
       "      <td>1</td>\n",
       "      <td>3.0</td>\n",
       "      <td>...</td>\n",
       "      <td>0.0</td>\n",
       "      <td>0.0</td>\n",
       "      <td>1</td>\n",
       "      <td>0</td>\n",
       "      <td>19.0</td>\n",
       "      <td>0.0</td>\n",
       "      <td>13.9</td>\n",
       "      <td>-0.3</td>\n",
       "      <td>0.79</td>\n",
       "      <td>Graduate</td>\n",
       "    </tr>\n",
       "    <tr>\n",
       "      <th>2</th>\n",
       "      <td>1.0</td>\n",
       "      <td>1</td>\n",
       "      <td>5</td>\n",
       "      <td>9070.0</td>\n",
       "      <td>1</td>\n",
       "      <td>1</td>\n",
       "      <td>122.0</td>\n",
       "      <td>1</td>\n",
       "      <td>37</td>\n",
       "      <td>37.0</td>\n",
       "      <td>...</td>\n",
       "      <td>0.0</td>\n",
       "      <td>0.0</td>\n",
       "      <td>1</td>\n",
       "      <td>0</td>\n",
       "      <td>19.0</td>\n",
       "      <td>0.0</td>\n",
       "      <td>10.8</td>\n",
       "      <td>1.4</td>\n",
       "      <td>1.74</td>\n",
       "      <td>Dropout</td>\n",
       "    </tr>\n",
       "    <tr>\n",
       "      <th>3</th>\n",
       "      <td>1.0</td>\n",
       "      <td>17</td>\n",
       "      <td>2</td>\n",
       "      <td>9773.0</td>\n",
       "      <td>1</td>\n",
       "      <td>1</td>\n",
       "      <td>122.0</td>\n",
       "      <td>1</td>\n",
       "      <td>38</td>\n",
       "      <td>37.0</td>\n",
       "      <td>...</td>\n",
       "      <td>0.0</td>\n",
       "      <td>1.0</td>\n",
       "      <td>0</td>\n",
       "      <td>0</td>\n",
       "      <td>20.0</td>\n",
       "      <td>0.0</td>\n",
       "      <td>9.4</td>\n",
       "      <td>-0.8</td>\n",
       "      <td>-3.12</td>\n",
       "      <td>Graduate</td>\n",
       "    </tr>\n",
       "    <tr>\n",
       "      <th>4</th>\n",
       "      <td>2.0</td>\n",
       "      <td>39</td>\n",
       "      <td>1</td>\n",
       "      <td>8014.0</td>\n",
       "      <td>0</td>\n",
       "      <td>1</td>\n",
       "      <td>100.0</td>\n",
       "      <td>1</td>\n",
       "      <td>37</td>\n",
       "      <td>38.0</td>\n",
       "      <td>...</td>\n",
       "      <td>0.0</td>\n",
       "      <td>1.0</td>\n",
       "      <td>0</td>\n",
       "      <td>0</td>\n",
       "      <td>45.0</td>\n",
       "      <td>0.0</td>\n",
       "      <td>13.9</td>\n",
       "      <td>-0.3</td>\n",
       "      <td>0.79</td>\n",
       "      <td>Graduate</td>\n",
       "    </tr>\n",
       "  </tbody>\n",
       "</table>\n",
       "<p>5 rows × 25 columns</p>\n",
       "</div>"
      ],
      "text/plain": [
       "   Marital status  Application mode  Application order  Course  \\\n",
       "0             1.0                17                  5   171.0   \n",
       "1             1.0                15                  1  9254.0   \n",
       "2             1.0                 1                  5  9070.0   \n",
       "3             1.0                17                  2  9773.0   \n",
       "4             2.0                39                  1  8014.0   \n",
       "\n",
       "   Daytime Evening Attendance  Previous qualification  \\\n",
       "0                           1                       1   \n",
       "1                           1                       1   \n",
       "2                           1                       1   \n",
       "3                           1                       1   \n",
       "4                           0                       1   \n",
       "\n",
       "   Previous qualification grade  Nacionality  Mother's qualification  \\\n",
       "0                         122.0            1                      19   \n",
       "1                         160.0            1                       1   \n",
       "2                         122.0            1                      37   \n",
       "3                         122.0            1                      38   \n",
       "4                         100.0            1                      37   \n",
       "\n",
       "   Father's qualification  ...  Debtor  Tuition fees up to date  Gender  \\\n",
       "0                    12.0  ...     0.0                      1.0       1   \n",
       "1                     3.0  ...     0.0                      0.0       1   \n",
       "2                    37.0  ...     0.0                      0.0       1   \n",
       "3                    37.0  ...     0.0                      1.0       0   \n",
       "4                    38.0  ...     0.0                      1.0       0   \n",
       "\n",
       "   Scholarship holder  Age at enrollment  International  Unemployment rate  \\\n",
       "0                   0               20.0            0.0               10.8   \n",
       "1                   0               19.0            0.0               13.9   \n",
       "2                   0               19.0            0.0               10.8   \n",
       "3                   0               20.0            0.0                9.4   \n",
       "4                   0               45.0            0.0               13.9   \n",
       "\n",
       "   Inflation rate   GDP    Target  \n",
       "0             1.4  1.74   Dropout  \n",
       "1            -0.3  0.79  Graduate  \n",
       "2             1.4  1.74   Dropout  \n",
       "3            -0.8 -3.12  Graduate  \n",
       "4            -0.3  0.79  Graduate  \n",
       "\n",
       "[5 rows x 25 columns]"
      ]
     },
     "execution_count": 104,
     "metadata": {},
     "output_type": "execute_result"
    }
   ],
   "source": [
    "student_data_df.head()"
   ]
  },
  {
   "cell_type": "code",
   "execution_count": 105,
   "id": "c64eb262",
   "metadata": {},
   "outputs": [
    {
     "data": {
      "text/plain": [
       "Marital status                  0\n",
       "Application mode                0\n",
       "Application order               0\n",
       "Course                          0\n",
       "Daytime Evening Attendance      0\n",
       "Previous qualification          0\n",
       "Previous qualification grade    0\n",
       "Nacionality                     0\n",
       "Mother's qualification          0\n",
       "Father's qualification          0\n",
       "Mother's occupation             0\n",
       "Father's occupation             0\n",
       "Admission grade                 0\n",
       "Displaced                       0\n",
       "Educational special needs       0\n",
       "Debtor                          0\n",
       "Tuition fees up to date         0\n",
       "Gender                          0\n",
       "Scholarship holder              0\n",
       "Age at enrollment               0\n",
       "International                   0\n",
       "Unemployment rate               0\n",
       "Inflation rate                  0\n",
       "GDP                             0\n",
       "Target                          0\n",
       "dtype: int64"
      ]
     },
     "execution_count": 105,
     "metadata": {},
     "output_type": "execute_result"
    }
   ],
   "source": [
    "student_data_df.isnull().sum()"
   ]
  },
  {
   "cell_type": "markdown",
   "id": "1fcdc782",
   "metadata": {},
   "source": [
    "I use the isnull().sum() function to check one last time for the presence of non-null values and then go to the PCA"
   ]
  },
  {
   "cell_type": "code",
   "execution_count": 106,
   "id": "701fa33f",
   "metadata": {},
   "outputs": [
    {
     "name": "stdout",
     "output_type": "stream",
     "text": [
      "<class 'pandas.core.frame.DataFrame'>\n",
      "RangeIndex: 4424 entries, 0 to 4423\n",
      "Data columns (total 25 columns):\n",
      " #   Column                        Non-Null Count  Dtype  \n",
      "---  ------                        --------------  -----  \n",
      " 0   Marital status                4424 non-null   float64\n",
      " 1   Application mode              4424 non-null   int64  \n",
      " 2   Application order             4424 non-null   int64  \n",
      " 3   Course                        4424 non-null   float64\n",
      " 4   Daytime Evening Attendance    4424 non-null   int64  \n",
      " 5   Previous qualification        4424 non-null   int64  \n",
      " 6   Previous qualification grade  4424 non-null   float64\n",
      " 7   Nacionality                   4424 non-null   int64  \n",
      " 8   Mother's qualification        4424 non-null   int64  \n",
      " 9   Father's qualification        4424 non-null   float64\n",
      " 10  Mother's occupation           4424 non-null   int64  \n",
      " 11  Father's occupation           4424 non-null   int64  \n",
      " 12  Admission grade               4424 non-null   float64\n",
      " 13  Displaced                     4424 non-null   float64\n",
      " 14  Educational special needs     4424 non-null   int64  \n",
      " 15  Debtor                        4424 non-null   float64\n",
      " 16  Tuition fees up to date       4424 non-null   float64\n",
      " 17  Gender                        4424 non-null   int64  \n",
      " 18  Scholarship holder            4424 non-null   int64  \n",
      " 19  Age at enrollment             4424 non-null   float64\n",
      " 20  International                 4424 non-null   float64\n",
      " 21  Unemployment rate             4424 non-null   float64\n",
      " 22  Inflation rate                4424 non-null   float64\n",
      " 23  GDP                           4424 non-null   float64\n",
      " 24  Target                        4424 non-null   object \n",
      "dtypes: float64(13), int64(11), object(1)\n",
      "memory usage: 864.2+ KB\n"
     ]
    }
   ],
   "source": [
    "student_data_df.info()"
   ]
  },
  {
   "cell_type": "markdown",
   "id": "6af65dce",
   "metadata": {},
   "source": [
    "The next step is creates a dataset X with 4424 data points, where each data point has 2 features. It uses a specific method to generate random numbers and combines them to form the dataset. This ensures that every time you run the code, you get the same dataset."
   ]
  },
  {
   "cell_type": "code",
   "execution_count": 144,
   "id": "c62ac7c4",
   "metadata": {},
   "outputs": [],
   "source": [
    "rng = np.random.RandomState(1)\n",
    "X = np.dot(rng.rand(2,2), rng.randn(2,4424)).T"
   ]
  },
  {
   "cell_type": "code",
   "execution_count": 108,
   "id": "f0f27042",
   "metadata": {},
   "outputs": [
    {
     "data": {
      "image/png": "[encoded data removed]",
      "text/plain": [
       "<Figure size 640x480 with 1 Axes>"
      ]
     },
     "metadata": {},
     "output_type": "display_data"
    }
   ],
   "source": [
    "plt.scatter (X[:,0], X[:,1])\n",
    "plt.axis (\"equal\");"
   ]
  },
  {
   "cell_type": "markdown",
   "id": "f2522068",
   "metadata": {},
   "source": [
    "\n",
    "In Real Python it says: \"A scatter plot is a visual representation of how two variables relate to each other. You can use scatter plots to explore the relationship between two variables, for example by looking for any correlation between them.\" (https://realpython.com/visualizing-python-plt-scatter/)\n",
    "\n",
    "An important part of working with data is being able to visualize it. The code plt.scatter, simply makes a scatter plot of the dataset X. It ensures that the plot doesn't distort the data by keeping the x and y axes in proportion.\n",
    "\n",
    "In this case I used plots the 2D dataset X where each data point is represented by a dot and axis (equal), meaning the scale of the x-axis and the y-axis are equal."
   ]
  },
  {
   "cell_type": "markdown",
   "id": "60b360d2",
   "metadata": {},
   "source": [
    "# PCA Analysis"
   ]
  },
  {
   "cell_type": "markdown",
   "id": "db2a2911",
   "metadata": {},
   "source": [
    "Starting with my PCA I'm going to isolate my main Target column for the algorithm to be able to check the variance between the numbers. For that, I use the df.drop(column)."
   ]
  },
  {
   "cell_type": "code",
   "execution_count": 109,
   "id": "186630dc",
   "metadata": {},
   "outputs": [
    {
     "data": {
      "text/plain": [
       "array(['Dropout', 'Graduate', 'Enrolled'], dtype=object)"
      ]
     },
     "execution_count": 109,
     "metadata": {},
     "output_type": "execute_result"
    }
   ],
   "source": [
    "student_data_df['Target'].unique()"
   ]
  },
  {
   "cell_type": "code",
   "execution_count": 110,
   "id": "d7dd31ec",
   "metadata": {},
   "outputs": [],
   "source": [
    "student_data_df_no_label=student_data_df.drop(columns=[\"Target\"])"
   ]
  },
  {
   "cell_type": "code",
   "execution_count": 111,
   "id": "bf8d8803",
   "metadata": {},
   "outputs": [
    {
     "data": {
      "text/html": [
       "<div>\n",
       "<style scoped>\n",
       "    .dataframe tbody tr th:only-of-type {\n",
       "        vertical-align: middle;\n",
       "    }\n",
       "\n",
       "    .dataframe tbody tr th {\n",
       "        vertical-align: top;\n",
       "    }\n",
       "\n",
       "    .dataframe thead th {\n",
       "        text-align: right;\n",
       "    }\n",
       "</style>\n",
       "<table border=\"1\" class=\"dataframe\">\n",
       "  <thead>\n",
       "    <tr style=\"text-align: right;\">\n",
       "      <th></th>\n",
       "      <th>Marital status</th>\n",
       "      <th>Application mode</th>\n",
       "      <th>Application order</th>\n",
       "      <th>Course</th>\n",
       "      <th>Daytime Evening Attendance</th>\n",
       "      <th>Previous qualification</th>\n",
       "      <th>Previous qualification grade</th>\n",
       "      <th>Nacionality</th>\n",
       "      <th>Mother's qualification</th>\n",
       "      <th>Father's qualification</th>\n",
       "      <th>...</th>\n",
       "      <th>Educational special needs</th>\n",
       "      <th>Debtor</th>\n",
       "      <th>Tuition fees up to date</th>\n",
       "      <th>Gender</th>\n",
       "      <th>Scholarship holder</th>\n",
       "      <th>Age at enrollment</th>\n",
       "      <th>International</th>\n",
       "      <th>Unemployment rate</th>\n",
       "      <th>Inflation rate</th>\n",
       "      <th>GDP</th>\n",
       "    </tr>\n",
       "  </thead>\n",
       "  <tbody>\n",
       "    <tr>\n",
       "      <th>0</th>\n",
       "      <td>1.0</td>\n",
       "      <td>17</td>\n",
       "      <td>5</td>\n",
       "      <td>171.0</td>\n",
       "      <td>1</td>\n",
       "      <td>1</td>\n",
       "      <td>122.0</td>\n",
       "      <td>1</td>\n",
       "      <td>19</td>\n",
       "      <td>12.0</td>\n",
       "      <td>...</td>\n",
       "      <td>0</td>\n",
       "      <td>0.0</td>\n",
       "      <td>1.0</td>\n",
       "      <td>1</td>\n",
       "      <td>0</td>\n",
       "      <td>20.0</td>\n",
       "      <td>0.0</td>\n",
       "      <td>10.8</td>\n",
       "      <td>1.4</td>\n",
       "      <td>1.74</td>\n",
       "    </tr>\n",
       "    <tr>\n",
       "      <th>1</th>\n",
       "      <td>1.0</td>\n",
       "      <td>15</td>\n",
       "      <td>1</td>\n",
       "      <td>9254.0</td>\n",
       "      <td>1</td>\n",
       "      <td>1</td>\n",
       "      <td>160.0</td>\n",
       "      <td>1</td>\n",
       "      <td>1</td>\n",
       "      <td>3.0</td>\n",
       "      <td>...</td>\n",
       "      <td>0</td>\n",
       "      <td>0.0</td>\n",
       "      <td>0.0</td>\n",
       "      <td>1</td>\n",
       "      <td>0</td>\n",
       "      <td>19.0</td>\n",
       "      <td>0.0</td>\n",
       "      <td>13.9</td>\n",
       "      <td>-0.3</td>\n",
       "      <td>0.79</td>\n",
       "    </tr>\n",
       "    <tr>\n",
       "      <th>2</th>\n",
       "      <td>1.0</td>\n",
       "      <td>1</td>\n",
       "      <td>5</td>\n",
       "      <td>9070.0</td>\n",
       "      <td>1</td>\n",
       "      <td>1</td>\n",
       "      <td>122.0</td>\n",
       "      <td>1</td>\n",
       "      <td>37</td>\n",
       "      <td>37.0</td>\n",
       "      <td>...</td>\n",
       "      <td>0</td>\n",
       "      <td>0.0</td>\n",
       "      <td>0.0</td>\n",
       "      <td>1</td>\n",
       "      <td>0</td>\n",
       "      <td>19.0</td>\n",
       "      <td>0.0</td>\n",
       "      <td>10.8</td>\n",
       "      <td>1.4</td>\n",
       "      <td>1.74</td>\n",
       "    </tr>\n",
       "    <tr>\n",
       "      <th>3</th>\n",
       "      <td>1.0</td>\n",
       "      <td>17</td>\n",
       "      <td>2</td>\n",
       "      <td>9773.0</td>\n",
       "      <td>1</td>\n",
       "      <td>1</td>\n",
       "      <td>122.0</td>\n",
       "      <td>1</td>\n",
       "      <td>38</td>\n",
       "      <td>37.0</td>\n",
       "      <td>...</td>\n",
       "      <td>0</td>\n",
       "      <td>0.0</td>\n",
       "      <td>1.0</td>\n",
       "      <td>0</td>\n",
       "      <td>0</td>\n",
       "      <td>20.0</td>\n",
       "      <td>0.0</td>\n",
       "      <td>9.4</td>\n",
       "      <td>-0.8</td>\n",
       "      <td>-3.12</td>\n",
       "    </tr>\n",
       "    <tr>\n",
       "      <th>4</th>\n",
       "      <td>2.0</td>\n",
       "      <td>39</td>\n",
       "      <td>1</td>\n",
       "      <td>8014.0</td>\n",
       "      <td>0</td>\n",
       "      <td>1</td>\n",
       "      <td>100.0</td>\n",
       "      <td>1</td>\n",
       "      <td>37</td>\n",
       "      <td>38.0</td>\n",
       "      <td>...</td>\n",
       "      <td>0</td>\n",
       "      <td>0.0</td>\n",
       "      <td>1.0</td>\n",
       "      <td>0</td>\n",
       "      <td>0</td>\n",
       "      <td>45.0</td>\n",
       "      <td>0.0</td>\n",
       "      <td>13.9</td>\n",
       "      <td>-0.3</td>\n",
       "      <td>0.79</td>\n",
       "    </tr>\n",
       "  </tbody>\n",
       "</table>\n",
       "<p>5 rows × 24 columns</p>\n",
       "</div>"
      ],
      "text/plain": [
       "   Marital status  Application mode  Application order  Course  \\\n",
       "0             1.0                17                  5   171.0   \n",
       "1             1.0                15                  1  9254.0   \n",
       "2             1.0                 1                  5  9070.0   \n",
       "3             1.0                17                  2  9773.0   \n",
       "4             2.0                39                  1  8014.0   \n",
       "\n",
       "   Daytime Evening Attendance  Previous qualification  \\\n",
       "0                           1                       1   \n",
       "1                           1                       1   \n",
       "2                           1                       1   \n",
       "3                           1                       1   \n",
       "4                           0                       1   \n",
       "\n",
       "   Previous qualification grade  Nacionality  Mother's qualification  \\\n",
       "0                         122.0            1                      19   \n",
       "1                         160.0            1                       1   \n",
       "2                         122.0            1                      37   \n",
       "3                         122.0            1                      38   \n",
       "4                         100.0            1                      37   \n",
       "\n",
       "   Father's qualification  ...  Educational special needs  Debtor  \\\n",
       "0                    12.0  ...                          0     0.0   \n",
       "1                     3.0  ...                          0     0.0   \n",
       "2                    37.0  ...                          0     0.0   \n",
       "3                    37.0  ...                          0     0.0   \n",
       "4                    38.0  ...                          0     0.0   \n",
       "\n",
       "   Tuition fees up to date  Gender  Scholarship holder  Age at enrollment  \\\n",
       "0                      1.0       1                   0               20.0   \n",
       "1                      0.0       1                   0               19.0   \n",
       "2                      0.0       1                   0               19.0   \n",
       "3                      1.0       0                   0               20.0   \n",
       "4                      1.0       0                   0               45.0   \n",
       "\n",
       "   International  Unemployment rate  Inflation rate   GDP  \n",
       "0            0.0               10.8             1.4  1.74  \n",
       "1            0.0               13.9            -0.3  0.79  \n",
       "2            0.0               10.8             1.4  1.74  \n",
       "3            0.0                9.4            -0.8 -3.12  \n",
       "4            0.0               13.9            -0.3  0.79  \n",
       "\n",
       "[5 rows x 24 columns]"
      ]
     },
     "execution_count": 111,
     "metadata": {},
     "output_type": "execute_result"
    }
   ],
   "source": [
    "student_data_df_no_label.head()"
   ]
  },
  {
   "cell_type": "markdown",
   "id": "9e61d53e",
   "metadata": {},
   "source": [
    "## PCA "
   ]
  },
  {
   "cell_type": "code",
   "execution_count": 112,
   "id": "3aa6b36f",
   "metadata": {},
   "outputs": [],
   "source": [
    "from sklearn.decomposition import PCA\n",
    "pca = PCA().fit(student_data_df_no_label)"
   ]
  },
  {
   "cell_type": "code",
   "execution_count": 113,
   "id": "cd58a39b",
   "metadata": {},
   "outputs": [
    {
     "data": {
      "text/plain": [
       "Text(0, 0.5, 'cumulative explained variance')"
      ]
     },
     "execution_count": 113,
     "metadata": {},
     "output_type": "execute_result"
    },
    {
     "data": {
      "image/png": "[encoded data removed]",
      "text/plain": [
       "<Figure size 640x480 with 1 Axes>"
      ]
     },
     "metadata": {},
     "output_type": "display_data"
    }
   ],
   "source": [
    "plt.plot(np.cumsum(pca.explained_variance_ratio_))\n",
    "plt.xlabel(\"number of components\")\n",
    "plt.ylabel(\"cumulative explained variance\")"
   ]
  },
  {
   "cell_type": "markdown",
   "id": "cf9d153f",
   "metadata": {},
   "source": [
    "Te code plt.plot creates a plot showing how much of the total variance is explained by including different numbers of components in PCA. The x-axis represents the number of components, and the y-axis represents the cumulative explained variance.\n",
    "\n",
    "In this case we can see in the grafic that, I need minimum 10 features for retain 99.5% variance in the data.\n",
    "\n"
   ]
  },
  {
   "cell_type": "code",
   "execution_count": 114,
   "id": "d70650d9",
   "metadata": {},
   "outputs": [],
   "source": [
    "pca = PCA(10)\n",
    "projected = pca.fit_transform(student_data_df_no_label)"
   ]
  },
  {
   "cell_type": "markdown",
   "id": "d481387f",
   "metadata": {},
   "source": [
    "Knowing that I can use PCA to reduce the dimensionality of the dataset to 10 components, It then transforms the data based on this reduction and stores the result in the projected variable."
   ]
  },
  {
   "cell_type": "code",
   "execution_count": 115,
   "id": "31a1f868",
   "metadata": {},
   "outputs": [
    {
     "data": {
      "text/plain": [
       "(4424, 10)"
      ]
     },
     "execution_count": 115,
     "metadata": {},
     "output_type": "execute_result"
    }
   ],
   "source": [
    "projected.shape"
   ]
  },
  {
   "cell_type": "code",
   "execution_count": 116,
   "id": "e01084b2",
   "metadata": {},
   "outputs": [
    {
     "data": {
      "text/plain": [
       "array([[ 8.68345919e+03, -8.70463479e-01, -1.41923456e+00, ...,\n",
       "         3.87290621e+00, -3.36679164e+00, -1.29039653e+00],\n",
       "       [-3.99484170e+02, -1.37283839e+01,  2.87643348e+01, ...,\n",
       "        -3.93660894e-01, -1.64825552e+00, -3.06339275e+00],\n",
       "       [-2.15543446e+02, -2.18879040e+00, -8.65741810e+00, ...,\n",
       "        -1.71461803e-01,  9.14457124e-01,  5.55173783e-01],\n",
       "       ...,\n",
       "       [-6.45507003e+02, -3.05007564e+00, -4.29021279e+00, ...,\n",
       "         1.87813276e+00, -3.37097923e-02, -6.52985979e-01],\n",
       "       [-2.92486266e+02, -8.15910771e+00,  4.49521244e-01, ...,\n",
       "        -7.33294016e+00, -2.65830409e-01, -2.26980880e+00],\n",
       "       [-9.18505885e+02, -5.80106520e+00, -7.40588622e+00, ...,\n",
       "         4.64641274e+00,  1.61326527e-01,  2.02329053e+01]])"
      ]
     },
     "execution_count": 116,
     "metadata": {},
     "output_type": "execute_result"
    }
   ],
   "source": [
    "projected"
   ]
  },
  {
   "cell_type": "markdown",
   "id": "8504f320",
   "metadata": {},
   "source": [
    "This array contains the transformed data after applying PCA. Each row represents a data point, and each column represents a different component. These values are the coordinates of the data points in a reduced-dimensional space determined by PCA."
   ]
  },
  {
   "cell_type": "code",
   "execution_count": 117,
   "id": "ef77ebc5",
   "metadata": {},
   "outputs": [],
   "source": [
    "student_data_df_pca = pd.DataFrame(projected, columns=[\"C1\", \"C2\", \"C3\", \"C4\",\"C5\",\"C6\", \"C7\", \"C8\", \"C9\", \"C10\"])"
   ]
  },
  {
   "cell_type": "markdown",
   "id": "d75811a6",
   "metadata": {},
   "source": [
    "I create new columns in my DataFrame, and each column corresponds to a principal component obtained from the PCA process. So, my columns are C1 to C10, with each row in the DataFrame represents a data point's coordinates in the reduced-dimensional space after applying PCA.\n",
    "\n",
    "Applying pca.head() I have the result of this process."
   ]
  },
  {
   "cell_type": "code",
   "execution_count": 118,
   "id": "a712b1f8",
   "metadata": {},
   "outputs": [
    {
     "data": {
      "text/html": [
       "<div>\n",
       "<style scoped>\n",
       "    .dataframe tbody tr th:only-of-type {\n",
       "        vertical-align: middle;\n",
       "    }\n",
       "\n",
       "    .dataframe tbody tr th {\n",
       "        vertical-align: top;\n",
       "    }\n",
       "\n",
       "    .dataframe thead th {\n",
       "        text-align: right;\n",
       "    }\n",
       "</style>\n",
       "<table border=\"1\" class=\"dataframe\">\n",
       "  <thead>\n",
       "    <tr style=\"text-align: right;\">\n",
       "      <th></th>\n",
       "      <th>C1</th>\n",
       "      <th>C2</th>\n",
       "      <th>C3</th>\n",
       "      <th>C4</th>\n",
       "      <th>C5</th>\n",
       "      <th>C6</th>\n",
       "      <th>C7</th>\n",
       "      <th>C8</th>\n",
       "      <th>C9</th>\n",
       "      <th>C10</th>\n",
       "    </tr>\n",
       "  </thead>\n",
       "  <tbody>\n",
       "    <tr>\n",
       "      <th>0</th>\n",
       "      <td>8683.459186</td>\n",
       "      <td>-0.870463</td>\n",
       "      <td>-1.419235</td>\n",
       "      <td>-5.977424</td>\n",
       "      <td>-14.921609</td>\n",
       "      <td>6.705531</td>\n",
       "      <td>4.853305</td>\n",
       "      <td>3.872906</td>\n",
       "      <td>-3.366792</td>\n",
       "      <td>-1.290397</td>\n",
       "    </tr>\n",
       "    <tr>\n",
       "      <th>1</th>\n",
       "      <td>-399.484170</td>\n",
       "      <td>-13.728384</td>\n",
       "      <td>28.764335</td>\n",
       "      <td>22.795599</td>\n",
       "      <td>14.755205</td>\n",
       "      <td>1.388506</td>\n",
       "      <td>-12.464627</td>\n",
       "      <td>-0.393661</td>\n",
       "      <td>-1.648256</td>\n",
       "      <td>-3.063393</td>\n",
       "    </tr>\n",
       "    <tr>\n",
       "      <th>2</th>\n",
       "      <td>-215.543446</td>\n",
       "      <td>-2.188790</td>\n",
       "      <td>-8.657418</td>\n",
       "      <td>-27.050026</td>\n",
       "      <td>9.728579</td>\n",
       "      <td>1.952056</td>\n",
       "      <td>8.391802</td>\n",
       "      <td>-0.171462</td>\n",
       "      <td>0.914457</td>\n",
       "      <td>0.555174</td>\n",
       "    </tr>\n",
       "    <tr>\n",
       "      <th>3</th>\n",
       "      <td>-918.553035</td>\n",
       "      <td>-9.001721</td>\n",
       "      <td>-18.528920</td>\n",
       "      <td>-18.678609</td>\n",
       "      <td>1.446520</td>\n",
       "      <td>2.180258</td>\n",
       "      <td>2.608002</td>\n",
       "      <td>0.796880</td>\n",
       "      <td>1.255379</td>\n",
       "      <td>-0.088672</td>\n",
       "    </tr>\n",
       "    <tr>\n",
       "      <th>4</th>\n",
       "      <td>840.433075</td>\n",
       "      <td>-0.098459</td>\n",
       "      <td>-36.634672</td>\n",
       "      <td>-0.087040</td>\n",
       "      <td>-8.164718</td>\n",
       "      <td>3.923116</td>\n",
       "      <td>23.083734</td>\n",
       "      <td>27.406870</td>\n",
       "      <td>2.387681</td>\n",
       "      <td>0.651746</td>\n",
       "    </tr>\n",
       "  </tbody>\n",
       "</table>\n",
       "</div>"
      ],
      "text/plain": [
       "            C1         C2         C3         C4         C5        C6  \\\n",
       "0  8683.459186  -0.870463  -1.419235  -5.977424 -14.921609  6.705531   \n",
       "1  -399.484170 -13.728384  28.764335  22.795599  14.755205  1.388506   \n",
       "2  -215.543446  -2.188790  -8.657418 -27.050026   9.728579  1.952056   \n",
       "3  -918.553035  -9.001721 -18.528920 -18.678609   1.446520  2.180258   \n",
       "4   840.433075  -0.098459 -36.634672  -0.087040  -8.164718  3.923116   \n",
       "\n",
       "          C7         C8        C9       C10  \n",
       "0   4.853305   3.872906 -3.366792 -1.290397  \n",
       "1 -12.464627  -0.393661 -1.648256 -3.063393  \n",
       "2   8.391802  -0.171462  0.914457  0.555174  \n",
       "3   2.608002   0.796880  1.255379 -0.088672  \n",
       "4  23.083734  27.406870  2.387681  0.651746  "
      ]
     },
     "execution_count": 118,
     "metadata": {},
     "output_type": "execute_result"
    }
   ],
   "source": [
    "student_data_df_pca.head()"
   ]
  },
  {
   "cell_type": "markdown",
   "id": "d92bd3a9",
   "metadata": {},
   "source": [
    "The next code copies the \"Target\" column from student_data_df to student_data_df_pca, adding it as a new column. Its basically putting the columns back to the analises."
   ]
  },
  {
   "cell_type": "code",
   "execution_count": 119,
   "id": "973eef64",
   "metadata": {},
   "outputs": [],
   "source": [
    "student_data_df_pca[\"Target\"]=student_data_df[\"Target\"]"
   ]
  },
  {
   "cell_type": "code",
   "execution_count": 120,
   "id": "49319ac6",
   "metadata": {},
   "outputs": [
    {
     "data": {
      "text/html": [
       "<div>\n",
       "<style scoped>\n",
       "    .dataframe tbody tr th:only-of-type {\n",
       "        vertical-align: middle;\n",
       "    }\n",
       "\n",
       "    .dataframe tbody tr th {\n",
       "        vertical-align: top;\n",
       "    }\n",
       "\n",
       "    .dataframe thead th {\n",
       "        text-align: right;\n",
       "    }\n",
       "</style>\n",
       "<table border=\"1\" class=\"dataframe\">\n",
       "  <thead>\n",
       "    <tr style=\"text-align: right;\">\n",
       "      <th></th>\n",
       "      <th>C1</th>\n",
       "      <th>C2</th>\n",
       "      <th>C3</th>\n",
       "      <th>C4</th>\n",
       "      <th>C5</th>\n",
       "      <th>C6</th>\n",
       "      <th>C7</th>\n",
       "      <th>C8</th>\n",
       "      <th>C9</th>\n",
       "      <th>C10</th>\n",
       "      <th>Target</th>\n",
       "    </tr>\n",
       "  </thead>\n",
       "  <tbody>\n",
       "    <tr>\n",
       "      <th>0</th>\n",
       "      <td>8683.459186</td>\n",
       "      <td>-0.870463</td>\n",
       "      <td>-1.419235</td>\n",
       "      <td>-5.977424</td>\n",
       "      <td>-14.921609</td>\n",
       "      <td>6.705531</td>\n",
       "      <td>4.853305</td>\n",
       "      <td>3.872906</td>\n",
       "      <td>-3.366792</td>\n",
       "      <td>-1.290397</td>\n",
       "      <td>Dropout</td>\n",
       "    </tr>\n",
       "    <tr>\n",
       "      <th>1</th>\n",
       "      <td>-399.484170</td>\n",
       "      <td>-13.728384</td>\n",
       "      <td>28.764335</td>\n",
       "      <td>22.795599</td>\n",
       "      <td>14.755205</td>\n",
       "      <td>1.388506</td>\n",
       "      <td>-12.464627</td>\n",
       "      <td>-0.393661</td>\n",
       "      <td>-1.648256</td>\n",
       "      <td>-3.063393</td>\n",
       "      <td>Graduate</td>\n",
       "    </tr>\n",
       "    <tr>\n",
       "      <th>2</th>\n",
       "      <td>-215.543446</td>\n",
       "      <td>-2.188790</td>\n",
       "      <td>-8.657418</td>\n",
       "      <td>-27.050026</td>\n",
       "      <td>9.728579</td>\n",
       "      <td>1.952056</td>\n",
       "      <td>8.391802</td>\n",
       "      <td>-0.171462</td>\n",
       "      <td>0.914457</td>\n",
       "      <td>0.555174</td>\n",
       "      <td>Dropout</td>\n",
       "    </tr>\n",
       "    <tr>\n",
       "      <th>3</th>\n",
       "      <td>-918.553035</td>\n",
       "      <td>-9.001721</td>\n",
       "      <td>-18.528920</td>\n",
       "      <td>-18.678609</td>\n",
       "      <td>1.446520</td>\n",
       "      <td>2.180258</td>\n",
       "      <td>2.608002</td>\n",
       "      <td>0.796880</td>\n",
       "      <td>1.255379</td>\n",
       "      <td>-0.088672</td>\n",
       "      <td>Graduate</td>\n",
       "    </tr>\n",
       "    <tr>\n",
       "      <th>4</th>\n",
       "      <td>840.433075</td>\n",
       "      <td>-0.098459</td>\n",
       "      <td>-36.634672</td>\n",
       "      <td>-0.087040</td>\n",
       "      <td>-8.164718</td>\n",
       "      <td>3.923116</td>\n",
       "      <td>23.083734</td>\n",
       "      <td>27.406870</td>\n",
       "      <td>2.387681</td>\n",
       "      <td>0.651746</td>\n",
       "      <td>Graduate</td>\n",
       "    </tr>\n",
       "  </tbody>\n",
       "</table>\n",
       "</div>"
      ],
      "text/plain": [
       "            C1         C2         C3         C4         C5        C6  \\\n",
       "0  8683.459186  -0.870463  -1.419235  -5.977424 -14.921609  6.705531   \n",
       "1  -399.484170 -13.728384  28.764335  22.795599  14.755205  1.388506   \n",
       "2  -215.543446  -2.188790  -8.657418 -27.050026   9.728579  1.952056   \n",
       "3  -918.553035  -9.001721 -18.528920 -18.678609   1.446520  2.180258   \n",
       "4   840.433075  -0.098459 -36.634672  -0.087040  -8.164718  3.923116   \n",
       "\n",
       "          C7         C8        C9       C10    Target  \n",
       "0   4.853305   3.872906 -3.366792 -1.290397   Dropout  \n",
       "1 -12.464627  -0.393661 -1.648256 -3.063393  Graduate  \n",
       "2   8.391802  -0.171462  0.914457  0.555174   Dropout  \n",
       "3   2.608002   0.796880  1.255379 -0.088672  Graduate  \n",
       "4  23.083734  27.406870  2.387681  0.651746  Graduate  "
      ]
     },
     "execution_count": 120,
     "metadata": {},
     "output_type": "execute_result"
    }
   ],
   "source": [
    "student_data_df_pca.head()"
   ]
  },
  {
   "cell_type": "code",
   "execution_count": 121,
   "id": "3dbb4ae9",
   "metadata": {},
   "outputs": [],
   "source": [
    "student_data_df_array = student_data_df_pca.values"
   ]
  },
  {
   "cell_type": "code",
   "execution_count": 122,
   "id": "f3ca91e6",
   "metadata": {},
   "outputs": [
    {
     "data": {
      "text/plain": [
       "array([[8683.459185709082, -0.870463478737331, -1.4192345560618662, ...,\n",
       "        -3.3667916439319168, -1.290396529020681, 'Dropout'],\n",
       "       [-399.4841703558839, -13.728383923995523, 28.76433476571061, ...,\n",
       "        -1.6482555200257392, -3.063392746174771, 'Graduate'],\n",
       "       [-215.54344609589538, -2.188790399002526, -8.657418098775853, ...,\n",
       "        0.9144571240193877, 0.5551737828073676, 'Dropout'],\n",
       "       ...,\n",
       "       [-645.5070027832461, -3.050075643515639, -4.290212786816136, ...,\n",
       "        -0.03370979231646015, -0.652985978662221, 'Dropout'],\n",
       "       [-292.4862655984378, -8.15910770983163, 0.4495212439486087, ...,\n",
       "        -0.2658304086302327, -2.269808796655786, 'Graduate'],\n",
       "       [-918.5058853397625, -5.8010652037557575, -7.405886224937079, ...,\n",
       "        0.16132652682775284, 20.232905284163873, 'Graduate']],\n",
       "      dtype=object)"
      ]
     },
     "execution_count": 122,
     "metadata": {},
     "output_type": "execute_result"
    }
   ],
   "source": [
    "student_data_df_array"
   ]
  },
  {
   "cell_type": "markdown",
   "id": "5d77c280",
   "metadata": {},
   "source": [
    "And the results for my dataset array I got all the dataset PCA values. "
   ]
  },
  {
   "cell_type": "code",
   "execution_count": 123,
   "id": "df7363ce",
   "metadata": {},
   "outputs": [],
   "source": [
    "from sklearn.model_selection import train_test_split\n",
    "X = student_data_df_array[:,0:10]\n",
    "y = student_data_df_array[:,10]\n",
    "X_train, X_validation, Y_train, Y_validation = train_test_split(X, y, test_size=0.20, random_state=1)"
   ]
  },
  {
   "cell_type": "markdown",
   "id": "60e0d66f",
   "metadata": {},
   "source": [
    "In this step of my analyse, I will use train_test_split function, to split my data into training and validation, separate arrays containing features and target variables for both training and validation sets and, to evaluate my model performance on unseen data.\n"
   ]
  },
  {
   "cell_type": "code",
   "execution_count": 124,
   "id": "3369a3e3",
   "metadata": {},
   "outputs": [],
   "source": [
    "from matplotlib import pyplot\n",
    "from sklearn.model_selection import train_test_split\n",
    "from sklearn.model_selection import cross_val_score\n",
    "from sklearn.model_selection import StratifiedKFold\n",
    "from sklearn.linear_model import LogisticRegression\n",
    "from sklearn.tree import DecisionTreeClassifier\n",
    "from sklearn.neighbors import KNeighborsClassifier\n",
    "from sklearn.discriminant_analysis import LinearDiscriminantAnalysis\n",
    "from sklearn.naive_bayes import GaussianNB\n",
    "from sklearn.metrics import classification_report\n",
    "from sklearn.metrics import confusion_matrix\n",
    "from sklearn.metrics import accuracy_score\n",
    "from sklearn.svm import SVC"
   ]
  },
  {
   "cell_type": "code",
   "execution_count": 125,
   "id": "a7bdb4c6",
   "metadata": {},
   "outputs": [],
   "source": [
    "models = []\n",
    "models.append(('LR', LogisticRegression(solver='liblinear', multi_class='ovr')))\n",
    "models.append(('LDA', LinearDiscriminantAnalysis()))\n",
    "models.append(('KNN', KNeighborsClassifier()))\n",
    "models.append(('CART', DecisionTreeClassifier()))\n",
    "models.append(('NB', GaussianNB()))\n",
    "models.append(('SVM', SVC(gamma='auto')))"
   ]
  },
  {
   "cell_type": "markdown",
   "id": "d46349ad",
   "metadata": {},
   "source": [
    "I dowloaded some more library that I belive will help with my next step and created a list of machine learning models along with their respective configurations.\n",
    "\n",
    "Doing that, I will use the technique cross-validation, to split into parts for training and testing multiple times. It measures the accuracy of each model in predicting the correct outcome. The results, including the average accuracy and its variability, are printed out for each model."
   ]
  },
  {
   "cell_type": "code",
   "execution_count": 126,
   "id": "b5e8da90",
   "metadata": {},
   "outputs": [
    {
     "name": "stdout",
     "output_type": "stream",
     "text": [
      "LR: 0.545354 (0.018361)\n",
      "LDA: 0.543940 (0.018205)\n",
      "KNN: 0.514556 (0.021977)\n",
      "CART: 0.442210 (0.020587)\n",
      "NB: 0.499574 (0.025125)\n",
      "SVM: 0.494773 (0.008139)\n"
     ]
    }
   ],
   "source": [
    "results = []\n",
    "names = []\n",
    "for name, model in models:\n",
    "\tkfold = StratifiedKFold(n_splits=10, random_state=1, shuffle=True)\n",
    "\tcv_results = cross_val_score(model, X_train, Y_train, cv=kfold, scoring='accuracy')\n",
    "\tresults.append(cv_results)\n",
    "\tnames.append(name)\n",
    "\tprint('%s: %f (%f)' % (name, cv_results.mean(), cv_results.std()))"
   ]
  },
  {
   "cell_type": "markdown",
   "id": "5d3f2e44",
   "metadata": {},
   "source": [
    "To understand my results, I need to understand the abbreviations, which according to the book\n",
    "\n",
    "Linear Regression is a supervised machine learning algorithm. It predicts a linear relationship between an independent variable (y), based on the given dependant variables (x). Such that the independent variable (y) has the lowest cost. (https://towardsdatascience.com/complete-guide-to-linear-regression-in-python-d95175447255)\n",
    "\n",
    "Linear discriminant analysis is a method you can use when you have a set of predictor variables and you’d like to classify a response variable into two or more classes. (https://www.statology.org/linear-discriminant-analysis-in-python/)\n",
    "\n",
    "KNN is a simple and a very effective supervised machine learning algorithm. It belongs to the family of instance-based, non-parametric algorithms, meaning it makes predictions based on the similarity of input data points. KNN basically makes predictions based on the similarity of data points in the sample space. The performance of KNN is basically based on the choice of K. KNN works by memorizing the entire training dataset. When a new data point is given for prediction, KNN looks at the k-nearest data points in the training set based on a specified distance metric (commonly Euclidean distance). (https://www.geeksforgeeks.org/svm-vs-knn-in-machine-learning/)\n",
    "\n",
    "CART( Classification And Regression Trees) is a  variation of the decision tree algorithm. It can handle both classification and regression tasks. Scikit-Learn uses the Classification And Regression Tree (CART) algorithm to train  Decision Trees (also called “growing” trees). (https://www.geeksforgeeks.org/cart-classification-and-regression-tree-in-machine-learning/)\n",
    "\n",
    "A family of algorithms known as “naive Bayes classifiers” use the Bayes Theorem with the strong (naive) presumption that every feature in the dataset is unrelated to every other feature. Naive Bayes classifiers perform very well in a variety of real-world situations despite this simplicity. The Naive Bayes classifier is a probabilistic algorithm based on Bayes’ theorem. It assumes that features are conditionally independent, given the class label. Despite its ‘naive’ assumption, Naive Bayes often performs well in various real-world scenarios. (https://www.geeksforgeeks.org/gaussian-naive-bayes-using-sklearn/)\n",
    "\n",
    "Support Vector Machine is a effective supervised machine learning algorithm used for classification and regression tasks. The main objective of SVM is to find an optimal hyperplane that best separates the data into different classes in a high-dimensional space. The hyperplane is chosen to maximize the margin, which is the distance between the hyperplane and the nearest data points (support vectors) of each class. Kernel functions are used for transforming lower dimensional input space to higher dimensional output. (https://www.geeksforgeeks.org/svm-vs-knn-in-machine-learning/)\n",
    "\n",
    "So we have the results, the first being Mean Accuracy and the second Standard Deviation of each variable.\n",
    "Accuracy is a measure of the correctness of predictions made by a model and Standard deviation measures the amount of variation or dispersion in a set of values."
   ]
  },
  {
   "cell_type": "code",
   "execution_count": 145,
   "id": "9e819b57",
   "metadata": {},
   "outputs": [
    {
     "data": {
      "image/png": "[encoded data removed]",
      "text/plain": [
       "<Figure size 640x480 with 1 Axes>"
      ]
     },
     "metadata": {},
     "output_type": "display_data"
    }
   ],
   "source": [
    "pyplot.boxplot(results, labels=names)\n",
    "pyplot.title('Algorithm Comparison')\n",
    "pyplot.show()"
   ]
  },
  {
   "cell_type": "markdown",
   "id": "2baf3cda",
   "metadata": {},
   "source": [
    "At the top, using the boxplot we can visialize the distribution of results from each algorithm, allowing for a quick comparison of their relative performance. The box plot suggests that the results of the algorithms are predominantly below the value of less than 0.60."
   ]
  },
  {
   "cell_type": "code",
   "execution_count": 128,
   "id": "85466d19",
   "metadata": {},
   "outputs": [],
   "source": [
    "model = LogisticRegression(solver='liblinear', multi_class='ovr')\n",
    "model.fit(X_train, Y_train)\n",
    "predictions = model.predict(X_validation)"
   ]
  },
  {
   "cell_type": "code",
   "execution_count": 129,
   "id": "7535cd2d",
   "metadata": {},
   "outputs": [
    {
     "name": "stdout",
     "output_type": "stream",
     "text": [
      "0.5344632768361582\n",
      "[[108   1 165]\n",
      " [ 39   2 126]\n",
      " [ 80   1 363]]\n"
     ]
    }
   ],
   "source": [
    "print(accuracy_score(Y_validation, predictions))\n",
    "print(confusion_matrix(Y_validation, predictions))"
   ]
  },
  {
   "cell_type": "markdown",
   "id": "f8a5e18b",
   "metadata": {},
   "source": [
    "Taking the Logistic Regression Model, I tested and print score. \n",
    "The accuracy is 0.5344, indicating that the model's predictions were correct for around 53.45% of the instances in my dataset.\n",
    "The result show me an 3x3 matrix, thats represent true positive, false positive, true negative, and false negative.\n",
    "For the first class, there were 108 true positives, 1 false positive, and 165 false negatives. \n",
    "For the second class, there were 2 true positives, 39 false negatives, and 126 false positives. \n",
    "For the third class, there were 363 true negatives, 80 false negatives, and 1 false positive."
   ]
  },
  {
   "cell_type": "markdown",
   "id": "014e2ed0",
   "metadata": {},
   "source": [
    "# LabelEncoder"
   ]
  },
  {
   "cell_type": "markdown",
   "id": "444ae8ce",
   "metadata": {},
   "source": [
    "LabelEnconder is used to convert categorical labels into numerical values. From my cleaning, I still have the column Target that were type Object, and I have Dropout, Graduate, Enrolled as label that need to be changed for numbers."
   ]
  },
  {
   "cell_type": "code",
   "execution_count": 130,
   "id": "a706e877",
   "metadata": {},
   "outputs": [],
   "source": [
    "from sklearn.preprocessing import LabelEncoder"
   ]
  },
  {
   "cell_type": "code",
   "execution_count": 131,
   "id": "29211b89",
   "metadata": {},
   "outputs": [],
   "source": [
    "from numpy import asarray"
   ]
  },
  {
   "cell_type": "code",
   "execution_count": 132,
   "id": "0742ce0b",
   "metadata": {},
   "outputs": [],
   "source": [
    "data = asarray([[\"Dropout\"], [\"Graduate\"], [\"Enrolled\"]])"
   ]
  },
  {
   "cell_type": "code",
   "execution_count": 133,
   "id": "b0b2d5e4",
   "metadata": {},
   "outputs": [
    {
     "data": {
      "text/plain": [
       "array([['Dropout'],\n",
       "       ['Graduate'],\n",
       "       ['Enrolled']], dtype='<U8')"
      ]
     },
     "execution_count": 133,
     "metadata": {},
     "output_type": "execute_result"
    }
   ],
   "source": [
    "data"
   ]
  },
  {
   "cell_type": "code",
   "execution_count": 134,
   "id": "6bb9d54d",
   "metadata": {},
   "outputs": [],
   "source": [
    "encoder = LabelEncoder()"
   ]
  },
  {
   "cell_type": "code",
   "execution_count": 135,
   "id": "515bc751",
   "metadata": {},
   "outputs": [
    {
     "name": "stderr",
     "output_type": "stream",
     "text": [
      "C:\\Users\\denis\\anaconda3\\Lib\\site-packages\\sklearn\\preprocessing\\_label.py:114: DataConversionWarning: A column-vector y was passed when a 1d array was expected. Please change the shape of y to (n_samples, ), for example using ravel().\n",
      "  y = column_or_1d(y, warn=True)\n"
     ]
    }
   ],
   "source": [
    "result=encoder.fit_transform(data)"
   ]
  },
  {
   "cell_type": "code",
   "execution_count": 136,
   "id": "0f937391",
   "metadata": {},
   "outputs": [
    {
     "data": {
      "text/plain": [
       "array([0, 2, 1], dtype=int64)"
      ]
     },
     "execution_count": 136,
     "metadata": {},
     "output_type": "execute_result"
    }
   ],
   "source": [
    "result"
   ]
  },
  {
   "cell_type": "markdown",
   "id": "f7cd8bb5",
   "metadata": {},
   "source": [
    "The result shows that my labels are now 0, 1 and 2."
   ]
  },
  {
   "cell_type": "markdown",
   "id": "e642f75a",
   "metadata": {},
   "source": [
    "# OneHotEnconder"
   ]
  },
  {
   "cell_type": "markdown",
   "id": "d99260c6",
   "metadata": {},
   "source": [
    "The OneHotEncoder converts categorical features into a binary matrix where each column represents a unique category, and each row indicates whether that category is present(1) or absent(0)."
   ]
  },
  {
   "cell_type": "code",
   "execution_count": 137,
   "id": "4117e81e",
   "metadata": {},
   "outputs": [],
   "source": [
    "from sklearn.preprocessing import OneHotEncoder"
   ]
  },
  {
   "cell_type": "code",
   "execution_count": 138,
   "id": "363d43fb",
   "metadata": {},
   "outputs": [],
   "source": [
    "encoder = OneHotEncoder(sparse=False)"
   ]
  },
  {
   "cell_type": "code",
   "execution_count": 139,
   "id": "e3ba6939",
   "metadata": {},
   "outputs": [
    {
     "name": "stderr",
     "output_type": "stream",
     "text": [
      "C:\\Users\\denis\\anaconda3\\Lib\\site-packages\\sklearn\\preprocessing\\_encoders.py:972: FutureWarning: `sparse` was renamed to `sparse_output` in version 1.2 and will be removed in 1.4. `sparse_output` is ignored unless you leave `sparse` to its default value.\n",
      "  warnings.warn(\n"
     ]
    }
   ],
   "source": [
    "result=encoder.fit_transform(data)"
   ]
  },
  {
   "cell_type": "code",
   "execution_count": 140,
   "id": "dd268878",
   "metadata": {},
   "outputs": [
    {
     "data": {
      "text/plain": [
       "array([[1., 0., 0.],\n",
       "       [0., 0., 1.],\n",
       "       [0., 1., 0.]])"
      ]
     },
     "execution_count": 140,
     "metadata": {},
     "output_type": "execute_result"
    }
   ],
   "source": [
    "result"
   ]
  },
  {
   "cell_type": "markdown",
   "id": "0e4725ca",
   "metadata": {},
   "source": [
    "And the result is the representation of my matrix."
   ]
  },
  {
   "cell_type": "markdown",
   "id": "294f7800",
   "metadata": {},
   "source": [
    "# VISUALIZATION:"
   ]
  },
  {
   "cell_type": "code",
   "execution_count": 142,
   "id": "74a0a012",
   "metadata": {},
   "outputs": [
    {
     "data": {
      "image/png": "[encoded data removed]",
      "text/plain": [
       "<Figure size 640x480 with 1 Axes>"
      ]
     },
     "metadata": {},
     "output_type": "display_data"
    }
   ],
   "source": [
    "import matplotlib.pyplot as plt\n",
    "\n",
    "# Example data\n",
    "x = student_data_df[\"Target\"]\n",
    "y = student_data_df[\"Course\"]\n",
    "\n",
    "# Plotting the data\n",
    "plt.plot(x, y, label='Data')\n",
    "plt.title('Student Data')\n",
    "plt.xlabel('X-axis')\n",
    "plt.ylabel('Y-axis')\n",
    "plt.legend()\n",
    "plt.grid(True)\n",
    "\n",
    "# Displaying the plot\n",
    "plt.show()\n"
   ]
  },
  {
   "cell_type": "markdown",
   "id": "50e1f036",
   "metadata": {},
   "source": [
    "\n",
    "References: \n",
    "https://www.geeksforgeeks.org/svm-vs-knn-in-machine-learning/\n",
    "https://www.geeksforgeeks.org/cart-classification-and-regression-tree-in-machine-learning/\n",
    "https://towardsdatascience.com/complete-guide-to-linear-regression-in-python-d95175447255\n",
    "https://www.geeksforgeeks.org/gaussian-naive-bayes-using-sklearn/\n",
    "https://www.statology.org/linear-discriminant-analysis-in-python/\n"
   ]
  },
  {
   "cell_type": "code",
   "execution_count": null,
   "id": "3bf171b8",
   "metadata": {},
   "outputs": [],
   "source": []
  }
 ],
 "metadata": {
  "kernelspec": {
   "display_name": "Python 3 (ipykernel)",
   "language": "python",
   "name": "python3"
  },
  "language_info": {
   "codemirror_mode": {
    "name": "ipython",
    "version": 3
   },
   "file_extension": ".py",
   "mimetype": "text/x-python",
   "name": "python",
   "nbconvert_exporter": "python",
   "pygments_lexer": "ipython3",
   "version": "3.11.5"
  }
 },
 "nbformat": 4,
 "nbformat_minor": 5
}
